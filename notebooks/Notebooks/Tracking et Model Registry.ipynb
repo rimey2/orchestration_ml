{
 "cells": [
  {
   "cell_type": "markdown",
   "metadata": {
    "type": "intro"
   },
   "source": [
    "Jusqu'à maintenant, nous avons vu avec MLflow la puissance du composant Tracking, qui permettait de fournir un historique des expérimentations réalisées en gardant une tracabilité des hyper-paramètres utilisés, des métriques obtenus mais également des artifacts générés (modèle, graphique).\n",
    "\n",
    "Il y a également un autre composant particulièrement utile en tant que ML Engineer : c'est le **registre de modèle**. À l'instar d'un dépôt Git, le registre de modèle MLflow permettra de gérer plusieurs versions de modèles en leur attribuant également des tags, qui correspondent à des environnement de pré-production (*staging*) et de production.\n",
    "\n",
    "<blockquote><p>🙋 <b>Ce que nous allons faire</b></p>\n",
    "<ul>\n",
    "    <li>Intégrer le tracking MLflow dans Kedro</li>\n",
    "    <li>Créer un modèle packagé sous MLflow</li>\n",
    "    <li>Versioner les modèles dans Kedro</li>\n",
    "</ul>\n",
    "</blockquote>"
   ]
  },
  {
   "cell_type": "markdown",
   "metadata": {},
   "source": [
    "## Tracking MLflow sous Kedro\n",
    "\n",
    "Dans le Notebook MLflow, nous avions entraîné un LightGBM manuellement et l'avons envoyé directement sur MLflow et Cloud Storage. L'objectif ici est de modifier le pipeline `training` sous Kedro pour y ajouter l'intégration avec MLflow.\n",
    "\n",
    "Commençons par ajouter une variable d'environnement. Sous Python, le package `python-dotenv` est utile pour récupérer les variables d'environnement ou pour en configurer automatiquement lors du développement du projet."
   ]
  },
  {
   "cell_type": "raw",
   "metadata": {
    "format": "bash"
   },
   "source": [
    "pip install python-dotenv mlflow google-cloud-storage"
   ]
  },
  {
   "cell_type": "markdown",
   "metadata": {},
   "source": [
    "À la racine du projet, créons le fichier `.env`."
   ]
  },
  {
   "cell_type": "raw",
   "metadata": {
    "format": "plaintext"
   },
   "source": [
    "# Remplacer par l'adresse IP de la VM contenant MLflow\n",
    "MLFLOW_SERVER=http://XX.XX.XX.XX/"
   ]
  },
  {
   "cell_type": "markdown",
   "metadata": {},
   "source": [
    "Le rôle de ce fichier est identique à un `export` qui serait réalisé sur chaque variable. Le principal intérêt, en plus de pouvoir centraliser toutes les variables d'environnement, est que `python-dotenv` supporte aussi les variables d'environnement : il peut donc être utilisé à la fois lors du développement ou une fois le code en production.\n",
    "\n",
    "À noter que nous aurions pu utiliser le fichier `parameters.yml` de Kedro. Dans la pratique, ce fichier est plutôt réservé aux paramètres des pipelines (ratio pour l'ensemble de test, hyper-paramètres par défaut, etc), et il est préférable, comme c'est le cas en développement logiciel, d'inscrire des paramètres plus généraux (comme les références aux servers, l'environnement de pré-production ou de production) dans des fichiers de configuration ou des variables d'environnement.\n",
    "\n",
    "Créons le fichier `__init__.py` dans le dossier `training` des pipelines."
   ]
  },
  {
   "cell_type": "raw",
   "metadata": {
    "format": "python"
   },
   "source": [
    "from dotenv import load_dotenv\n",
    "\n",
    "load_dotenv()"
   ]
  },
  {
   "cell_type": "markdown",
   "metadata": {},
   "source": [
    "Pour rappel, ce fichier sera exécuté initialement par l'interpréteur Python, permettant ainsi de définir des configurations qui seront partagées par tous les fichiers du module/dossier. Par la suite, nous allons pouvoir appeler `os.getenv(\"MLFLOW_SERVER\")` pour récupérer cette variable d'environnement dans n'importe quel fichier du dossier contenant ce `__init__.py`.\n",
    "\n",
    "Nous allons ajouter deux paramètres dans `parameters.yml`."
   ]
  },
  {
   "cell_type": "raw",
   "metadata": {
    "format": "yaml"
   },
   "source": [
    "mlflow_enabled: True # Do we log metrics and artifacts to MLflow ?\n",
    "mlflow_experiment_id: 1 # Experimented ID associated to this project"
   ]
  },
  {
   "cell_type": "markdown",
   "metadata": {},
   "source": [
    "Cela permet de décider à tout moment si l'on souhaite envoyer les logs et artifacts vers MLflow, ainsi que l'identifiant de l'expérience MLflow.\n",
    "\n",
    "Dans `nodes.py` de `training`, modifiant la fonction `auto_ml` pour accepter ces deux nouveaux paramètres."
   ]
  },
  {
   "cell_type": "raw",
   "metadata": {
    "format": "python"
   },
   "source": [
    "def auto_ml(\n",
    "    X_train: np.ndarray,\n",
    "    y_train: np.ndarray,\n",
    "    X_test: np.ndarray,\n",
    "    y_test: np.ndarray,\n",
    "    max_evals: int = 40,\n",
    "    log_to_mlflow: bool = False,\n",
    "    experiment_id: int = -1,\n",
    ") -> BaseEstimator:"
   ]
  },
  {
   "cell_type": "markdown",
   "metadata": {},
   "source": [
    "Par défaut, si aucune information n'est spécifiée concernant MLflow, on préfère ne pas envoyer de logs ou d'artifacts. Importons `os` ainsi que `mlflow`."
   ]
  },
  {
   "cell_type": "raw",
   "metadata": {
    "format": "python"
   },
   "source": [
    "import os\n",
    "import numpy as np\n",
    "import pandas as pd\n",
    "import mlflow"
   ]
  },
  {
   "cell_type": "markdown",
   "metadata": {},
   "source": [
    "Au tout début de la fonction, après avoir récupéré la base d'apprentissage $(X, y)$, nous démarrons un run."
   ]
  },
  {
   "cell_type": "raw",
   "metadata": {
    "format": "python"
   },
   "source": [
    "X = pd.concat((X_train, X_test))\n",
    "y = pd.concat((y_train, y_test))\n",
    "\n",
    "run_id = \"\"\n",
    "if log_to_mlflow:\n",
    "    mlflow.set_tracking_uri(os.getenv(\"MLFLOW_SERVER\"))\n",
    "    run = mlflow.start_run(experiment_id=experiment_id)\n",
    "    run_id = run.info.run_id"
   ]
  },
  {
   "cell_type": "markdown",
   "metadata": {},
   "source": [
    "Si l'on souhaite tracker avec MLflow (`log_to_mlflow` à `True`), alors on spécifie l'URL de tracking, puis on lance un run avec `start_run` en indiquant l'identifiant de l'expérience associé au run.\n",
    "\n",
    "À la fin de la fonction, nous envoyons les logs et artifacts vers MLflow. Elle retournera également le champ `mlflow_run_id`."
   ]
  },
  {
   "cell_type": "raw",
   "metadata": {
    "format": "python"
   },
   "source": [
    "# In case we have multiple models\n",
    "best_model = max(opt_models, key=lambda x: x[\"score\"])\n",
    "\n",
    "if log_to_mlflow:\n",
    "    model_metrics = {\n",
    "        \"f1\": best_model[\"score\"]\n",
    "    }\n",
    "\n",
    "    mlflow.log_metrics(model_metrics)\n",
    "    mlflow.log_params(optimum_params)\n",
    "    # Only use if validation curves are produced\n",
    "    mlflow.log_artifacts(\"data/08_reporting\", artifact_path=\"plots\")\n",
    "    mlflow.sklearn.log_model(best_model[\"model\"], \"model\")\n",
    "    mlflow.end_run()\n",
    "    \n",
    "return dict(model=best_model, mlflow_run_id=run_id)"
   ]
  },
  {
   "cell_type": "markdown",
   "metadata": {},
   "source": [
    "La dernière modification à apporter est de mettre à jour la définition du pipeline."
   ]
  },
  {
   "cell_type": "raw",
   "metadata": {
    "format": "python"
   },
   "source": [
    "def create_pipeline(**kwargs):\n",
    "    return Pipeline(\n",
    "        [\n",
    "            node(\n",
    "                auto_ml,\n",
    "                [\n",
    "                    \"X_train\", \"y_train\", \"X_test\", \"y_test\",\n",
    "                    \"params:automl_max_evals\", \"params:mlflow_enabled\",\n",
    "                    \"params:mlflow_experiment_id\"],\n",
    "                dict(model=\"model\", mlflow_run_id=\"mlflow_run_id\"),\n",
    "            )\n",
    "        ]\n",
    "    )"
   ]
  },
  {
   "cell_type": "markdown",
   "metadata": {},
   "source": [
    "<img src=\"https://blent-learning-user-ressources.s3.eu-west-3.amazonaws.com/training/ml_engineer_facebook/img/model_registry3.png\" />\n",
    "\n",
    "Avant d'exécuter le pipeline, il faut penser à donner les droits d'écriture sur Cloud Storage au compte de service de Kedro. Rappelons-nous, nous avions crée un compte de service pour pouvoir récupérer les fichiers CSV sur le bucket. Pas besoin d'en créer un nouveau : nous pouvons utiliser celui existant en lui rajoutant de nouvelles autorisations.\n",
    "\n",
    "Dirigeons-nous dans <a href=\"https://console.cloud.google.com/iam-admin/iam\" target=\"_blank\">IAM</a> et éditons le membre `purchase-predict@...`.\n",
    "\n",
    "<img src=\"https://blent-learning-user-ressources.s3.eu-west-3.amazonaws.com/training/ml_engineer_facebook/img/model_registry1.png\" />\n",
    "\n",
    "Ajoutons le rôle Créateur des objets de l'espace de stockage. Après modification des rôles, il faut retélécharger une clé pour <a href=\"https://console.cloud.google.com/iam-admin/serviceaccounts\" target=\"_blank\">le compte de service</a>. Une fois le contenu de la clé modifié dans `conf/local/service-account.json`, nous devons mettre à jour la variable d'environnement `GOOGLE_APPLICATION_CREDENTIALS`."
   ]
  },
  {
   "cell_type": "raw",
   "metadata": {
    "format": "bash"
   },
   "source": [
    "export GOOGLE_APPLICATION_CREDENTIALS=\"conf/local/service-account.json\""
   ]
  },
  {
   "cell_type": "markdown",
   "metadata": {},
   "source": [
    "À noter que pour aller plus vite, nous pouvons définir cette variable dans le fichier `.env`.\n",
    "\n",
    "Temporairement, pour vérifier que notre code fonctionne, nous allons modifier le paramètre `automl_max_evals` à $1$. Dans le même temps, mettons en place le pipeline `global` qui va exécuter de manière séquentielle les trois pipelines `loading`, `processing` et `traning`."
   ]
  },
  {
   "cell_type": "raw",
   "metadata": {
    "format": "python"
   },
   "source": [
    "class ProjectHooks:\n",
    "    @hook_impl\n",
    "    def register_pipelines(self) -> Dict[str, Pipeline]:\n",
    "        \"\"\"Register the project's pipeline.\n",
    "\n",
    "        Returns:\n",
    "            A mapping from a pipeline name to a ``Pipeline`` object.\n",
    "\n",
    "        \"\"\"\n",
    "        p_processing = processing_pipeline.create_pipeline()\n",
    "        p_training = training_pipeline.create_pipeline()\n",
    "        p_loading = loading_pipeline.create_pipeline()\n",
    "        return {\n",
    "            \"global\": Pipeline([p_loading, p_processing, p_training]),\n",
    "            \"loading\": p_loading,\n",
    "            \"processing\": p_processing,\n",
    "            \"training\": p_training,\n",
    "        }"
   ]
  },
  {
   "cell_type": "markdown",
   "metadata": {},
   "source": [
    "Exécutons le pipeline `global`."
   ]
  },
  {
   "cell_type": "raw",
   "metadata": {
    "format": "bash"
   },
   "source": [
    "kedro run --pipeline global"
   ]
  },
  {
   "cell_type": "markdown",
   "metadata": {},
   "source": [
    "Après quelques dizaines de secondes, le run devrait être visible sous MLflow.\n",
    "\n",
    "<img src=\"https://blent-learning-user-ressources.s3.eu-west-3.amazonaws.com/training/ml_engineer_facebook/img/model_registry2.png\" />\n",
    "\n",
    "N'oublions pas, puisque le test est concluant, de remettre `automl_max_evals` à sa valeur d'origine."
   ]
  },
  {
   "cell_type": "markdown",
   "metadata": {
    "break": "new"
   },
   "source": [
    "## Pipeline de déploiement vers MLflow\n",
    "\n",
    "Pour l'instant, nous avons uniquement effectué du tracking. Bien que cela soit pratique pour historiser et garder une trace des différentes exécutions des pipelines d'entraînement, cela ne permet pas directement de gérer efficacement des **versions de modèles**.\n",
    "\n",
    "### Registre de modèles\n",
    "\n",
    "Le **Model Registry** (registre de modèles) est un composant de MLflow qui permet de gérer des versions de modèles de Machine Learning, en proposant également des **stages** (états).\n",
    "\n",
    "- Le tag **staging** correspond à un modèle considéré comme pré-production.\n",
    "- Le tag **production** correspond à un modèle qui serait en environnement de production.\n",
    "- Le tag **archived** pour les anciens modèles staging ou production archivés.\n",
    "\n",
    "C'est un composant particulièrement utile pour gérer le cycle de vie des modèles, car le cycle staging, production et archive est couramment appliqué lorsque des modèles sont mis à jour régulièrement. Sous MLflow, l'onglet Models permet d'afficher tous les modèles enregistrés.\n",
    "\n",
    "<img src=\"https://blent-learning-user-ressources.s3.eu-west-3.amazonaws.com/training/ml_engineer_facebook/img/model_registry4.png\" />\n",
    "\n",
    "Retournons dans les expériences et choisissons le dernier run que nous avons lancé. En cliquant sur `model` dans les artifacts, un bouton *Register Model* apparaît à droite.\n",
    "\n",
    "<img src=\"https://blent-learning-user-ressources.s3.eu-west-3.amazonaws.com/training/ml_engineer_facebook/img/model_registry5.png\" />\n",
    "\n",
    "En cliquant dessus, nous allons pouvoir ajouter manuellement le modèle au registre. Pour cela, nous devons créer un nouveau modèle que l'on nommera `purchase_predict`.\n",
    "\n",
    "<img src=\"https://blent-learning-user-ressources.s3.eu-west-3.amazonaws.com/training/ml_engineer_facebook/img/model_registry6.png\" />\n",
    "\n",
    "En retournant dans Models, nous voyons que la version 1 (le modèle que nous venons d'ajouter est bien présent).\n",
    "\n",
    "<img src=\"https://blent-learning-user-ressources.s3.eu-west-3.amazonaws.com/training/ml_engineer_facebook/img/model_registry7.png\" />\n",
    "\n",
    "En cliquant dessus, nous avons accès à plus de détails sur les différentes versions présentes.\n",
    "\n",
    "<img src=\"https://blent-learning-user-ressources.s3.eu-west-3.amazonaws.com/training/ml_engineer_facebook/img/model_registry8.png\" />\n",
    "\n",
    "Pour une version spécifique, nous pouvons manuellement transitionner vers un état de pré-production ou de production. L'objectif sera d'automatiser cette tâche pour automatiquement changer l'état d'un modèle que l'on aura entraîné.\n",
    "\n",
    "<img src=\"https://blent-learning-user-ressources.s3.eu-west-3.amazonaws.com/training/ml_engineer_facebook/img/model_registry9.png\" />\n",
    "\n",
    "### Pipeline de déploiement\n",
    "\n",
    "Une fois l'entraînement réalisé, nous allons également implémenter dans Kedro un pipeline qui va permettre de transitionner l'état d'un modèle en staging ou production. Pour cela, nous allons créer un pipepline `deployment` avec les trois fichiers `__init__.py`, `nodes.py` et `pipeline.py`. Le fichier `__init__.py` contiendra les mêmes instructions."
   ]
  },
  {
   "cell_type": "raw",
   "metadata": {
    "format": "python"
   },
   "source": [
    "from dotenv import load_dotenv\n",
    "\n",
    "load_dotenv()"
   ]
  },
  {
   "cell_type": "markdown",
   "metadata": {},
   "source": [
    "Nous allons créer deux fonctions dans le fichier `nodes.py`.\n",
    "\n",
    "- La fonction `push_to_model_registry` va envoyer un modèle enregistré dans tracking vers le registre de modèle associé. Notons que pour cela, le modèle doit déjà être dans le tracking.\n",
    "- La fonction `stage_model` qui permet de transitionner un modèle du registre vers un état staging ou production."
   ]
  },
  {
   "cell_type": "raw",
   "metadata": {
    "format": "python"
   },
   "source": [
    "import os\n",
    "import mlflow\n",
    "\n",
    "from mlflow.tracking import MlflowClient\n",
    "\n",
    "\n",
    "def push_to_model_registry(registry_name: str, run_id: int):\n",
    "    \"\"\"\n",
    "    Pushes a model's version to the specified registry.\n",
    "    \"\"\"\n",
    "    mlflow.set_tracking_uri(os.getenv(\"MLFLOW_SERVER\"))\n",
    "    result = mlflow.register_model(\n",
    "        \"runs:/{}/artifacts/model\".format(run_id), registry_name\n",
    "    )\n",
    "    return result.version\n",
    "\n",
    "\n",
    "def stage_model(registry_name: str, version: int):\n",
    "    \"\"\"\n",
    "    Stages a model version pushed to model registry.\n",
    "    \"\"\"\n",
    "    env = os.getenv(\"ENV\")\n",
    "    if env not in [\"staging\", \"production\"]:\n",
    "        return\n",
    "\n",
    "    client = MlflowClient()\n",
    "    client.transition_model_version_stage(\n",
    "        name=registry_name, version=int(version), stage=env[0].upper() + env[1:]\n",
    "    )"
   ]
  },
  {
   "cell_type": "markdown",
   "metadata": {},
   "source": [
    "Nous avons besoin de configurations supplémentaires, `registry_name`, pour référencer le nom du modèle dans le registre, que l'on ajoute au fichier `parameters.yml`, ainsi que la variable d'environnement `ENV` pour spécifier si le projet Kedro est exécuté dans un environnement de pré-production ou de production. Modifions le fichier `.env`."
   ]
  },
  {
   "cell_type": "raw",
   "metadata": {
    "format": "plaintext"
   },
   "source": [
    "ENV=staging\n",
    "# Remplacer par l'adresse IP de la VM contenant MLflow\n",
    "MLFLOW_SERVER=http://xx.xx.xx.xx/\n",
    "GOOGLE_APPLICATION_CREDENTIALS=\"conf/local/service-account.json\""
   ]
  },
  {
   "cell_type": "markdown",
   "metadata": {},
   "source": [
    "De même pour le fichier `parameters.yml`."
   ]
  },
  {
   "cell_type": "raw",
   "metadata": {
    "format": "yaml"
   },
   "source": [
    "mlflow_model_registry: \"purchase_predict\" # Name of model registry of this project"
   ]
  },
  {
   "cell_type": "markdown",
   "metadata": {},
   "source": [
    "Le paramètre `run_id` sera lui fourni par le catalogue de données. Écrivons le code du pipeline, qui ne présente aucune difficulté."
   ]
  },
  {
   "cell_type": "raw",
   "metadata": {
    "format": "python"
   },
   "source": [
    "from kedro.pipeline import Pipeline, node\n",
    "\n",
    "from .nodes import push_to_model_registry, stage_model\n",
    "\n",
    "def create_pipeline(**kwargs):\n",
    "    return Pipeline(\n",
    "        [\n",
    "            node(\n",
    "                push_to_model_registry,\n",
    "                [\"params:mlflow_model_registry\", \"mlflow_run_id\"],\n",
    "                \"mlflow_model_version\",\n",
    "            ),\n",
    "            node(\n",
    "                stage_model,\n",
    "                [\"params:mlflow_model_registry\", \"mlflow_model_version\"],\n",
    "                None,\n",
    "            ),\n",
    "        ]\n",
    "    )"
   ]
  },
  {
   "cell_type": "markdown",
   "metadata": {},
   "source": [
    "Il ne reste plus qu'à renseigner ce pipeline dans `hooks.py`."
   ]
  },
  {
   "cell_type": "raw",
   "metadata": {
    "format": "python"
   },
   "source": [
    "from purchase_predict.pipelines.deployment import pipeline as deployment_pipeline\n",
    "\n",
    "class ProjectHooks:\n",
    "    @hook_impl\n",
    "    def register_pipelines(self) -> Dict[str, Pipeline]:\n",
    "        \"\"\"Register the project's pipeline.\n",
    "\n",
    "        Returns:\n",
    "            A mapping from a pipeline name to a ``Pipeline`` object.\n",
    "\n",
    "        \"\"\"\n",
    "        p_processing = processing_pipeline.create_pipeline()\n",
    "        p_training = training_pipeline.create_pipeline()\n",
    "        p_loading = loading_pipeline.create_pipeline()\n",
    "        p_deployment = deployment_pipeline.create_pipeline()\n",
    "        return {\n",
    "            \"global\": Pipeline([p_loading, p_processing, p_training, p_deployment]),\n",
    "            \"loading\": p_loading,\n",
    "            \"processing\": p_processing,\n",
    "            \"training\": p_training,\n",
    "            \"deployment\": p_deployment\n",
    "        }"
   ]
  },
  {
   "cell_type": "markdown",
   "metadata": {},
   "source": [
    "Nous obtenons le pipeline suivant.\n",
    "\n",
    "<img src=\"https://blent-learning-user-ressources.s3.eu-west-3.amazonaws.com/training/ml_engineer_facebook/img/model_registry10.png\" />\n",
    "\n",
    "Lançons une exécution globale (en spécifiant là-aussi le paramètre `automl_max_evals` à 1 pour accélerer les calculs."
   ]
  },
  {
   "cell_type": "raw",
   "metadata": {},
   "source": [
    "kedro run --pipeline global"
   ]
  },
  {
   "cell_type": "markdown",
   "metadata": {},
   "source": [
    "Puisque nous sommes en environnement staging, sur MLflow, le modèle enregistré doit avoir l'état correspondant.\n",
    "\n",
    "<img src=\"https://blent-learning-user-ressources.s3.eu-west-3.amazonaws.com/training/ml_engineer_facebook/img/model_registry12.png\" />\n",
    "\n",
    "Nous avons donc à la fois la *Latest Version* à 2, et c'est elle qui est actuellement en staging.\n",
    "\n",
    "L'intégralité des pipelines ont été réalisées, ce qui donne pour le pipeline `global` un ensemble assez important d'étapes.\n",
    "\n",
    "<img src=\"https://blent-learning-user-ressources.s3.eu-west-3.amazonaws.com/training/ml_engineer_facebook/img/model_registry11.png\" />\n",
    "\n",
    "> ❓ En quoi envoyer le modèle vers le registre peut nous être utile ?\n",
    "\n",
    "Ce qui va être puissant, c'est que l'on sera capable de récupérer, dans un projet différent que Kedro, le modèle le plus à jour. Ainsi, on **découple fortement** la phase d'expérimentation/d'entraînement du modèle et la phase de déploiement, qui est une bonne pratique du Cloud.\n",
    "\n",
    "Comme toujours, il ne faut pas hésiter à régulièrement pousser son code vers le dépôt Git."
   ]
  },
  {
   "cell_type": "raw",
   "metadata": {
    "format": "bash"
   },
   "source": [
    "git add .\n",
    "git commit -am \"Integrated all pipelines\""
   ]
  },
  {
   "cell_type": "raw",
   "metadata": {
    "format": "console"
   },
   "source": [
    "black....................................................................Passed\n",
    "flake8...................................................................Passed\n",
    "[master 31d0824] Integrated all pipelines\n",
    " 20 files changed, 549 insertions(+), 16 deletions(-)\n",
    " create mode 100644 src/purchase_predict/pipelines/deployment/__init__.py\n",
    " create mode 100644 src/purchase_predict/pipelines/deployment/nodes.py\n",
    " create mode 100644 src/purchase_predict/pipelines/deployment/pipeline.py\n",
    " create mode 100644 src/purchase_predict/pipelines/training/__init__.py\n",
    " create mode 100644 src/requirements.in\n",
    " create mode 100644 src/tests/pipelines/loading/__init__.py\n",
    " create mode 100644 src/tests/pipelines/loading/conftest.py\n",
    " create mode 100644 src/tests/pipelines/loading/test_nodes.py\n",
    " create mode 100644 src/tests/pipelines/loading/test_pipeline.py\n",
    " create mode 100644 src/tests/pipelines/processing/__init__.py\n",
    " create mode 100644 src/tests/pipelines/processing/conftest.py\n",
    " create mode 100644 src/tests/pipelines/processing/test_nodes.py\n",
    " create mode 100644 src/tests/pipelines/processing/test_pipeline.py\n",
    "(venv) jovyan@jupyter-604a3b76-2d8f51-2d448a-2d8a79-2d0bb4e5cd11e4:~/purchase_predict$ git status\n",
    "On branch master\n",
    "nothing to commit, working tree clean"
   ]
  },
  {
   "cell_type": "markdown",
   "metadata": {},
   "source": [
    "Nous allons créer une **nouvelle branche** appelée staging. Cela va nous permettre de produire un code en environnement de pré-production."
   ]
  },
  {
   "cell_type": "raw",
   "metadata": {
    "format": "bash"
   },
   "source": [
    "git checkout -b staging\n",
    "git commit -am \"New staging branch\"\n",
    "git push google staging"
   ]
  },
  {
   "cell_type": "markdown",
   "metadata": {},
   "source": [
    "On n'oubliera pas d'ajouter la clé SSH à l'agent avec de pousser vers le dépôt."
   ]
  },
  {
   "cell_type": "raw",
   "metadata": {
    "format": "bash"
   },
   "source": [
    "ssh-add ~/ssh/git_key"
   ]
  },
  {
   "cell_type": "markdown",
   "metadata": {},
   "source": [
    "Sur <a href=\"https://source.cloud.google.com/\" target=\"_blank\">Cloud Source</a>, la branche `staging` est désormais visible."
   ]
  },
  {
   "cell_type": "markdown",
   "metadata": {
    "type": "ending"
   },
   "source": [
    "## ✔️ Conclusion\n",
    "\n",
    "Dorénavant, le projet Kedro peut exécuter le pipeline ML de A à Z avec MLflow pour centraliser les différents modèles qui seront entraînés.\n",
    "\n",
    "- Nous avons intégré le tracking MLflow sous Kedro.\n",
    "- Nous avons créer un modèle packagé sous MLflow.\n",
    "- Nous sommes capable de changer les états des modèles de pré-production et de production automatiquement.\n",
    "\n",
    "> ➡️ Nous avons un modèle prêt à être utilisé. Mais pour être utilisé, il faut le rendre accessible ... et la meilleure manière de le faire, c'est de <b>construire une API</b>."
   ]
  }
 ],
 "metadata": {
  "celltoolbar": "Éditer les Méta-Données",
  "kernelspec": {
   "display_name": "Python 3",
   "language": "python",
   "name": "python3"
  },
  "language_info": {
   "codemirror_mode": {
    "name": "ipython",
    "version": 3
   },
   "file_extension": ".py",
   "mimetype": "text/x-python",
   "name": "python",
   "nbconvert_exporter": "python",
   "pygments_lexer": "ipython3",
   "version": "3.8.0"
  }
 },
 "nbformat": 4,
 "nbformat_minor": 4
}
