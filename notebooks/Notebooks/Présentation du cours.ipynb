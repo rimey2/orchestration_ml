{
 "cells": [
  {
   "cell_type": "markdown",
   "id": "1e950fc4",
   "metadata": {},
   "source": [
    "# Présentation du cours\n",
    "\n",
    "Le cours **Orchestration Machine Learning** vise à acquérir des compétences et bonnes pratiques liées à la mise en production de modèles de Machine Learning, qualifiée de **MLOps**.\n",
    "\n",
    "## Évaluations\n",
    "\n",
    "Le cours sera composé d'une **évaluation intermédiaire** (07/07/2022) sous forme de QCM et d'une **évaluation finale** (08/07/2022) sous forme de projet donnant lieu à une soutenance.\n",
    "\n",
    "Chaque jour, le cours aura lieu de 09h45 à 15h45, et le projet pourra être réalisé de 16h00 à 19h00.\n",
    "\n",
    "## Programme\n",
    "\n",
    "- **Présentation du MLOps**\n",
    "    - Métier, compétences et outils\n",
    "    - Niveaux de MLOps\n",
    "- **Entraînement automatisé** (AutoML)\n",
    "    - Optimisation d'hyper-paramètres\n",
    "    - Validation croisée de modèle\n",
    "    - Méthodes d'interprétabilité locales et globales\n",
    "- **Software Engineering en Machine Learning**\n",
    "    - Création de pipelines ML\n",
    "    - Bonnes pratiques de développement (docstring, PEP8, linting, refactoring)\n",
    "    - Tests unitaires logiciels et de modèles\n",
    "    - Pipelines CI/CD\n",
    "- **Orchestration ML**\n",
    "    - Conteneurisation de modèles\n",
    "    - Apache Airflow pour le MLOps\n",
    "    - Déploiement de modèles sous forme de microservices (Serverless, Kubernetes)\n",
    "    - Kubeflow pour le MLOps sur Kubernetes\n",
    "    \n",
    "## Projet\n",
    "\n",
    "Le projet constitue l'examen final du cours *Orchestration Machine Learning*.\n",
    "\n",
    "### Modalités\n",
    "\n",
    "- Chaque groupe doit être constitué de **3 à 4 personnes** maximum.\n",
    "- Une **présentation orale de 20 minutes** (incluant les questions) aura lieue lors du dernier cours. Lors de cette présentation, **tous les membres du groupes doivent prendre la parole** et présenter leur partie.\n",
    "- Le projet doit être **fonctionnel, opérationnel et documenté** le jour de la présentation.\n",
    "- Les livrables (présentation + code source) sont à fournir sur la plateforme MyGES. Un lien GitHub peut être envoyé ou supplément, mais **ne se substitue pas** aux livrables du code source du MyGES.\n",
    "\n",
    "<div class=\"alert alert-warning\">\n",
    "    Pensez à <b>ne pas ajouter le dossier d'environnement virtuel</b> (<code>env</code> ou <code>venv</code>) pour éviter d'avoir un dossier compressé de plusieurs centaines de Mo !\n",
    "</div>\n",
    "\n",
    "### Description du projet\n",
    "\n",
    "Pour une entreprise fictive, on cherche à développer un pipeline ML entièrement automatisé qui répond à différents critères.\n",
    "\n",
    "- Le pipeline ML doit être composé d'un **pipeline d'entraînement** et d'un **pipeline d'inférence**.\n",
    "- Le modèle doit pouvoir être entraîné **automatiquement sur de nouvelles données**, et les équipes techniques doivent pouvoir auditer le comportement du modèle. Les données doivent avoir un minimum de **tendance saisonnière** afin de justifier l'entraînement régulier.\n",
    "\n",
    "Exemple de projets :\n",
    "\n",
    "- Estimation de la durée d'une demande de trajet VTC dans un ville.\n",
    "- Détecter les utilisateurs hésitant à acheter un article ECommerce.\n",
    "- Générer automatiquement des images Google Maps à partir d'images satellites.\n",
    "- Prédire le coût énergétique d'un foyer."
   ]
  },
  {
   "cell_type": "code",
   "execution_count": null,
   "id": "f41b2dbd",
   "metadata": {},
   "outputs": [],
   "source": []
  }
 ],
 "metadata": {
  "kernelspec": {
   "display_name": "Python 3 (ipykernel)",
   "language": "python",
   "name": "python3"
  },
  "language_info": {
   "codemirror_mode": {
    "name": "ipython",
    "version": 3
   },
   "file_extension": ".py",
   "mimetype": "text/x-python",
   "name": "python",
   "nbconvert_exporter": "python",
   "pygments_lexer": "ipython3",
   "version": "3.8.10"
  }
 },
 "nbformat": 4,
 "nbformat_minor": 5
}
