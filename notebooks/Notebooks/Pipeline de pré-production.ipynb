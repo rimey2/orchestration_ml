{
 "cells": [
  {
   "cell_type": "markdown",
   "metadata": {
    "type": "intro"
   },
   "source": [
    "Le pipeline de pré-production correspond aux différents étapes permettant de déployer l'API contenant le modèle entraîné. Il s'agit d'exécuter, dans son intégralité, les processus d'entraînement, de logging et de conteneurisation de l'API pour servir et exposer directement le modèle lorsque l'on modifie le code source.\n",
    "\n",
    "Cette pratique est pleinement au coeur de l'approche MLOps : en automatisant le déploiement par des processus reliés entre-eux, on augmente significativement l'efficacité opérationnelle en rendant disponible le modèle le plus *à jour*.\n",
    "\n",
    "<blockquote><p>🙋 <b>Ce que nous allons faire</b></p>\n",
    "<ul>\n",
    "    <li>Créer le pipeline CI/CD de l'API</li>\n",
    "    <li>Construire l'intégralité du pipeline de pré-production</li>\n",
    "</ul>\n",
    "</blockquote>\n",
    "\n",
    "<img src=\"https://media.giphy.com/media/DQcqDjL0vcxz7lEhNT/giphy.gif\" />"
   ]
  },
  {
   "cell_type": "markdown",
   "metadata": {},
   "source": [
    "Le pipeline de pré-production est la succession du pipeline CI/CD construit pour entraîner le modèle et l'envoyer vers MLflow, avec le pipeline qui va automatiquement déployer une image Docker de l'API sur Cloud Run.\n",
    "\n",
    "<img src=\"https://blent-learning-user-ressources.s3.eu-west-3.amazonaws.com/training/ml_engineer_facebook/img/pipeline_preprod.png\" />\n",
    "\n",
    "Concernant l'entraînement du modèle, nous avons seulement un déclencheur : lorsque de nouvelles références sont envoyées vers le dépôt `purchase_predict`. En revanche, pour la construction de l'API, il y a deux déclencheurs.\n",
    "\n",
    "- Lorsque de nouvelles références sont envoyées vers l'API `purchase_predict_api`.\n",
    "- Lorsque l'entraînement du modèle par Cloud Build a terminé son exécution."
   ]
  },
  {
   "cell_type": "markdown",
   "metadata": {},
   "source": [
    "## Déploiement de l'API\n",
    "\n",
    "Dans un premier temps, créons la partie qui va construire l'API à partir du dépôt `purchase_predict_api`.\n",
    "\n",
    "<img src=\"https://blent-learning-user-ressources.s3.eu-west-3.amazonaws.com/training/ml_engineer_facebook/img/pipeline_preprod_api.png\" />\n",
    "\n",
    "Rappelons-nous que pour construire l'API, nous avons besoin de trois étapes.\n",
    "\n",
    "- Il faut construire l'image Docker de l'API.\n",
    "- Cette image Docker doit être envoyée au Container Registry de notre projet Google.\n",
    "- L'image envoyée vers le Container Registry doit remplacer celle en cours d'exécution sur Cloud Run.\n",
    "\n",
    "Reprenons le `Dockerfile` que nous avions construit pour l'API."
   ]
  },
  {
   "cell_type": "raw",
   "metadata": {},
   "source": [
    "FROM python:3.8-slim\n",
    "\n",
    "RUN apt update\n",
    "# Nécessaire pour charger le modèle\n",
    "RUN apt-get install libgomp1 -y\n",
    "\n",
    "# Mise à jour de pip3\n",
    "RUN pip install --upgrade pip\n",
    "RUN python3 --version\n",
    "\n",
    "RUN mkdir /app\n",
    "\n",
    "WORKDIR /app\n",
    "\n",
    "COPY requirements.txt /app/\n",
    "COPY app.py /app/\n",
    "COPY src/ /app/src/\n",
    "\n",
    "RUN pip install --no-cache-dir -r requirements.txt\n",
    "\n",
    "# On ouvre et expose le port\n",
    "EXPOSE $PORT\n",
    "\n",
    "# Lancement de l'API\n",
    "# Attention : ne pas lancer en daemon !\n",
    "CMD exec gunicorn -b :$PORT -w 4 app:app"
   ]
  },
  {
   "cell_type": "markdown",
   "metadata": {},
   "source": [
    "La seule différence réside dans l'exposition du port où nous récupérons la variable d'environnement plutôt que d'écrire en clair un port spécifique.\n",
    "\n",
    "Ensuite, tout comme nous l'avions fait pour le projet `purchase-predict`, nous allons ajouter un fichier `cloudbuild.yaml` qui contient les différentes étapes à exécuter sur Cloud Build."
   ]
  },
  {
   "cell_type": "raw",
   "metadata": {},
   "source": [
    "# Liste des Cloud Builders : https://console.cloud.google.com/gcr/images/cloud-builders/GLOBAL\n",
    "steps:\n",
    "- name: \"gcr.io/cloud-builders/docker\"\n",
    "  args: ['build', '-t', 'gcr.io/$PROJECT_ID/purchase-predict-api:$SHORT_SHA', '.']\n",
    "- name: 'gcr.io/cloud-builders/docker'\n",
    "  args: ['push', 'gcr.io/$PROJECT_ID/purchase-predict-api:$SHORT_SHA']\n",
    "- name: 'gcr.io/google.com/cloudsdktool/cloud-sdk'\n",
    "  entrypoint: gcloud\n",
    "  args: ['run', 'deploy', 'purchase-predict-api', '--image', 'gcr.io/$PROJECT_ID/purchase-predict-api:$SHORT_SHA', '--region', 'europe-west1', '--platform', 'managed']\n",
    "images:\n",
    "- gcr.io/$PROJECT_ID/purchase-predict-api:$SHORT_SHA"
   ]
  },
  {
   "cell_type": "markdown",
   "metadata": {},
   "source": [
    "Dans les deux premières étapes, nous utilisons l'image `gcr.io/cloud-builders/docker` pour construire l'image Docker de l'API et l'envoyer sur le registre de conteneurs de notre projet Google Cloud.\n",
    "\n",
    "La dernière étape utilise l'image `gcr.io/google.com/cloudsdktool/cloud-sdk` pour avoir accès à la commande `gcloud`. Cette dernière va nous permettre d'envoyer l'image Docker construire comme nouvelle révision sur notre application Cloud Run.\n",
    "\n",
    "Créons un nouveau déclencheur Cloud Build nommé `build-purchase-predict-api-staging`.\n",
    "\n",
    "<img src=\"https://blent-learning-user-ressources.s3.eu-west-3.amazonaws.com/training/ml_engineer_facebook/img/pipeline_preprod_api2.png\" />\n",
    "\n",
    "À la troisième étape, notre service aura besoin de déployer le conteneur sur Cloud Run. Or, par défaut, Cloud Build ne dispose pas des droits d'accès sur les autres services. Il faut donc autoriser Cloud Build à interagir avec Cloud Run dans les paramètres.\n",
    "\n",
    "<img src=\"https://blent-learning-user-ressources.s3.eu-west-3.amazonaws.com/training/ml_engineer_facebook/img/pipeline_preprod_api3.png\" />\n",
    "\n",
    "Envoyons les nouvelles références vers Git."
   ]
  },
  {
   "cell_type": "raw",
   "metadata": {},
   "source": [
    "git add .\n",
    "git commit -am \"New Cloud Build configuration\"\n",
    "git push google staging"
   ]
  },
  {
   "cell_type": "markdown",
   "metadata": {},
   "source": [
    "Nous voyons le nouveau build apparaître avec les trois étapes telles que mentionnées dans le fichier de configuration.\n",
    "\n",
    "<img src=\"https://blent-learning-user-ressources.s3.eu-west-3.amazonaws.com/training/ml_engineer_facebook/img/pipeline_preprod_api4.png\" />\n",
    "\n",
    "Si nous retournons dans <a href=\"https://console.cloud.google.com/run/\" target=\"_blank\">Cloud Run</a>, nous voyons que l'image Docker a bien été déployée.\n",
    "\n",
    "<img src=\"https://blent-learning-user-ressources.s3.eu-west-3.amazonaws.com/training/ml_engineer_facebook/img/pipeline_preprod_api5.png\" />\n",
    "\n",
    "Par ailleurs, dans <a href=\"https://console.cloud.google.com/gcr\" target=\"_blank\">Container Registry</a>, nous voyons bien apparaître le tag du commit Git.\n",
    "\n",
    "<img src=\"https://blent-learning-user-ressources.s3.eu-west-3.amazonaws.com/training/ml_engineer_facebook/img/pipeline_preprod_api6.png\" />"
   ]
  },
  {
   "cell_type": "markdown",
   "metadata": {},
   "source": [
    "## Pipeline entier\n",
    "\n",
    "Revenons maintenant sur l'intégralité du pipeline.\n",
    "\n",
    "<img src=\"https://blent-learning-user-ressources.s3.eu-west-3.amazonaws.com/training/ml_engineer_facebook/img/pipeline_preprod.png\" />\n",
    "\n",
    "Nous venons de créer les deux parties (gauche et droite) de manière indépendantes. Pour obtenir l'intégralité du pipeline, il suffit simplement de modifier le pipeline CI/CD (à gauche) du projet `purchase-predict` pour exécuter automatiquement la construction de l'image Docker de l'API et son déploiement vers Cloud Run.\n",
    "\n",
    "Modifions le fichier `cloudbuild.yaml` du projet `purchase-predict`."
   ]
  },
  {
   "cell_type": "raw",
   "metadata": {},
   "source": [
    "# Liste des Cloud Builders : https://console.cloud.google.com/gcr/images/cloud-builders/GLOBAL\n",
    "steps:\n",
    "- name: \"docker.io/library/python:3.8\"\n",
    "  id: CI\n",
    "  entrypoint: /bin/sh\n",
    "  args:\n",
    "  - -c\n",
    "  - 'chmod a+x install.sh && ./install.sh && pytest'\n",
    "- name: \"docker.io/library/python:3.8\"\n",
    "  id: CD\n",
    "  entrypoint: /bin/sh\n",
    "  args:\n",
    "  - -c\n",
    "  - 'chmod a+x install.sh && ./install.sh && kedro run --pipeline global'\n",
    "  env:\n",
    "  - 'ENV=$BRANCH_NAME'\n",
    "  - 'MLFLOW_SERVER=$_MLFLOW_SERVER'\n",
    "- name: 'gcr.io/google.com/cloudsdktool/cloud-sdk'\n",
    "  id: API Deploy\n",
    "  entrypoint: 'bash'\n",
    "  args: \n",
    "  - '-c'\n",
    "  - |\n",
    "      gcloud source repos clone purchase_predict_api /tmp/purchase_predict_api --project=$PROJECT_ID\n",
    "      git --git-dir=/tmp/purchase_predict_api/.git --work-tree=/tmp/purchase_predict_api checkout $BRANCH_NAME\n",
    "      gcloud builds submit \\\n",
    "        --config /tmp/purchase_predict_api/cloudbuild.yaml /tmp/purchase_predict_api \\\n",
    "        --substitutions=SHORT_SHA=$SHORT_SHA\n",
    "timeout: 1200s"
   ]
  },
  {
   "cell_type": "markdown",
   "metadata": {},
   "source": [
    "Nous ajoutons ici une dernière étape qui va récupérer l'image `gcr.io/google.com/cloudsdktool/cloud-sdk` pour là-aussi interagir avec le SDK `gcloud`. L'exécution est ensuite assez dense et peut se décomposer en plusieurs étapes.\n",
    "\n",
    "- On commence par récupérer le dépôt distant avec `gcloud source repos` de notre API que l'on enregistre dans `/tmp/purchase_predict_api`.\n",
    "- Ensuite, nous nous positionnons sur la branche adaptée (`master` ou `staging`) avec un `checkout` en spécifiant par l'intermédiaire des arguments `--git-dir` et `--work-tree` le chemin d'accès du code de l'API.\n",
    "- Enfin, avec `gcloud builds submit`, nous envoyons manuellement un nouveau build en spécifiant le fichier `cloudbuild.yaml` de l'API et en indiquant le dossier des codes sources situé dans `/tmp/purchase_predict_api`.\n",
    "\n",
    "<div class=\"alert alert-block alert-info\">\n",
    "    Pour accélérer les temps de calcul, le paramètre Kedro <code>automl_max_evals</code> a été fixé à $1$.\n",
    "</div>\n",
    "\n",
    "Pour des raisons de temps de calcul, nous rajoutons un `timeout` à 1200s à la fin. En effet, la dernière étape va générer un second build qui sera dépendant de celui-ci. Ainsi, la dernière étape sera terminée uniquement lorsque le build lancé sera lui-aussi terminé : il faut donc prendre en compte le temps nécessaire à la fois pour entraîner le modèle, mais aussi pour construire l'image Docker et l'envoyer sur Cloud Run.\n",
    "\n",
    "En effectuant un nouveau commit et un push, l'exécution sur Cloud Build devrait prendre au total 7 à 8 minutes. À la fin, la nouvelle version sera déployée sur Cloud Run."
   ]
  },
  {
   "cell_type": "markdown",
   "metadata": {
    "type": "ending"
   },
   "source": [
    "## ✔️ Conclusion\n",
    "\n",
    "Le pipeline de pré-production est enfin prêt ! Il est 100% automatisé, et en tant que ML Engineer ou Data Scientist, nous pouvons à tout moment modifier le code ou le modèle et un simple `push` fera le travail de déploiement à notre place (du moins dans l'environnement staging).\n",
    "\n",
    "- Nous avons crée le pipeline CI/CD pour l'API.\n",
    "- Nous avons construit le pipeline de pré-production dont l'exécution est entièrement automatisée.\n",
    "\n",
    "> ➡️ Après le pipeline de pré-production, au tour du **pipeline de production** ! Mais cette fois-ci, la production va devoir supporter de grandes charges de travail (milliers/millions de requêtes) : c'est donc **Kubernetes** qui va héberger l'API."
   ]
  }
 ],
 "metadata": {
  "celltoolbar": "Éditer les Méta-Données",
  "kernelspec": {
   "display_name": "Python 3",
   "language": "python",
   "name": "python3"
  },
  "language_info": {
   "codemirror_mode": {
    "name": "ipython",
    "version": 3
   },
   "file_extension": ".py",
   "mimetype": "text/x-python",
   "name": "python",
   "nbconvert_exporter": "python",
   "pygments_lexer": "ipython3",
   "version": "3.7.5"
  }
 },
 "nbformat": 4,
 "nbformat_minor": 4
}
