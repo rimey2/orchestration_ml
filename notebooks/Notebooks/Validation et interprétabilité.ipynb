{
 "cells": [
  {
   "cell_type": "markdown",
   "metadata": {
    "type": "intro"
   },
   "source": [
    "Pour s'assurer qu'une fois en production, le modèle adopte un comportement similaire à celui rencontré lors de la phase expérimentale, nous devons utiliser des outils nous permettant de l'auditer. Bien que les scores permettent d'avoir une idée sur les performances globales, elles ne sont pas suffisantes.\n",
    "\n",
    "<blockquote><p>🙋 <b>Ce que nous allons faire</b></p>\n",
    "<ul>\n",
    "    <li>Évaluer les performances du modèle</li>\n",
    "    <li>Interpéter localement le modèle</li>\n",
    "</ul>\n",
    "</blockquote>\n",
    "\n",
    "<img src=\"https://media.giphy.com/media/uvoECTG2uCTrG/giphy.gif\" />"
   ]
  },
  {
   "cell_type": "markdown",
   "metadata": {},
   "source": [
    "## Validation du modèle\n",
    "\n",
    "Les premiers objectifs de la validation permettent de s'assurer que le modèle calibré respecte bien certaines contraintes qui ne sont pas uniquement liées aux performances ou au score."
   ]
  },
  {
   "cell_type": "code",
   "execution_count": null,
   "metadata": {
    "id": "08e4aa853bb3747b"
   },
   "outputs": [],
   "source": [
    "import os\n",
    "import joblib\n",
    "\n",
    "import numpy as np\n",
    "import pandas as pd\n",
    "\n",
    "import matplotlib.pyplot as plt\n",
    "import matplotlib.ticker as mtick\n",
    "import seaborn as sns\n",
    "\n",
    "sns.set()\n",
    "\n",
    "model = joblib.load(os.path.expanduser(\"~/data/model.pkl\"))\n",
    "X_train = pd.read_csv(os.path.expanduser(\"~/data/X_train.csv\"))\n",
    "X_test = pd.read_csv(os.path.expanduser(\"~/data/X_test.csv\"))\n",
    "y_train = pd.read_csv(os.path.expanduser(\"~/data/y_train.csv\")).values.flatten()\n",
    "y_test = pd.read_csv(os.path.expanduser(\"~/data/y_test.csv\")).values.flatten()\n",
    "\n",
    "y_prob = model.predict_proba(X_test)"
   ]
  },
  {
   "cell_type": "markdown",
   "metadata": {},
   "source": [
    "### Densités des classes\n",
    "\n",
    "Nous avons vu que la précision de notre modèle était moins bonne que le rappel. En particulier, avec la courbe de calibration, nous avons pu observer que sur des probabilités prédites (classe positive) inférieures à $40\\%$, les proportions d'observations réellement positives n'adoptaient pas un comportement linéaire.\n",
    "\n",
    "Pour mieux visualiser ce phénomène, il est courant de représenter les densités des deux classes sur un grahique. On affiche deux histogrammes, qui correspondent aux observations prédites positivement et négativement."
   ]
  },
  {
   "cell_type": "code",
   "execution_count": null,
   "metadata": {
    "id": "a10c76b6f2cf4c9b"
   },
   "outputs": [],
   "source": [
    "plt.figure(figsize=(16, 10))\n",
    "\n",
    "sns.histplot(y_prob[y_test == 0, 1], alpha=0.5)\n",
    "plt.axvline(np.median(y_prob[y_test == 0, 1]), 0,1, linestyle=\"--\", label=\"Median Class 0\")\n",
    "plt.axvline(np.mean(y_prob[y_test == 0, 1]), 0,1, linestyle=\"-\", label=\"Mean Class 0\")\n",
    "\n",
    "sns.histplot(y_prob[y_test == 1, 1], color=\"darkorange\", alpha=0.4)\n",
    "plt.axvline(np.median(y_prob[y_test == 1, 1]), 0, 1, linestyle=\"--\", color=\"darkorange\", label=\"Median Class 1\")\n",
    "plt.axvline(np.mean(y_prob[y_test == 1, 1]), 0, 1, linestyle=\"-\", color=\"darkorange\", label=\"Mean Class 1\")\n",
    "\n",
    "plt.legend()\n",
    "plt.xlabel(\"Predicted probabilites\")\n",
    "plt.gca().xaxis.set_major_formatter(mtick.PercentFormatter(1, 0))\n",
    "plt.xlim(-0.05, 1.05)\n",
    "plt.title(\"Density Chart\", fontsize=16)\n",
    "plt.show()"
   ]
  },
  {
   "cell_type": "markdown",
   "metadata": {},
   "source": [
    "Pour rappel, nous avions déjà calculé la courbe de calibration du modèle."
   ]
  },
  {
   "cell_type": "code",
   "execution_count": null,
   "metadata": {
    "id": "de02d037b17ac5b0"
   },
   "outputs": [],
   "source": [
    "from sklearn.calibration import calibration_curve\n",
    "\n",
    "prob_pos = model.predict_proba(X_test)[:, 1]\n",
    "fraction_of_positives, mean_predicted_value = calibration_curve(y_test, prob_pos, n_bins=20)\n",
    "\n",
    "plt.figure(figsize=(16, 10))\n",
    "plt.plot([0, 1], [0, 1], \"k--\", label=\"Perfectly calibrated\", alpha=0.6)\n",
    "plt.plot(mean_predicted_value, fraction_of_positives, \"s-\", label=\"Model\")\n",
    "plt.ylabel(\"Fraction of positives\")\n",
    "plt.xlabel(\"Predicted probabilites\")\n",
    "plt.legend()\n",
    "plt.gca().xaxis.set_major_formatter(mtick.PercentFormatter(1, 0))\n",
    "plt.gca().yaxis.set_major_formatter(mtick.PercentFormatter(1, 0))\n",
    "plt.title(\"Calibration Curve\")\n",
    "plt.show()"
   ]
  },
  {
   "cell_type": "markdown",
   "metadata": {},
   "source": [
    "Bien que la courbe de calibration ne soit pas choquante, nous observons sur les densités des classes que les deux distributions sont **asymétriques** avec une moyenne à gauche par rapport à la médiane, traduisant d'un étalement vers la gauche. Bien que ce soit attendu pour la classe positive, cela l'est moins pour la classe négative. En effet, cette dernière devrait, pour un modèle parfait, être étalée vers la droite, donc la majorité des observations sont à gauche.\n",
    "\n",
    "En soit, ce graphe ne bloque pas la validation du modèle, elle traduit simplement de manière visuelle que le modèle a plus de difficultés à prédire avec une forte confiance des probabilités basses."
   ]
  },
  {
   "cell_type": "markdown",
   "metadata": {},
   "source": [
    "### Courbe ROC\n",
    "\n",
    "La courbe ROC trace la courbe de la sensibilité du modèle en fonction de sa spécifité. En d'autres termes, il s'agit de tracer l'évolution du taux de vrais positifs en fonction du taux de faux positifs."
   ]
  },
  {
   "cell_type": "code",
   "execution_count": null,
   "metadata": {
    "id": "c0c0cd42ce034812"
   },
   "outputs": [],
   "source": [
    "from sklearn.metrics import roc_curve, auc\n",
    "\n",
    "fpr, tpr, _ = roc_curve(y_test, model.predict_proba(X_test)[:, 1])\n",
    "\n",
    "plt.figure(figsize=(16, 10))\n",
    "plt.plot(fpr, tpr, color='darkorange', lw=2, label='ROC curve (area = {:2.1f}%)'.format(auc(fpr, tpr) * 100))\n",
    "plt.plot([0, 1], [0, 1], color='navy', lw=2, linestyle='--')\n",
    "plt.xlim([-0.01, 1.01])\n",
    "plt.ylim([-0.01, 1.01])\n",
    "plt.xlabel('False Positive Rate')\n",
    "plt.ylabel('True Positive Rate')\n",
    "plt.gca().xaxis.set_major_formatter(mtick.PercentFormatter(1, 0))\n",
    "plt.gca().yaxis.set_major_formatter(mtick.PercentFormatter(1, 0))\n",
    "plt.title(\"ROC Curve\", fontsize=16)\n",
    "plt.legend(loc=\"lower right\")"
   ]
  },
  {
   "cell_type": "markdown",
   "metadata": {},
   "source": [
    "### Courbe PR\n",
    "\n",
    "Une autre courbe également utilisée est la courbe PR, qui elle va tracer l'évolution de la précision en fonction du rappel."
   ]
  },
  {
   "cell_type": "code",
   "execution_count": null,
   "metadata": {
    "id": "2cb1c1ec5f9cd9c5"
   },
   "outputs": [],
   "source": [
    "from sklearn.metrics import precision_recall_curve, plot_precision_recall_curve\n",
    "from sklearn.metrics import PrecisionRecallDisplay\n",
    "\n",
    "import matplotlib.pyplot as plt\n",
    "\n",
    "y_pred = model.predict_proba(X_test)\n",
    "\n",
    "plt.figure(figsize=(16,11))\n",
    "prec, recall, _ = precision_recall_curve(y_test, model.predict_proba(X_test)[:,1], pos_label=1)\n",
    "pr_display = PrecisionRecallDisplay(precision=prec, recall=recall).plot(ax=plt.gca())\n",
    "plt.title(\"PR Curve\", fontsize=16)\n",
    "plt.gca().xaxis.set_major_formatter(mtick.PercentFormatter(1, 0))\n",
    "plt.gca().yaxis.set_major_formatter(mtick.PercentFormatter(1, 0))\n",
    "plt.show()"
   ]
  },
  {
   "cell_type": "markdown",
   "metadata": {},
   "source": [
    "La principale différence entre les courbes ROC et PR, c'est que la précision et le rappel calculent des taux à partir des vrais positifs sans se soucier des vrais négatifs. La précision ne fait pas intervenir \n",
    "\n",
    "À l'inverse de la courbe ROC, la précision n'utilise pas le TPR, mais la PPV !\n",
    "\n",
    "À l'inverse, la courbe ROC utilise toutes les informations.\n",
    "\n",
    "Si l'on ne s'intéresse pas à la **spécificité**, alors la courbe PR peut être intéressante à interpréter. Dans le cas contraire, la courbe ROC pourra fournir plus d'informations."
   ]
  },
  {
   "cell_type": "markdown",
   "metadata": {
    "break": "new"
   },
   "source": [
    "## Interprétation locale\n",
    "\n",
    "Au cours des dernières années, les modèles de Machine Learning atteignaient des performances de plus en plus élevées, dépassant parfois les performances réalisées par des humains sur certaines tâches précises. La compétition annuelle ILSVRC, où des équipes de recherche évaluent des algorithmes de traitement d'image sur le jeu de données ImageNet, voyait les meilleurs taux d'erreurs à $26\\%$. \n",
    "\n",
    "En 2012, l'avènement des réseaux de neurones et de l'apprentissage profond, et plus particulièrement les réseaux de neurones convolutifs ont permis d'abaisser le taux d'erreur à $16\\%$. Depuis, les réseaux de neurones sont majoritairement utilisés dans cette compétition et d'autres semblables.\n",
    "\n",
    "<img src=\"https://dv495y1g0kef5.cloudfront.net/training/data_scientist_airbnb/img/interp1.png\" />\n",
    "\n",
    "En contrepartie, les réseaux de neurones sont souvent considérés comme des « boîtes noires », c'est-à-dire des algorithmes dont le fonctionnement est opaque et difficile à interpréter. En effet, du fait du très grand nombre de paramètres (plusieurs dizaines voir centaines de millions), l'interprétation de ces modèles n'est pas faisable.\n",
    "\n",
    "Les réseaux de neurones sont un exemple de « boîtes noires », tout comme le sont les algorithmes d'ensemble learning que nous avons construit tels que Random Forest ou XGBoost.\n",
    "\n",
    "Le terme **transparence des algorithmes** est propre au contexte étudié, et il n'existe pas une définition unique. La transparence peut faire référence à la connaissance de la décision prise par l'algorithme, au degré d'exactitude de la prédiction ou à l'importance des variables sur la prédiction.\n",
    "\n",
    "<a href=\"https://christophm.github.io/interpretable-ml-book/\" target=\"_blank\">Christoph Molnar</a> reprend la définition de l'interprétabilité de Tim Miller :\n",
    "\n",
    "<p style=\"text-align: center;\">« L'interprétabilité est le degré à quel point un humain peut expliquer de manière cohérente les prédictions du modèle »</p>\n",
    "\n",
    "Sous cette définition, l'interprétabilité est une partie intégrante de la transparence, qui vise à être capable d'expliquer de manière précise et consistante la prédiction, que ce soit pour une observation ou dans le comportement global de l'algorithme.\n",
    "\n",
    "### Modèles naturellement interprétables\n",
    "\n",
    "Que signifie un modèle naturellement interprétable ? Lorsque nous avons réalisé la régression linéaire, nous avons été capable de calculer directement l'impact de chaque variable sur la prédiction. De plus, du fait de l'hypothèse de linéarité entre les variables, il est facile d'expliquer comment, **pour un individu donné, le résultat a été obtenu (i.e. de combien le prix a augmenté ou diminué)**. Enfin, le modèle suppose initialement **l'indépendance entre les variables**, ce qui permet de considérer les effets croisés entre les variables inexistants.\n",
    "\n",
    "$$y_i= \\beta_0 + \\sum_{j=1}^p \\beta_j x_{ij} + \\varepsilon_i$$\n",
    "\n",
    "Autrement dit, chaque variable **est associée d'un \"poids\" $\\beta_j$** : dans le cas où toutes les variables sont dans la même unité de mesure, cela permet donc de mesure **l'importance de chaque variable**.\n",
    "\n",
    "Néanmoins, chaque individu possède des caractéristiques différentes : et c'est notamment en multipliant la valeur $x_{ij}$ d'une variable d'un individu $x_i$ par le poids $\\beta_j$ que l'on peut caractériser, **pour cet individu**, l'importance et le rôle de la variable sur la prédiction.\n",
    "\n",
    "En revanche, les modèles qui permettent d'atteindre des performances plus élevées, sont également plus difficilement interprétables. Le modèle XGBoost est construit de manière récursive, et chaque arbre dépends des précédents. Pour expliquer la prédiction d'une observation $x$, il est nécessaire de calculer la sortie de chaque arbre, en sachant que les prédicteurs faibles ne cherchent plus à modéliser la variable réponse, mais les pseudo-résidus. C'est la multiplicité des arbres (associée à d'éventuels arbres profonds) qui rend la compréhension du comportement du modèle quasi-impossible.\n",
    "\n",
    "Ainsi, au cours des dernières années, la recherche académique s'est penchée sur des méthodes d'interprétabilité afin de pouvoir expliquer le comportement et les prédictions des algorithmes. Deux types de méthodes ont été développées.\n",
    "\n",
    "### Méthode agnostiques\n",
    "\n",
    "Les méthodes dites **agnostiques** sont indépendantes du modèle prédictif utilisé. Le principal avantage est leur flexibilité, puisque ces méthodes peuvent être appliquées sans connaissance particulière du modèle prédictif, si ce n'est qu'obtenir la prédiction $\\hat{f}(\\mathbf{x})$ pour toute observation $\\mathbf{x}$. Ces méthodes agnostiques s'intercalent sur des modèles boîtes noires. Les PDP (Partial Dependency Plot) furent une des premières méthodes d'interprétabilité, en estimant les lois marginales des variables sous des hypothèses d'indépendance entre les variables. Plus récemment, d'autres méthodes telles que **LIME** ou **Kernel SHAP** ont été introduites afin de pallier certaines faiblesses des précédentes méthodes et de les adapter pour des modèles plus complexes et plus coûteux en terme de calcul.\n",
    "\n",
    "### Méthode spécifiques\n",
    "\n",
    "Les méthodes dites **spécifiques** dépendent du modèle prédictif utilisé. Bien que ces méthodes soient moins flexibles, elles permettent d'obtenir de meilleurs interprétabilité puisqu'elles sont spécifiquement développées pour un modèle prédictif particulier. Ces méthodes ne se reposent pas uniquement sur la prédiction $\\hat{f}(\\mathbf{x})$ des observations $\\mathbf{x}$, mais utilisent également les propriétés et méthodes de construction d'un modèle pour en extraire le plus d'information quant au comportement que celui-ci adopte. Les réseaux de neurones sont principalement visés par ces méthodes avec **DeepLIFT**, ou les modèles à base d'arbres avec **Tree SHAP**.\n",
    "\n",
    "### Niveaux de granularité\n",
    "\n",
    "Lorsque le terme d'interprétabilité est employé, deux niveaux de granularité peuvent être distingués en classes de méthodes.\n",
    "\n",
    "- Les méthodes dites **locales**, où la méthode consiste à expliquer la prédiction d'une observation particulière. Christoph Molnar différencie l'interprétabilité (générale) du modèle et appelle l'*explication* le fait de pouvoir pleinement expliquer la prédiction pour une observation particulière. DeepLIFT ou Tree SHAP sont des exemples de méthodes locales.\n",
    "- Les méthodes dites **globales**, qui cherchent plutôt à expliquer les tendances du modèle sur l'ensemble des prédictions, comme par exemple les lois marginales. PDP ou Tree Interpreter sont des exemples de méthodes globales.\n",
    "\n",
    "<div class=\"alert alert-block alert-warning\">\n",
    "    Ces méthodes calculent souvent une approximation pour pouvoir interpréter plus facilement : <b>attention à la sur-interprétation</b>.\n",
    "</div>\n",
    "    \n",
    "Nous allons nous concentrer ici à **l'interprétabilité locale** du modèle.\n",
    "\n",
    "## Valeurs de Shapley\n",
    "\n",
    "Les valeurs de Shapley fournissent une méthode d'interprétabilité **locale** : elles permettent de répondre à la question « pourquoi cet utilisateur a une forte probabilité d'acheter ? ». Faisons une petite introduction à cette méthode.\n",
    "\n",
    "Les valeurs de Shapley puisent leurs origines dans la théorie des jeux coopératifs. Ces valeurs furent calculées par Lloyd Shapley en 1953. Les valeurs de Shapley indiquent la répartition équitable des gains parmi les joueurs (ou *acteurs*) d'une coalition dans le cadre d'un jeu coopératif. Cette configuration induit une **utilité transférable**, puisque l'objectif de cette coalition est de **maximiser** le profit global, pour ensuite redistribuer ce montant parmi les membres de la coalition. Il est important de distinguer la notion d'équité et d'égalité. Soient trois joueurs $A, B$ et $C$ qui, individuellement, n'apportent aucun gain, mais qui, sous forme de coalition, apportent les gains suivants :\n",
    "\n",
    "- la coalition $\\{A, B\\}$ rapporte $2$ ;\n",
    "- la coalition $\\{A, C\\}$ rapporte $2$ ;\n",
    "- la coalition $\\{B, C\\}$ rapporte $3$ ;\n",
    "- la coalition totale $\\{A, B, C\\}$ rapporte le gain total $4$.\n",
    "\n",
    "Dans cet exemple, il est clair que la coalition $\\{B, C\\}$ est celle qui **contribue** le plus au gain total par rapport aux autres coalitions. Ainsi, pour satisfaire une notion d'équité, les joueurs de la coalition $\\{B, C\\}$ doivent recevoir une part plus importante du gain total par rapport au joueur $A$.\n",
    "\n",
    "Pour un jeu coopératif à $p$ joueurs, il peut y avoir $2^p-1$ coalitions non vides possibles, où chaque joueur est identifié par un indice allant de $1$ à $p$. Le profit **est supposé connu** pour chaque partie de $\\{1,…,p\\}$, et se quantifie par la **fonction caractéristique** $v:\\mathcal{P}(\\{1,…,p\\}) \\rightarrow \\mathbb{R}$, et vérifiant $v(\\emptyset)=0$. En pratique, rien ne suppose que les gains d'une coalition soient toujours supérieurs à la somme des gains de chaque joueur, soit\n",
    "\n",
    "$$v \\left( \\bigcup_i \\{i\\} \\right) \\ngeqslant \\sum_{i} v(\\{i\\})$$\n",
    "\n",
    "Dans ce cas de figure, un ou plusieurs joueurs auront une valeur de Shapley **inférieure** au gain individuel, car ils contribueront à faire baisser les gains lors du rassemblement en coalition. Cet événement peut survenir dans des cadres classiques de la théorie moderne de l'économie (deux entreprises qui coopèrent ensemble peuvent obtenir un profit moins élevé que si elles ne coopéraient pas), mais cet aspect est particulièrement important en apprentissage supervisé, ce qui sera détaillé par la suite.\n",
    "\n",
    "Shapley a donc déterminé la seule solution qui vérifie ces axiomes, à savoir\n",
    "\n",
    "$$\\phi_i=\\sum_{Z \\subseteq\\{1, \\dots, p\\} : j \\in Z} \\frac{(p-|Z|)!(|Z|-1)!}{p!}\\left [ v(Z)-v(Z \\backslash \\{ j\\}) \\right ]$$\n",
    "\n",
    "où $|Z|$ désigne la cardinalité de l'ensemble $Z$. Cette formule opère comme définition des valeurs de Shapley que nous utiliserons dans la modélisation. Notons que le calcul des valeurs de Shapley implique de **connaître les gains pour toutes les coalitions possibles**. Dans certains domaines (économique par exemple), cela n'est pas toujours possible, notamment lorsque les coalitions ne peuvent pas se reformer (si deux entreprises coopèrent, leurs gains individuels après coopération peuvent être différents des gains individuels avant coopération). Ainsi, $v$ est **entièrement déterminée** et pour tout $C \\subseteq \\{1, \\dots, p\\}$, la valeur $v(C)$ est connue.\n",
    "\n",
    "### SHAP\n",
    "\n",
    "En 2017, Scott Lundberg propose SHAP comme mesure unifiée de l'importance des variables. Son idée est la suivante :\n",
    "\n",
    "- On considère que les variables sont **les joueurs**.\n",
    "- La coalition totale représente l'ensemble des variables, et le gain correspond à **la prédiction du modèle**\n",
    "\n",
    "Idéalement, une valeur de Shapley pour une variable nous indiquerait quelle est sa contribution sur la prédiction. Par exemple, une valeur de Shapley proche de $0$ signifierait que la variable n'a pas beaucoup impacté la prédiction, alors qu'une valeur élevée indiquerait que la variable impacte fortement le prix du logement.\n",
    "\n",
    "Avec SHAP, nous allons pouvoir calculer ces valeurs de Shapley (de manière approximative ou exacte pour les arbres de décision).\n",
    "\n",
    "Ainsi, Lundberg a montré que, pour chaque individu x, les valeurs SHAP sont calculées de sorte à exprimer la prédiction $\\hat{f}(\\mathbf{x})$ par la somme des contributions des variables :\n",
    "\n",
    "$$\\hat{f}(\\mathbf{x})=\\frac{1}{1+\\exp \\left(-\\phi_0-\\sum_{j=1}^p \\phi_j \\right)}$$\n",
    "\n",
    "Avec $\\phi_0$ la moyenne des valeurs de Shapley pour la classe positive. Les valeurs de Shapley vont être stockées dans la variable `shap_values`."
   ]
  },
  {
   "cell_type": "code",
   "execution_count": null,
   "metadata": {
    "id": "42381a542e948c39"
   },
   "outputs": [],
   "source": [
    "import shap\n",
    "\n",
    "# L'objet Explainer\n",
    "explainer = shap.TreeExplainer(model)\n",
    "X_shap = X_test.copy()\n",
    "# On récupère les valeurs de Shapley dans la matrice (pour la proba positive)\n",
    "shap_values = explainer.shap_values(X_shap)[1]"
   ]
  },
  {
   "cell_type": "markdown",
   "metadata": {},
   "source": [
    "Pour interpréter plus facilement les valeurs de Shapley d'une observation, nous allons décomposer chaque variable sur un diagramme en bâtons."
   ]
  },
  {
   "cell_type": "code",
   "execution_count": null,
   "metadata": {
    "id": "1f5dd5254ad88922"
   },
   "outputs": [],
   "source": [
    "# Cette fonction permet d'afficher les valeurs de Shapley sous forme de diagramme en bâtons\n",
    "def plot_shapley_values(index):\n",
    "    shap_df = pd.DataFrame.from_dict({\n",
    "        'Variable': X_shap.columns + \" (\" + X_shap.iloc[0, :].values.astype(str) + \")\",\n",
    "        'Valeur de Shapley': shap_values[index, :]\n",
    "    })\n",
    "\n",
    "    # Pour rappel, la prédiction est égale à la somme des valeurs de Shapley + la valeur moyenne\n",
    "    prob = explainer.expected_value[1] + shap_df['Valeur de Shapley'].sum()\n",
    "    prob = 1 / (1 + np.exp(-prob))\n",
    "\n",
    "    plt.figure(figsize=(13,10))\n",
    "    sns.barplot(\n",
    "        y='Variable',\n",
    "        x='Valeur de Shapley',\n",
    "        data=shap_df.sort_values('Valeur de Shapley', ascending=False)\n",
    "    )\n",
    "    plt.title(\n",
    "        \"Probabilité : {:2.2f}%\".format(prob * 100),\n",
    "        fontsize=18\n",
    "    )\n",
    "    plt.yticks(fontsize=13)\n",
    "    \n",
    "plot_shapley_values(8)"
   ]
  },
  {
   "cell_type": "markdown",
   "metadata": {},
   "source": [
    "Pour ce logement, le modèle est indécis puisqu'il prédit presque $50/50$. Ce que l'on remarque, c'est que pour cet utilisateur, ce produit en particulier contribue fortement à faire baisser la probabilité.\n",
    "\n",
    "Prenons un autre utilisateur."
   ]
  },
  {
   "cell_type": "code",
   "execution_count": null,
   "metadata": {
    "id": "68cc0a69742c5e37"
   },
   "outputs": [],
   "source": [
    "plot_shapley_values(1)"
   ]
  },
  {
   "cell_type": "markdown",
   "metadata": {},
   "source": [
    "En revanche, pour cet utilisateur, il y a une très forte probabilité d'achat. Les variables les plus impactantes sont le nombre de vues et de sessions.\n",
    "\n",
    "Dans certains cas, il est possible d'interpréter globalement en affichant les valeurs de Shapley de chaque variable et de chaque observation. La variation de couleur indique si la variable a une grande valeur ou non."
   ]
  },
  {
   "cell_type": "code",
   "execution_count": null,
   "metadata": {
    "id": "fe1ae9c80d3dbe3f"
   },
   "outputs": [],
   "source": [
    "shap.summary_plot(shap_values, X_shap, plot_size=0.8)"
   ]
  },
  {
   "cell_type": "markdown",
   "metadata": {},
   "source": [
    "Alors que l'on observe une tendance croissante pour le `num_views_session` ou `duration`, cela est plus difficile pour `product_id`, `brand` ou `category`, ce qui est prévisible puisque nous avions réalisé un encodage par dictionnaire : il n'y a donc pas de relation d'ordre entre les variables.\n",
    "\n",
    "Regardons en détail les valeurs de Shapley uniquement pour la variable `product_id`."
   ]
  },
  {
   "cell_type": "code",
   "execution_count": null,
   "metadata": {
    "id": "3ed99ef8a4802fac"
   },
   "outputs": [],
   "source": [
    "shap.dependence_plot(\"product_id\", shap_values, X_shap, interaction_index=None)"
   ]
  },
  {
   "cell_type": "markdown",
   "metadata": {},
   "source": [
    "Il est intéressant de voir que certains paliers se forment : spécifiquement entre 2e7 et 3e7, il y a certains produits qui influencent positivement la probabilité d'acheter, car leur valeurs s'élèvent à $4$.\n",
    "\n",
    "<div class=\"alert alert-block alert-warning\">\n",
    "    La valeur de Shapley ne représente pas une probabilité ! Il s'agit du calcul avant le passage par la fonction logistique.\n",
    "</div>"
   ]
  },
  {
   "cell_type": "code",
   "execution_count": null,
   "metadata": {
    "id": "f770a233ea5eb6f8"
   },
   "outputs": [],
   "source": [
    "shap.dependence_plot(\"hour\", shap_values, X_shap, interaction_index=None)"
   ]
  },
  {
   "cell_type": "markdown",
   "metadata": {},
   "source": [
    "Pour l'heure de visite, nous observons également un comportement moyen décroissant entre 5h et 17h, puis une augmentation jusqu'à 00h. Cette baisse peut s'expliquer par le fait qu'à partir de 17h, il y a beaucoup plus de connexions qu'en milieu de nuit, et que ces utilisateurs sont plus souvent indécis que ceux visitant le site la nuit."
   ]
  },
  {
   "cell_type": "code",
   "execution_count": null,
   "metadata": {
    "id": "06cef181c58231a3"
   },
   "outputs": [],
   "source": [
    "shap.dependence_plot(\"num_views_session\", shap_values, X_shap, interaction_index=None)"
   ]
  },
  {
   "cell_type": "markdown",
   "metadata": {},
   "source": [
    "Contrairement à ce que nous pourrions penser, les valeurs de Shapley sont élevées pour les faibles valeurs de `num_views_sessions`. À partir de $5$ visites dans la même session, les valeurs de Shapley sont plus diffuses mais sont en moyenne de l'ordre de $-0.5$, faisant ainsi légèrement baisser la probabilité.\n",
    "\n",
    "<div class=\"alert alert-block alert-warning\">\n",
    "    Il faut toujours garder en tête qu'il y a des interactions entre les variables, et que le fait d'avoir des valeurs de Shapley élevées pour de faibles valeurs ne peut pas se résumérer à cette seule variable.\n",
    "</div>"
   ]
  },
  {
   "cell_type": "markdown",
   "metadata": {
    "type": "ending"
   },
   "source": [
    "## ✔️ Conclusion\n",
    "\n",
    "Cette étape de validation est importante, puisque lorsque nous automatiserons l'entraînement du modèle, seuls ces graphiques et ces interprétations permettront de vérifier que le modèle est réellement performant, et pas uniquement en terme de métriques.\n",
    "\n",
    "- Nous avons validé le modèle à l'aide de graphiques.\n",
    "- Nous avons interprété localement certaines observations avec les valeurs de Shapley.\n",
    "\n",
    "> ➡️ Maintenant que avons construit notre pipeline ML, de la transformation des données à la validation, il nous faut l'appliquer non pas sur un échantillon d'un jour d'historique, mais de $7$ jours d'historique."
   ]
  }
 ],
 "metadata": {
  "celltoolbar": "Éditer les Méta-Données",
  "kernelspec": {
   "display_name": "Python 3",
   "language": "python",
   "name": "python3"
  },
  "language_info": {
   "codemirror_mode": {
    "name": "ipython",
    "version": 3
   },
   "file_extension": ".py",
   "mimetype": "text/x-python",
   "name": "python",
   "nbconvert_exporter": "python",
   "pygments_lexer": "ipython3",
   "version": "3.8.0"
  }
 },
 "nbformat": 4,
 "nbformat_minor": 4
}
