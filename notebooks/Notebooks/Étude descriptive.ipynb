{
 "cells": [
  {
   "cell_type": "markdown",
   "metadata": {
    "type": "intro"
   },
   "source": [
    "Lançons-nous dès à présent dans le vif du sujet ! Comme tout bon Data Scientist, il faut bien évidemment au préalable manipuler les données pour mieux les comprendre. En plus d'avoir en tête des informations descriptives sur nos données, nous allons pouvoir étudier quelles sont les caractéristiques qui seront pertinentes lorsque nous aborderons la phase de modélisation.\n",
    "\n",
    "<blockquote><p>🙋 <b>Ce que nous allons faire</b></p>\n",
    "<ul>\n",
    "    <li>Récolter un échantillon du jeu de données et l'étudier.</li>\n",
    "    <li>Comprendre les différentes caractéristiques présentes.</li>\n",
    "    <li>Identifier les variables pertinentes pour l'objectif.</li>\n",
    "</ul>\n",
    "</blockquote>\n",
    "\n",
    "<img src=\"https://media.giphy.com/media/lOfpvYQoiJW03vpJhP/giphy.gif\" width=\"300\" />"
   ]
  },
  {
   "cell_type": "markdown",
   "metadata": {},
   "source": [
    "## Récupération des données\n",
    "\n",
    "Le jeu de données que nous allons manipuler contient des événements utilisateurs sur une plateforme E-Commerce. Pour cela, nous disposons de près de 7 mois d'enregistrements où, pour chaque événement (produit visité, ajout au panier, achat, ...), nous disposons des informations suivante.\n",
    "\n",
    "- `event_time` : le timestamp de l'événement (format UTC).\n",
    "- `event_type` : le type d'événement.\n",
    "- `product_id` : un identifiant unique associé au produit.\n",
    "- `category_id` : un identifiant unique associé à la catégorie du produit.\n",
    "- `category_code` : un code associé à la catégorie du produit.\n",
    "- `brand` : la marque du produit.\n",
    "- `price` : le prix du produit.\n",
    "- `user_id` : un identifiant unique associé à l'utilisateur.\n",
    "- `user_session` : un identifiant temporaire pour une session utilisateur.\n",
    "\n",
    "<div class=\"alert alert-block alert-warning\">\n",
    "    L'intégralité du jeu de données totalise près de 50 Go de fichiers. Pour cela, nous allons dans un premier temps étudier un échantillon.\n",
    "</div>\n",
    "\n",
    "L'objectif pour cette plateforme est **d'optimiser les offres ciblées d'opérations marketing** en proposant des réductions pour les utilisateurs **pendant leur parcours d'achat**. Pour cela, on s'intéresse à savoir si, au cours d'une session, un utilisateur va acheter un produit ou non, en fonction de son parcours connu jusqu'ici.\n",
    "\n",
    "Nous devons mieux connaître quelles sont les informations dont nous avons à disposition pour construire, par la suite, des variables qui apporteront le maximum d'information à notre modèle prédictif.\n",
    "\n",
    "Commençons par <a href=\"https://blent-learning-user-ressources.s3.eu-west-3.amazonaws.com/training/ml_engineer_facebook/data/sample.csv\" target=\"_blank\">récupérer les données</a>."
   ]
  },
  {
   "cell_type": "markdown",
   "metadata": {},
   "source": [
    "Chargeons avec la librairie `pandas` l'échantillon téléchargé."
   ]
  },
  {
   "cell_type": "code",
   "execution_count": null,
   "metadata": {
    "id": "7e4412eb6b0e03c7"
   },
   "outputs": [],
   "source": [
    "import os\n",
    "import numpy as np\n",
    "import pandas as pd\n",
    "\n",
    "# La fonction expanduser permet de convertir le répertoire ~ en chemin absolu\n",
    "data = pd.read_csv(os.path.expanduser(\"~/data/sample.csv\"))\n",
    "print(\"Taille de l'échantillon :\", data.shape[0])\n",
    "print(\"Taille mémoire : {:2.2f} Mb\".format(data.memory_usage().sum() / 1e6))\n",
    "data.head()"
   ]
  },
  {
   "cell_type": "markdown",
   "metadata": {},
   "source": [
    "Cet échantillon des données brutes contient 1,24 million de lignes. Regardons en détails quelles sont les informations présentes dans ces données brutes. Comme évoqué précédemment, nous retrouvons les colonnes mentionnées.\n",
    "\n",
    "- Tout d'abord, deux colonnes indiquent la temporalité et le type d'événement : c'est le cas des colonnes `event_time`, indiquant la date et le temps où l'événement a eu lieu au format UTC (norme <a href=\"https://fr.wikipedia.org/wiki/ISO_8601\" taret=\"_blank\">ISO 8601</a>), et `event_type` pour le type d'événement.\n",
    "- Ensuite, certains variables concernent l'utilisateur, notamment `user_id` et `user_session`.\n",
    "- Enfin, les autres informations sont relatives au produit concerné par l'événement : ce sont les colonnes `product_id`, `category_id`, `category_code`, `brand` et `price`."
   ]
  },
  {
   "cell_type": "markdown",
   "metadata": {
    "break": "new"
   },
   "source": [
    "## Statistiques sur les événements\n",
    "\n",
    "Étudions chaque variable, indépendamment des autres avec des **analyses univariées**."
   ]
  },
  {
   "cell_type": "code",
   "execution_count": null,
   "metadata": {
    "id": "aa4e020771527153"
   },
   "outputs": [],
   "source": [
    "import matplotlib.pyplot as plt\n",
    "import seaborn as sns\n",
    "\n",
    "# Permet d'appliquer le style graphique de Seaborn par défaut sur matplotlib\n",
    "sns.set()"
   ]
  },
  {
   "cell_type": "markdown",
   "metadata": {},
   "source": [
    "Pour pouvoir mieux comprendre la temporalité des événements, nous allons extraire les informations depuis la colonne `event_time`."
   ]
  },
  {
   "cell_type": "code",
   "execution_count": null,
   "metadata": {
    "id": "2be3e218e4499fb8"
   },
   "outputs": [],
   "source": [
    "# Conversion de la colonne event_time en type datetime\n",
    "data[\"event_time\"] = pd.to_datetime(data[\"event_time\"])\n",
    "\n",
    "data[\"event_day\"] = data[\"event_time\"].dt.day\n",
    "data[\"event_hour\"] = data[\"event_time\"].dt.hour\n",
    "data[\"event_minute\"] = data[\"event_time\"].dt.minute"
   ]
  },
  {
   "cell_type": "markdown",
   "metadata": {},
   "source": [
    "Regardons la distribution des temporalités."
   ]
  },
  {
   "cell_type": "code",
   "execution_count": null,
   "metadata": {
    "id": "b39003dd667e86c2"
   },
   "outputs": [],
   "source": [
    "import matplotlib.units as munits\n",
    "import matplotlib.dates as mdates\n",
    "import datetime\n",
    "\n",
    "# Permet d'afficher l'axe des abscisses plus joliment\n",
    "converter = mdates.ConciseDateConverter()\n",
    "munits.registry[np.datetime64] = converter\n",
    "munits.registry[datetime.date] = converter\n",
    "munits.registry[datetime.datetime] = converter\n",
    "\n",
    "print(\"Date min :\", data[\"event_time\"].min())\n",
    "print(\"Date max :\", data[\"event_time\"].max())\n",
    "\n",
    "plt.figure(figsize=(14, 9))\n",
    "sns.histplot(data[\"event_time\"])\n",
    "plt.xlabel(\"Heure\")\n",
    "plt.ylabel(\"Nombre d'événements\")\n",
    "plt.title(\"Répartition du nombre d'événements le 01-10-2019\", fontsize=17)\n",
    "plt.show()"
   ]
  },
  {
   "cell_type": "markdown",
   "metadata": {},
   "source": [
    "Notre échantillon contient tous les événements survenus le 01/01/2020.\n",
    "\n",
    "**On s'attend à avoir une ordre de grandeur de 40 à 50 millions d'événements dans le mois**.\n",
    "\n",
    "Intéressons-nous maintenant aux types d'événement."
   ]
  },
  {
   "cell_type": "code",
   "execution_count": null,
   "metadata": {
    "id": "9acbb15386984f18"
   },
   "outputs": [],
   "source": [
    "data[\"event_type\"].unique()"
   ]
  },
  {
   "cell_type": "markdown",
   "metadata": {},
   "source": [
    "Dans l'échantillon, trois événements sont observés.\n",
    "\n",
    "- `view` lorsqu'un utilisateur a vu la page d'un produit.\n",
    "- `cart` lorsqu'un utilisateur a ajouté un produit dans le panier.\n",
    "- `purchase` lorsqu'un utilisateur a acheté un produit.\n",
    "\n",
    "Bien évidemment, s'agissant d'un site E-Commerce, on s'attend à avoir une **sur-représentation** des événements de type `view` par rapport aux événements de type `purchase`."
   ]
  },
  {
   "cell_type": "code",
   "execution_count": null,
   "metadata": {
    "id": "012c25782756784e"
   },
   "outputs": [],
   "source": [
    "events_type_counts = data[\"event_type\"].value_counts() / data.shape[0]\n",
    "\n",
    "fig, ax = plt.subplots(figsize=(12, 8), subplot_kw=dict(aspect=\"equal\"))\n",
    "\n",
    "wedges, texts = ax.pie(\n",
    "    events_type_counts,\n",
    "    wedgeprops=dict(width=0.4)\n",
    ")\n",
    "\n",
    "for i, p in enumerate(wedges):\n",
    "    ang = (p.theta2 - p.theta1)/2. + p.theta1\n",
    "    y = np.sin(np.deg2rad(ang))\n",
    "    x = np.cos(np.deg2rad(ang))\n",
    "    horizontalalignment = {-1: \"right\", 1: \"left\"}[int(np.sign(x))]\n",
    "    ax.annotate(\n",
    "        \"{} : {:2.2f}%\".format(events_type_counts.index[i], events_type_counts[i] * 100),\n",
    "        xy=(x, y), xytext=(1.1*np.sign(x), 1.4*y),\n",
    "        fontsize=16,\n",
    "        horizontalalignment=horizontalalignment)\n",
    "\n",
    "ax.set_title(\"Proportion des types d'événements de l'échantillon\", fontsize=18)\n",
    "plt.show()"
   ]
  },
  {
   "cell_type": "markdown",
   "metadata": {},
   "source": [
    "> ❓ Pourquoi ce graphique est important ?\n",
    "\n",
    "Si l'on souhaite se diriger vers une classification binaire qui va calculer la probabilité de finalisation d'achat d'un utilisateur, c'est très important de savoir à l'avance si le jeu de données sera *imbalanced*, c'est-à-dire qu'une des deux classes sera très majoritairement présente (99% vs 1%)."
   ]
  },
  {
   "cell_type": "markdown",
   "metadata": {
    "break": "new"
   },
   "source": [
    "## Statistiques sur les utilisateurs\n",
    "\n",
    "Il y a deux identifiants importants concernant les utilisateurs dans le jeu de données.\n",
    "\n",
    "- La colonne `user_id`, donne un identifiant **unique** pour un utilisateur.\n",
    "- La colonne `session_id`, au format UUID, donne l'identifiant **unique** d'une session utilisateur.\n",
    "\n",
    "<div class=\"alert alert-info\">\n",
    "    <p>Un <a href=\"https://fr.wikipedia.org/wiki/Universally_unique_identifier\" target=\"_blank\">UUID</a> est un identifiant qui utilise le temps pour s'assurer de l'unicité (au sens où il est très probable d'avoir exactement deux sessions qui débutent à la même milliseconde voire microseconde).</p>\n",
    "</div>\n",
    "\n",
    "La session utilisateur est un concept important à maîtriser ici : lorsqu'un utilisateur visite le site, une session est créée. Cette session est conservé tout le long du parcours utilisateur sur le site. Dès lors que l'utilisateur quitte la plateforme, au bout d'un certain temps, la session **est stoppée**.\n",
    "\n",
    "Par exemple, si l'utilisateur visite le site 3 fois en une seule journée, par exemple 10 minutes le matin, 5 minutes l'après-midi et 20 minutes le soir, alors trois sessions seront créées dans la journée."
   ]
  },
  {
   "cell_type": "code",
   "execution_count": null,
   "metadata": {
    "id": "e8087fd72c3c84f5"
   },
   "outputs": [],
   "source": [
    "print(\"Nombre unique d'utilisateurs :\", len(data[\"user_id\"].unique()))\n",
    "print(\"Nombre de sessions :\", len(data[\"user_session\"].unique()))"
   ]
  },
  {
   "cell_type": "markdown",
   "metadata": {},
   "source": [
    "Nous avons $268 737$ sessions pour $190188$ utilisateurs : cela signifie qu'il y a une grande part d'utilisateurs qui n'ont qu'une seule session.\n",
    "\n",
    "Voyons quelle proportion d'utilisateurs n'ont qu'une seule session dans l'échantillon."
   ]
  },
  {
   "cell_type": "code",
   "execution_count": null,
   "metadata": {
    "id": "b06e26bb476977cf"
   },
   "outputs": [],
   "source": [
    "import matplotlib.ticker as mtick\n",
    "\n",
    "num_sessions_per_user = data[[\"user_id\", \"user_session\"]] \\\n",
    "    .groupby(\"user_id\").count()[\"user_session\"] \\\n",
    "    .value_counts().sort_values(ascending=False)\n",
    "num_sessions_per_user /= num_sessions_per_user.sum()\n",
    "\n",
    "plt.figure(figsize=(14,9))\n",
    "\n",
    "n_bars = 12\n",
    "\n",
    "rects = plt.bar(num_sessions_per_user[:n_bars].index, height=num_sessions_per_user[:n_bars])\n",
    "for rect in rects:\n",
    "    height = rect.get_height()\n",
    "    plt.gca().annotate(\n",
    "        '{:2.2f}%'.format(height * 100),\n",
    "        xy=(rect.get_x() + rect.get_width() / 2, height),\n",
    "        xytext=(0, 3),\n",
    "        textcoords=\"offset points\",\n",
    "        fontsize=16 * 10 / n_bars,\n",
    "        ha='center', va='bottom'\n",
    "    )\n",
    "\n",
    "plt.ylabel(\"Proportion d'utilisateurs\")\n",
    "plt.gca().yaxis.set_major_formatter(mtick.PercentFormatter(1, 0))\n",
    "plt.xticks(range(1, n_bars + 1))\n",
    "plt.xlabel(\"Nombre de sessions\")\n",
    "plt.title(\"Proportion d'utilisateurs par nombre de sessions\", fontsize=16)\n",
    "plt.show()"
   ]
  },
  {
   "cell_type": "markdown",
   "metadata": {},
   "source": [
    "Nous remarquons que plus de $70\\%$ des utilisateurs ont au moins deux sessions dans l'échantillon : cela pourrait donc être intéressant **d'utiliser cette information** comme variable explicative par la suite.\n",
    "\n",
    "Combien de sessions ont-elles débouchées sur un achat d'un des produits visités ?"
   ]
  },
  {
   "cell_type": "code",
   "execution_count": null,
   "metadata": {
    "id": "0b1f57f8315478c4"
   },
   "outputs": [],
   "source": [
    "data_purchase = data.copy()\n",
    "data_purchase['purchased'] = np.where(data_purchase['event_type'] == \"purchase\", 1, 0)\n",
    "data_purchase['purchased'] = data_purchase \\\n",
    "    .groupby([\"user_session\"])['purchased'] \\\n",
    "    .transform(\"max\")\n",
    "\n",
    "data_purchase[\"purchased\"].value_counts() / data_purchase[\"purchased\"].shape[0]"
   ]
  },
  {
   "cell_type": "markdown",
   "metadata": {},
   "source": [
    "C'est donc environ $10\\%$ des sessions qui se terminent par au moins un achat d'un des produits visités. Cette statistique nous informe donc que le jeu de données **n'est pas déséquilibré** entre les deux classes."
   ]
  },
  {
   "cell_type": "markdown",
   "metadata": {
    "break": "new"
   },
   "source": [
    "## Statistiques sur les produits\n",
    "\n",
    "Intéressons-nous maintenant aux produits. Dans un DataFrame `data_categories`, nous allons calculer le nombre d'événements (vues, ajouts au panier et achats) par catégorie."
   ]
  },
  {
   "cell_type": "code",
   "execution_count": null,
   "metadata": {
    "id": "09b91732a17c7278"
   },
   "outputs": [],
   "source": [
    "data_categories = data.copy()\n",
    "data_categories[\"category\"] = data_categories[\"category_code\"].str.split(\".\", expand=True)[0]\n",
    "\n",
    "for event_type in [\"view\", \"cart\", \"purchase\"]:\n",
    "    data_categories[\"event_{}\".format(event_type)] = np.where(data_categories[\"event_type\"] == event_type, 1, 0)\n",
    "    \n",
    "data_categories = data_categories[[\"event_view\", \"event_cart\", \"event_purchase\", \"category\"]] \\\n",
    "    .groupby(\"category\").sum()\n",
    "data_categories.head()"
   ]
  },
  {
   "cell_type": "markdown",
   "metadata": {},
   "source": [
    "Pour savoir quelle sont les catégories les plus visitées, affichons les valeurs sur un diagramme en bâtons."
   ]
  },
  {
   "cell_type": "code",
   "execution_count": null,
   "metadata": {
    "id": "ed0518403a51ee75"
   },
   "outputs": [],
   "source": [
    "plt.figure(figsize=(14,9))\n",
    "\n",
    "rects = plt.barh(data_categories.index, width=data_categories[\"event_view\"])\n",
    "for rect in rects:\n",
    "    width = rect.get_width()\n",
    "    plt.gca().annotate(\n",
    "        '{}'.format(int(width)),\n",
    "        xy=(width, rect.get_y()),\n",
    "        xytext=(30, 5),\n",
    "        textcoords=\"offset points\",\n",
    "        fontsize=16 * 10 / n_bars,\n",
    "        ha='center', va='bottom'\n",
    "    )\n",
    "\n",
    "plt.ylabel(\"Catégorie\")\n",
    "plt.xlabel(\"Nombre de vues\")\n",
    "plt.title(\"Nombre de vues par catégorie de produit\", fontsize=16)\n",
    "plt.show()"
   ]
  },
  {
   "cell_type": "markdown",
   "metadata": {},
   "source": [
    "Ce que nous observons, c'est que la catégorie `electronics` est très majoritairement celle qui est la plus visitée, avec plus de 450 000 vues. En revanche, d'autres sont très peu visités comme `stationery` ou `medicine` avec moins de 500 vues sur toute la journée.\n",
    "\n",
    "Faisons la même chose pour les achats."
   ]
  },
  {
   "cell_type": "code",
   "execution_count": null,
   "metadata": {
    "id": "41e5deaecb1fc10f"
   },
   "outputs": [],
   "source": [
    "plt.figure(figsize=(14,9))\n",
    "\n",
    "rects = plt.barh(data_categories.index, width=data_categories[\"event_purchase\"])\n",
    "for rect in rects:\n",
    "    width = rect.get_width()\n",
    "    plt.gca().annotate(\n",
    "        '{}'.format(int(width)),\n",
    "        xy=(width, rect.get_y()),\n",
    "        xytext=(30, 5),\n",
    "        textcoords=\"offset points\",\n",
    "        fontsize=16 * 10 / n_bars,\n",
    "        ha='center', va='bottom'\n",
    "    )\n",
    "\n",
    "plt.ylabel(\"Catégorie\")\n",
    "plt.xlabel(\"Nombre d'achats\")\n",
    "plt.title(\"Nombre d'achats par catégorie de produit\", fontsize=16)\n",
    "plt.show()"
   ]
  },
  {
   "cell_type": "markdown",
   "metadata": {},
   "source": [
    "Sans surprises, les catégories ayant le plus de vues sont également celles où il y a le plus d'achats. Mais regardons les proportions achats / vues pour chaque catégorie."
   ]
  },
  {
   "cell_type": "code",
   "execution_count": null,
   "metadata": {
    "id": "24114d2ac0a298a6"
   },
   "outputs": [],
   "source": [
    "plt.figure(figsize=(14,9))\n",
    "\n",
    "rects = plt.barh(data_categories.index, width=data_categories[\"event_purchase\"] / data_categories[\"event_view\"])\n",
    "for rect in rects:\n",
    "    width = rect.get_width()\n",
    "    plt.gca().annotate(\n",
    "        '{:2.2f}%'.format(width * 100),\n",
    "        xy=(width, rect.get_y()),\n",
    "        xytext=(30, 5),\n",
    "        textcoords=\"offset points\",\n",
    "        fontsize=16 * 10 / n_bars,\n",
    "        ha='center', va='bottom'\n",
    "    )\n",
    "\n",
    "plt.ylabel(\"Catégorie\")\n",
    "plt.xlabel(\"Ratio\")\n",
    "plt.gca().xaxis.set_major_formatter(mtick.PercentFormatter(xmax=1, decimals=1))\n",
    "plt.title(\"Ratio du nombre d'achats par nombre de vues\", fontsize=16)\n",
    "plt.show()"
   ]
  },
  {
   "cell_type": "markdown",
   "metadata": {},
   "source": [
    "Étonnamment, alors qu'il y a beaucoup moins de visites pour les produits de catégorie `medicine` que ceux de catégorie `electronics` (ordre $\\times 10000$), cette première enregistre la même proportion d'achats / vues que la deuxième."
   ]
  },
  {
   "cell_type": "markdown",
   "metadata": {
    "type": "ending"
   },
   "source": [
    "## ✔️ Conclusion\n",
    "\n",
    "Dorénavant, nous avons une idée plus claire sur les données que nous manipulons.\n",
    "\n",
    "- Le comportement des utilisateurs ne peut pas se résumer qu'à un seul événement.\n",
    "- Les interactions entre les variables semblent être élevées.\n",
    "\n",
    "> ➡️ À partir de cette connaissance, nous allons pouvoir mettre en place un premier algorithme avec <b>LightGBM</b>."
   ]
  }
 ],
 "metadata": {
  "celltoolbar": "Éditer les Méta-Données",
  "kernelspec": {
   "display_name": "Python 3 (ipykernel)",
   "language": "python",
   "name": "python3"
  },
  "language_info": {
   "codemirror_mode": {
    "name": "ipython",
    "version": 3
   },
   "file_extension": ".py",
   "mimetype": "text/x-python",
   "name": "python",
   "nbconvert_exporter": "python",
   "pygments_lexer": "ipython3",
   "version": "3.8.10"
  }
 },
 "nbformat": 4,
 "nbformat_minor": 4
}
