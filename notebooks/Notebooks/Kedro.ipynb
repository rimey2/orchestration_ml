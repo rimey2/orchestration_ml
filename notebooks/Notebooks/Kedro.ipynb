{
 "cells": [
  {
   "cell_type": "markdown",
   "metadata": {
    "type": "intro"
   },
   "source": [
    "Il est temps d'organiser tout notre pipeline ML, qui est actuellement séparé dans plusieurs Notebooks. Pour nous aider, nous allons utiliser **Kedro**, un outil open-source permettant de créer des projets de Machine Learning reproductibles, maintenables et modulaires (i.e. plusieurs fichiers), le tout sans trop d'efforts. C'est donc un outil sur-mesure pour les ML Engineers !\n",
    "\n",
    "<blockquote><p>🙋 <b>Ce que nous allons faire</b></p>\n",
    "<ul>\n",
    "    <li>Créer un premier projet Kedro et comprendre son architecture</li>\n",
    "    <li>Comprendre les concepts de Kedro</li>\n",
    "    <li>Construire un premier pipeline de traitement de données</li>\n",
    "</ul>\n",
    "</blockquote>\n",
    "\n",
    "<img src=\"https://media.giphy.com/media/ZVUu5Pm23hDZS/giphy.gif\" width=\"300\" />"
   ]
  },
  {
   "cell_type": "markdown",
   "metadata": {},
   "source": [
    "## Kedro\n",
    "\n",
    "Qu'est-ce que Kedro, et pourquoi avons-nous besoin de cet outil ? La méthode classique pour construire des modèles de Machine Learning est d'utiliser Jupyter Notebook. Mais cette méthode n'est pas du tout viable, notamment lorsqu'il s'agit de déployer le modèle en production dans un futur proche. Face à cette situation, on préfère donc construire un projet entier, dont les Notebooks sont en réalité des phases de recherche, d'expérimentation mais ne constituent pas en soi le coeur de sujet du projet. Dès lors que l'on met en place une architecture de code source, il est nécessaire d'adopter de bonnes pratiques, aussi bien héritées des environnements IT que celles utilisées par les Data Scientists.\n",
    "\n",
    "<img src=\"https://repository-images.githubusercontent.com/182067506/4c724a00-48f4-11ea-84a5-cf8292b07d8e\" width=\"600\">\n",
    "\n",
    "Kedro a été développé pour appliquer ces bonnes pratiques tout au long d'un projet de Machine Learning.\n",
    "\n",
    "- Éviter au maximum de dépendre de Jupyter Notebooks qui empêche la production d'un code source maintenable et reproductible.\n",
    "- Améliorer la collaboration entre les différents acteurs (Data Scientists, Data Engineers, DevOps) aux compétences diverses dans un projet.\n",
    "- Augmenter l'efficacité en appliquant la modularité du code, les séparations entre les données et leur utilisation ou encore en optimisant les exécutions de traitements atomiques.\n",
    "\n",
    "En bref, Kedro nous permet d'avoir un projet Python **entièrement pensé** pour le Machine Learning et optimisé dans ce sens. Il existe d'autres alternatives à Kedro (comme Kubeflow qui se base sur Kubernetes), mais il a l'avantage d'être rapide à prendre en main et possède une communauté déjà active.\n",
    "\n",
    "### Premiers pas avec Kedro\n",
    "\n",
    "Essayons de créer un premier projet avec Kedro que nous allons nommer `purchase-predict`.\n",
    "\n",
    "<div class=\"alert alert-danger\">\n",
    "    La version que nous utiliserons est 0.17.0 : en utilisant une version plus récente, il se peut que des erreurs de compatibilité surviennent. Il est donc conseillé d'utiliser la version 0.17.0 en local pour suivre le cours.\n",
    "</div>\n",
    "\n",
    "Créons un nouveau terminal et un nouveau projet Kedro."
   ]
  },
  {
   "cell_type": "raw",
   "metadata": {
    "format": "bash"
   },
   "source": [
    "kedro new"
   ]
  },
  {
   "cell_type": "markdown",
   "metadata": {},
   "source": [
    "Il nous est demandé un nom de projet. Nous laissons ensuite les autres informations vides (la valeur par défaut est affichée entre crochets)."
   ]
  },
  {
   "cell_type": "raw",
   "metadata": {
    "format": "console"
   },
   "source": [
    "Project Name:\n",
    "=============\n",
    "Please enter a human readable name for your new project.\n",
    "Spaces and punctuation are allowed.\n",
    " [New Kedro Project]: purchase-predict\n",
    "\n",
    "Repository Name:\n",
    "================\n",
    "Please enter a directory name for your new project repository.\n",
    "Alphanumeric characters, hyphens and underscores are allowed.\n",
    "Lowercase is recommended.\n",
    " [purchase-predict]: \n",
    "\n",
    "Python Package Name:\n",
    "====================\n",
    "Please enter a valid Python package name for your project package.\n",
    "Alphanumeric characters and underscores are allowed.\n",
    "Lowercase is recommended. Package name must start with a letter or underscore.\n",
    " [purchase_predict]: "
   ]
  },
  {
   "cell_type": "markdown",
   "metadata": {},
   "source": [
    "Avec cette commande, Kedro génère le dossier `purchase-predict` et y configure une architecture par défaut."
   ]
  },
  {
   "cell_type": "raw",
   "metadata": {
    "format": "console"
   },
   "source": [
    "├── conf\n",
    "│   ├── base\n",
    "│   │   ├── catalog.yml\n",
    "│   │   ├── credentials.yml\n",
    "│   │   ├── logging.yml\n",
    "│   │   └── parameters.yml\n",
    "│   ├── local\n",
    "│   └── README.md\n",
    "├── data\n",
    "│   ├── 01_raw\n",
    "│   ├── 02_intermediate\n",
    "│   ├── 03_primary\n",
    "│   ├── 04_feature\n",
    "│   ├── 05_model_input\n",
    "│   ├── 06_models\n",
    "│   ├── 07_model_output\n",
    "│   └── 08_reporting\n",
    "├── docs\n",
    "│   └── source\n",
    "│       ├── conf.py\n",
    "│       └── index.rst\n",
    "├── logs\n",
    "│   └── journals\n",
    "├── notebooks\n",
    "├── pyproject.toml\n",
    "├── README.md\n",
    "├── setup.cfg\n",
    "└── src\n",
    "    ├── purchase_predict\n",
    "    │   ├── cli.py\n",
    "    │   ├── hooks.py\n",
    "    │   ├── __init__.py\n",
    "    │   ├── pipelines\n",
    "    │   │   └── __init__.py\n",
    "    │   ├── run.py\n",
    "    │   └── settings.py\n",
    "    ├── requirements.txt\n",
    "    ├── setup.py\n",
    "    └── tests\n",
    "        ├── __init__.py\n",
    "        ├── pipelines\n",
    "        │   └── __init__.py\n",
    "        └── test_run.py"
   ]
  },
  {
   "cell_type": "markdown",
   "metadata": {},
   "source": [
    "Détaillons tout d'abord chaque dossier de premier niveau.\n",
    "\n",
    "- `conf` contient tous les fichiers de configuration des paramètres (code, modèle) ainsi que les clés et secrets nécessaires.\n",
    "- `data` contient plusieurs dossiers qui correspondent aux données utilisées ou produits à chaque étape du pipeline (base d'apprentissage, matrices des *features*, modèle sérialisé).\n",
    "- `docs` contient des fichiers de documentation.\n",
    "- `logs` contient les journaux d'événements de Kedro.\n",
    "- `notebooks` permet de stocker des notebooks.\n",
    "- `src` contient tous les codes nécessaire pour créer les pipelines.\n",
    "\n",
    "C'est notamment dans le dossier `src` que nous développerons les briques élémentaires et que nous les connecterons ensembles afin de former les différents pipelines.\n",
    "\n",
    "Avant de rentrer dans les concepts de Kedro, il est **fortement conseillé** (si ce n'est indispensable) de créer un environnement virtuel à la racine du projet."
   ]
  },
  {
   "cell_type": "raw",
   "metadata": {
    "format": "bash"
   },
   "source": [
    "python3 -m venv venv\n",
    "source venv/bin/activate\n",
    "pip install --upgrade pip"
   ]
  },
  {
   "cell_type": "markdown",
   "metadata": {
    "break": "new"
   },
   "source": [
    "## Concepts de Kedro\n",
    "\n",
    "Kedro ne se contente pas uniquement de créer un projet : il va également apporter des fonctionnalités très puissantes qui en font sa popularité.\n",
    "\n",
    "### Data Catalog\n",
    "\n",
    "Pour utiliser des données tout au long d'un pipeline ML, il est déconseillé d'inscrire des chemins d'accès en dur dans le code. Il est préférable d'attribuer des noms à des données existantes que l'on utilise ou celles que l'on crée. C'est rôle du Data Catalog : nous allons définir en amont des référentiels de données avec des noms associés. Le Data Catalog est référencé dans le fichier `conf/base/catalog.yml`.\n",
    "\n",
    "Par défaut, Kedro propose plusieurs sous-dossiers dans `data` qui permet de mieux organiser les données.\n",
    "\n",
    "- `raw`, `intermediate` et `primary` font référence aux données brutes, celles ayant subi des traitements intermédiaires et celles prêtes à être encodées.\n",
    "- `feature` contiendrait la base d'apprentissage $(X,y)$ encodée.\n",
    "- `model_input` contiendrait les échantillons d'entraînement et de test fournis au modèle.\n",
    "- `models` contiendrait le ou les modèles sérialisés.\n",
    "- `model_output` et `reporting` contiendraient les sorties du modèles ainsi que les graphes pour valider et interpéter.\n",
    "\n",
    "<div class=\"alert alert-block alert-info\">\n",
    "    ℹ️ Bien entendu, nous ne sommes pas tenu de suivre exactement cette structure, il s'agit plutôt d'une organisation par défaut proposée par Kedro.\n",
    "</div>\n",
    "\n",
    "Dans notre cas, nous n'allons pas effectuer la transformation des données avec Kedro, puisque ce sera une tâche Spark SQL qui en sera chargée. Ainsi, nous aurons uniquement le données transformé qui subira ensuite l'encodage. Nous considérons donc que l'échantillon que recevra Kedro sera situé dans `primary` et sera nommé `primary.csv`.\n",
    "\n",
    "À partir de ces données `primary.csv`, nous encoderons vers un nouveau fichier `dataset.csv` dans le dossier `feature`, dont nous récupérerons les sous-ensembles d'apprentissage et de test. Pour référencer tous ces fichiers dans le Data Catalog, nous éditons le fichier `conf/base/catalog.yml` en spécifiant le nom, le type de données et le chemin en relatif par rapport au dossier racine."
   ]
  },
  {
   "cell_type": "raw",
   "metadata": {
    "download_as": "catalog.yml",
    "format": "yaml"
   },
   "source": [
    "# Here you can define all your data sets by using simple YAML syntax.\n",
    "#\n",
    "# Documentation for this file format can be found in \"The Data Catalog\"\n",
    "# Link: https://kedro.readthedocs.io/en/stable/05_data/01_data_catalog.html\n",
    "\n",
    "primary:\n",
    "  type: pandas.CSVDataSet\n",
    "  filepath: data/03_primary/primary.csv\n",
    "\n",
    "dataset:\n",
    "  type: pandas.CSVDataSet\n",
    "  filepath: data/04_feature/dataset.csv\n",
    "\n",
    "X_train:\n",
    "  type: pandas.CSVDataSet\n",
    "  filepath: data/05_model_input/X_train.csv\n",
    "\n",
    "y_train:\n",
    "  type: pandas.CSVDataSet\n",
    "  filepath: data/05_model_input/y_train.csv\n",
    "\n",
    "X_test:\n",
    "  type: pandas.CSVDataSet\n",
    "  filepath: data/05_model_input/X_test.csv\n",
    "\n",
    "y_test:\n",
    "  type: pandas.CSVDataSet\n",
    "  filepath: data/05_model_input/y_test.csv"
   ]
  },
  {
   "cell_type": "markdown",
   "metadata": {},
   "source": [
    "L'avantage du Data Catalog est la flexibilité d'utilisation. Plutôt que de spécifier le chemin d'accès dans chaque fichier Python, nous pouvons simplement inscrire `primary` comme argument, et Kedro va automatiquement charger en mémoire (ici au format CSV avec `pandas`) ce jeu de données. Ainsi, nous pouvons à tout moment modifier la valeur du chemin `filepath` ici sans altérer tous les fichiers Python.\n",
    "\n",
    "### Nodes et Pipelines\n",
    "\n",
    "Parmi les concepts les plus importants, nous retrouvons celui des **nodes** et des **pipelines**.\n",
    "\n",
    "Un **node** est un élément unitaire qui représente une tâche. Par exemple, nous pouvons imaginer un node pour encoder le jeu de données, un autre pour construire les sous-ensembles d'entraînement et de test, et un dernier pour calibrer un modèle de Machine Learning.\n",
    "\n",
    "Un **pipeline**, à l'instar des pipelines de données, est une succession de nodes qui peuvent être assemblés en séquence ou en parallèle.\n",
    "\n",
    "Les pipelines sont une partie très importante dans Kedro. Reprenons le pipeline d'expérimentation où l'on entraîne un modèle de Machine Learning.\n",
    "\n",
    "<img src=\"https://blent-learning-user-ressources.s3.eu-west-3.amazonaws.com/training/ml_engineer_facebook/img/kedro2.png\" />\n",
    "\n",
    "Ce qui est important à voir, c'est le caractère séquencé entre les tâches. En particulier, **impossible d'entraîner un modèle sans avoir encodé les données**, tout comme il est impossible d'évaluer un modèle si l'on n'en a pas.\n",
    "\n",
    "Kedro va nous permettre de créer ces pipelines, garantissant que les **artifacts** (données construites, modèles, etc) vont être disponibles pour les autres nodes du pipeline. C'est un outil essentiel car il va nous assurer que les traitements sont homogènes et que lorsque l'on souhaitera entraîner un nouveau modèle par exemple, les données subiront exactement le même traitement puisqu'elles passeront par le même pipeline. On évite ainsi les risques d'oubli ou d'erreur de cohérence entre deux exécutions successives, chose qui arrive plus souvent que l'on ne l'imagine avec les Jupyter Notebooks."
   ]
  },
  {
   "cell_type": "markdown",
   "metadata": {
    "break": "new"
   },
   "source": [
    "## Premier pipeline\n",
    "\n",
    "Nous allons créer ensemble un premier pipeline qui va contenir deux noeuds.\n",
    "\n",
    "- Un premier qui va se charger d'encoder le jeu de données `primary`.\n",
    "- Un autre qui va séparer la base de données en deux sous-ensembles d'entraînement et d'apprentissage.\n",
    "\n",
    "Commençons tout d'abord par télécharger le fichier d'échantillon dans le dossier `data/03_primary`."
   ]
  },
  {
   "cell_type": "raw",
   "metadata": {
    "format": "bash"
   },
   "source": [
    "cp ~/data/primary.csv ~/purchase-predict/data/03_primary/primary.csv"
   ]
  },
  {
   "cell_type": "markdown",
   "metadata": {},
   "source": [
    "Créons un dossier `processing` dans `src/purchase_predict/pipelines`. Nous allons y ajouter deux fichiers Python `nodes.py` et `pipeline.py`.\n",
    "\n",
    "- Le fichier `nodes.py` contient les définitions des fonctions qui seront utilisées par les nodes.\n",
    "- Le fichier `pipeline.py` permet de construire le pipeline à partir de nodes qui utiliseront les fonctions du fichier `nodes.py`.\n",
    "\n",
    "Puisque nous avons deux noeuds, nous devons construire deux fonctions.\n",
    "\n",
    "### Noeud `encode_features`\n",
    "\n",
    "La fonction `encode_features` va récupérer `dataset`, qui correspond au fichier CSV ayant subit les transformations (notamment via Spark SQL)."
   ]
  },
  {
   "cell_type": "raw",
   "metadata": {
    "format": "python"
   },
   "source": [
    "import pandas as pd\n",
    "\n",
    "from typing import Dict, Any\n",
    "\n",
    "from sklearn.preprocessing import LabelEncoder\n",
    "from sklearn.model_selection import train_test_split\n",
    "\n",
    "def encode_features(dataset: pd.DataFrame) -> pd.DataFrame:\n",
    "    \"\"\"\n",
    "    Encode features of data file.\n",
    "    \"\"\"\n",
    "    features = dataset.drop([\"user_id\", \"user_session\"], axis=1).copy()\n",
    "\n",
    "    encoders = []\n",
    "    for label in [\"category\", \"sub_category\", \"brand\"]:\n",
    "        features[label] = features[label].astype(str)\n",
    "        features.loc[features[label] == \"nan\", label] = \"unknown\"\n",
    "        encoder = LabelEncoder()\n",
    "        features.loc[:, label] = encoder.fit_transform(features.loc[:, label].copy())\n",
    "        encoders.append((label, encoder))\n",
    "\n",
    "    features[\"weekday\"] = features[\"weekday\"].astype(int)\n",
    "    return dict(features=features, transform_pipeline=encoders)"
   ]
  },
  {
   "cell_type": "markdown",
   "metadata": {},
   "source": [
    "Cette fonction retourne le DataFrame `features`, qui correspond aux données encodées.\n",
    "\n",
    "### Noeud `split_dataset`\n",
    "\n",
    "L'autre fonction, `split_dataset`, opère simplement une séparation en deux sous-échantillons. L'argument `test_ratio` permettra de spécifier la proportion d'observation à considérer dans le sous-échantillon de test."
   ]
  },
  {
   "cell_type": "raw",
   "metadata": {
    "format": "python"
   },
   "source": [
    "def split_dataset(dataset: pd.DataFrame, test_ratio: float) -> Dict[str, Any]:\n",
    "    \"\"\"\n",
    "    Splits dataset into a training set and a test set.\n",
    "    \"\"\"\n",
    "    X = dataset.drop(\"purchased\", axis=1)\n",
    "    y = dataset[\"purchased\"]\n",
    "\n",
    "    X_train, X_test, y_train, y_test = train_test_split(\n",
    "        X, y, test_size=test_ratio, random_state=40\n",
    "    )\n",
    "\n",
    "    return dict(X_train=X_train, y_train=y_train, X_test=X_test, y_test=y_test)"
   ]
  },
  {
   "cell_type": "markdown",
   "metadata": {},
   "source": [
    "La fonction retourne les quatre DataFrames.\n",
    "\n",
    "### Construction du pipeline\n",
    "\n",
    "Pour entamer la construction du pipeline, nous allons tout d'abord définir un **paramètre** Kedro, le `test_ratio`. En effet, il s'agit d'un paramètre de configuration qui doit être initialisé au préalable, et plutôt que d'inscrire en dur dans le code la valeur du ratio pour l'ensemble de test, tout comme le Data Catalog, le fichier `parameters.yml` dans le dossier `conf/base` permet de centraliser tous les paramètres du modèle, Cloud, de traitement de données, etc."
   ]
  },
  {
   "cell_type": "raw",
   "metadata": {
    "download_as": "parameters.yml",
    "format": "yaml"
   },
   "source": [
    "test_ratio: 0.3"
   ]
  },
  {
   "cell_type": "markdown",
   "metadata": {},
   "source": [
    "À partir de là, nous pouvons construire notre pipeline. Pour cela, nous utilisons l'objet `Pipeline` de Kedro, qui s'attends à une liste de `node`. Chaque instance de `node` attends trois paramètres.\n",
    "\n",
    "- Le nom de la fonction Python qui sera appelée.\n",
    "- Les arguments de la fonction (sous forme de liste ou dictionnaire).\n",
    "- Les sorties du modèles (sous forme de liste ou dictionnaire)."
   ]
  },
  {
   "cell_type": "raw",
   "metadata": {
    "format": "python"
   },
   "source": [
    "from kedro.pipeline import Pipeline, node\n",
    "\n",
    "from .nodes import encode_features, split_dataset\n",
    "\n",
    "def create_pipeline(**kwargs):\n",
    "    return Pipeline(\n",
    "        [\n",
    "            node(\n",
    "                encode_features,\n",
    "                \"primary\",\n",
    "                dict(features=\"dataset\", transform_pipeline=\"transform_pipeline\")\n",
    "            ),\n",
    "            node(\n",
    "                split_dataset,\n",
    "                [\"dataset\", \"params:test_ratio\"],\n",
    "                dict(\n",
    "                    X_train=\"X_train\",\n",
    "                    y_train=\"y_train\",\n",
    "                    X_test=\"X_test\",\n",
    "                    y_test=\"y_test\"\n",
    "                )\n",
    "            )\n",
    "        ]\n",
    "    )"
   ]
  },
  {
   "cell_type": "markdown",
   "metadata": {},
   "source": [
    "Le premier noeud appelle la fonction `encode_features` avec pour argument le jeu de données `primary`, et le résultat (un seul) retourné par la fonction sera stocké dans le jeu de données `dataset`.\n",
    "\n",
    "Le deuxième noeud nécessite le jeu de données `dataset` ainsi que le paramètre `test_ratio`, et retourne les 4 DataFrames qui correspond aux sous-ensembles.\n",
    "\n",
    "Notre pipeline est donc en place, et nous pouvons la visualiser ci-dessous.\n",
    "\n",
    "<img src=\"https://blent-learning-user-ressources.s3.eu-west-3.amazonaws.com/training/ml_engineer_facebook/img/kedro1.jpg\" width=\"800\" />\n",
    "\n",
    "Avant de lancer le pipeline, installons les quelques dépendances nécessaires dans l'environnement virtuel (qui est vierge par défaut)."
   ]
  },
  {
   "cell_type": "raw",
   "metadata": {
    "format": "bash"
   },
   "source": [
    "pip install pandas scikit-learn"
   ]
  },
  {
   "cell_type": "markdown",
   "metadata": {},
   "source": [
    "Pour terminer, il faut créer une instance du pipeline pour pouvoir l'exécuter. Toutes les instances sont définies dans le fichier `hooks.py` à la racine de `src/purchase_predict`. Ajoutons l'importation suivante."
   ]
  },
  {
   "cell_type": "raw",
   "metadata": {
    "format": "python"
   },
   "source": [
    "from purchase_predict.pipelines.processing import pipeline as processing_pipeline"
   ]
  },
  {
   "cell_type": "markdown",
   "metadata": {},
   "source": [
    "Nous importons donc le fichier `pipeline` dans `pipelines.processing` dont nous créons l'alias `processing_pipeline`. En appelant la fonction `processing_pipeline.create_pipeline()`, cela va instancier un nouveau pipeline qui contient les deux noeuds.\n",
    "\n",
    "Ces instanciations doivent être définies dans la fonction `register_pipelines`, qui retourne un dictionnaire où chaque clé est le nom du pipeline et la valeur l'objet pipeline associé."
   ]
  },
  {
   "cell_type": "raw",
   "metadata": {
    "format": "python"
   },
   "source": [
    "@hook_impl\n",
    "def register_pipelines(self) -> Dict[str, Pipeline]:\n",
    "    \"\"\"Register the project's pipeline.\n",
    "\n",
    "    Returns:\n",
    "        A mapping from a pipeline name to a ``Pipeline`` object.\n",
    "\n",
    "    \"\"\"\n",
    "    p_processing = processing_pipeline.create_pipeline()\n",
    "\n",
    "    return {\"processing\": p_processing}"
   ]
  },
  {
   "cell_type": "markdown",
   "metadata": {},
   "source": [
    "C'est notamment ici qu'il sera également possible d'imbriquer séquentiellement plusieurs pipelines entre-eux.\n",
    "\n",
    "Notre pipeline est donc prêt, nous pouvons l'exécuter."
   ]
  },
  {
   "cell_type": "raw",
   "metadata": {
    "format": "bash"
   },
   "source": [
    "kedro run --pipeline processing"
   ]
  },
  {
   "cell_type": "raw",
   "metadata": {
    "format": "console"
   },
   "source": [
    "2021-01-04 17:45:19,425 - kedro.framework.session.session - WARNING - Unable to git describe /home/jovyan/purchase_predict\n",
    "2021-01-04 17:45:19,463 - root - INFO - ** Kedro project purchase_predict\n",
    "2021-01-04 17:45:19,486 - kedro.io.data_catalog - INFO - Loading data from `primary` (CSVDataSet)...\n",
    "2021-01-04 17:45:19,565 - kedro.pipeline.node - INFO - Running node: encode_features([primary]) -> [dataset]\n",
    "2021-01-04 17:45:19,597 - kedro.io.data_catalog - INFO - Saving data to `dataset` (CSVDataSet)...\n",
    "2021-01-04 17:45:19,760 - kedro.runner.sequential_runner - INFO - Completed 1 out of 2 tasks\n",
    "2021-01-04 17:45:19,760 - kedro.io.data_catalog - INFO - Loading data from `dataset` (CSVDataSet)...\n",
    "2021-01-04 17:45:19,817 - kedro.io.data_catalog - INFO - Loading data from `params:test_ratio` (MemoryDataSet)...\n",
    "2021-01-04 17:45:19,817 - kedro.pipeline.node - INFO - Running node: split_dataset([dataset,params:test_ratio]) -> [X_test,X_train,y_test,y_train]\n",
    "2021-01-04 17:45:19,828 - kedro.io.data_catalog - INFO - Saving data to `X_train` (CSVDataSet)...\n",
    "2021-01-04 17:45:19,918 - kedro.io.data_catalog - INFO - Saving data to `y_train` (CSVDataSet)...\n",
    "2021-01-04 17:45:19,950 - kedro.io.data_catalog - INFO - Saving data to `X_test` (CSVDataSet)...\n",
    "2021-01-04 17:45:19,986 - kedro.io.data_catalog - INFO - Saving data to `y_test` (CSVDataSet)...\n",
    "2021-01-04 17:45:19,999 - kedro.runner.sequential_runner - INFO - Completed 2 out of 2 tasks\n",
    "2021-01-04 17:45:19,999 - kedro.runner.sequential_runner - INFO - Pipeline execution completed successfully.\n",
    "2021-01-04 17:45:19,999 - kedro.framework.session.store - INFO - `save()` not implemented for `BaseSessionStore`. Skipping the step"
   ]
  },
  {
   "cell_type": "markdown",
   "metadata": {},
   "source": [
    "En déroulant le dossier `data/05_model_input`, nous devrions voir apparaître les 4 fichiers CSV générés par le pipeline.\n",
    "\n",
    "### Visualisation des pipelines\n",
    "\n",
    "La dernière dépendance `kedro-viz` peut être utile car elle permet de visualiser les différents pipelines directement depuis le navigateur."
   ]
  },
  {
   "cell_type": "raw",
   "metadata": {
    "format": "bash"
   },
   "source": [
    "pip install kedro-viz"
   ]
  },
  {
   "cell_type": "markdown",
   "metadata": {},
   "source": [
    "Pour lancer le serveur de visualisation, il suffit d'exécuter la commande suivante (attention de vérifier que l'environnement virtuel est bien activé)."
   ]
  },
  {
   "cell_type": "raw",
   "metadata": {
    "format": "bash"
   },
   "source": [
    "kedro viz --port 4141"
   ]
  },
  {
   "cell_type": "markdown",
   "metadata": {},
   "source": [
    "Une fois lancé, nous pouvons y accéder <a href=\"jupyter://user-redirect/proxy/4141/\" target=\"_blank\">par ce lien</a>."
   ]
  },
  {
   "cell_type": "markdown",
   "metadata": {
    "type": "ending"
   },
   "source": [
    "## ✔️ Conclusion\n",
    "\n",
    "Tu viens de mettre en place ton premier pipeline avec Kedro !\n",
    "\n",
    "- Nous avons vu créé notre premier projet avec Kedro.\n",
    "- Nous avons détaillé les concepts importants que l'on rencontre avec Kedro.\n",
    "- Nous avons mis en place un premier pipeline.\n",
    "\n",
    "> ➡️ Après avoir construit le pipeline de traitement de données, place au **pipeline d'entraînement du modèle**."
   ]
  }
 ],
 "metadata": {
  "celltoolbar": "Éditer les Méta-Données",
  "kernelspec": {
   "display_name": "Python 3 (ipykernel)",
   "language": "python",
   "name": "python3"
  },
  "language_info": {
   "codemirror_mode": {
    "name": "ipython",
    "version": 3
   },
   "file_extension": ".py",
   "mimetype": "text/x-python",
   "name": "python",
   "nbconvert_exporter": "python",
   "pygments_lexer": "ipython3",
   "version": "3.8.10"
  }
 },
 "nbformat": 4,
 "nbformat_minor": 4
}
