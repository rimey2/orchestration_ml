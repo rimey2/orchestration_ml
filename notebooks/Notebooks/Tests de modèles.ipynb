{
 "cells": [
  {
   "cell_type": "markdown",
   "metadata": {
    "type": "intro"
   },
   "source": [
    "Précédemment, nous avons réalisé des tests unitaires sur notre projet Kedro. Les tests unitaires sont rapides à mettre en place et permettent de vérifier indépendamment chaque portion de code.\n",
    "\n",
    "Mais lorsqu'il s'agit de modèles de Machine Learning, à quoi correspondent exactement les tests ? Il n'est pas possible de rédiger des tests unitaires de la même façon, car un modèle fournit justement une prédiction, qui n'est a priori pas connu à l'avance. C'est pourquoi les Data Scientists et ML Engineers ont imaginé des méthodes de test à réaliser sur les modèles.\n",
    "\n",
    "<blockquote><p>🙋 <b>Ce que nous allons faire</b></p>\n",
    "<ul>\n",
    "    <li>Formaliser les différents tests qui peuvent survenir</li>\n",
    "    <li>Rédiger le tests dans le projet Kedro</li>\n",
    "</ul>\n",
    "</blockquote>\n",
    "\n",
    "<img src=\"https://media.giphy.com/media/lQ0VQmLuLH7lS/giphy.gif\" />"
   ]
  },
  {
   "cell_type": "markdown",
   "metadata": {},
   "source": [
    "## Test de modèles\n",
    "\n",
    "Lorsque l'on fait référence aux tests de modèles, on cherche à vérifier le bon fonctionnement et comportement du modèle. Pour cela, nous distinguons deux classes de tests de modèles.\n",
    "\n",
    "- Les **tests pré-entraînement**, qui nous permettent d'identifier des erreurs ou incohérences avant même l'entraînement du modèle.\n",
    "- Les **tests post-entraînement**, qui vont utiliser le modèle entraîné et inspecter le comportement de ce dernier par rapport à des scénarios de référence que l'on décide en amont.\n",
    "\n",
    "<div class=\"alert alert-block alert-warning\">\n",
    "    Il n'y a pas de <i>meilleur test possible</i>. Chaque test doit être défini en fonction du contexte, du cas d'application et surtout de l'importance que l'on accorde aux décisions du modèle.\n",
    "</div>\n",
    "\n",
    "## Les tests pré-entraînement\n",
    "\n",
    "Les tests pré-entraînement permettent d'éviter de se lancer dans l'entraînement d'un modèle si certains critères ne sont pas respectés. Très souvent, ces critères portent sur les données et les tests, bien que rapide à mettre en place, permettent déjà de soulever certains points. Parmi les tests qui peuvent être réalisés avant l'entraînement, nous retrouvons surtout de tests de cohérence des données.\n",
    "\n",
    "- Taille du jeu de données.\n",
    "- Format de la variable réponse.\n",
    "- Proportion des classes dans la classification binaire.\n",
    "- Représentativité de l'échantillon par rapport à la population d'étude.\n",
    "\n",
    "En soit, il s'agit de tests qui peuvent être rédigés au même titre que les tests unitaires précédents. Définissons les tests du pipeline `processing`. Ce pipeline est composé de deux nodes, chacun appelant une fonction.\n",
    "\n",
    "- `encode_features`, qui va encoder numériquement les variables de `primary`.\n",
    "- `split_dataset`, qui va séparer le jeu de données en une base d'apprentissage et une base de test.\n",
    "\n",
    "Commençons par la fonction `encode_features` : elle s'attend à recevoir un DataFrame nommé `dataset`. Il y a plusieurs choses que nous devons vérifier à l'issue de cette fonction.\n",
    "\n",
    "- La colonne `purchased` est-elle toujours *intacte* dans le sens où elle n'est constituée que de $0$ et de $1$ ?\n",
    "- Toutes les colonnes sont-elles numériques ?\n",
    "- Avons-nous suffisamment d'observations pour entraîner le modèle ?\n",
    "- Les proportions de classes positives et négatives sont-elles au moins supérieures à un seuil ?\n",
    "\n",
    "Dans le dossier de test, créons le dossier `processing` avec le fichier `conftest.py`. Nous allons définir un catalogue de données pour ce test."
   ]
  },
  {
   "cell_type": "raw",
   "metadata": {
    "format": "python"
   },
   "source": [
    "import pytest\n",
    "\n",
    "from purchase_predict.pipelines.loading.nodes import load_csv_from_bucket\n",
    "\n",
    "@pytest.fixture(scope=\"module\")\n",
    "def project_id():\n",
    "    return \"PROJET_GCP\"  # TODO : Penser à changer le nom du projet GCP\n",
    "\n",
    "@pytest.fixture(scope=\"module\")\n",
    "def primary_folder():\n",
    "    return \"FICHIER_CSV\"  # TODO : Penser à changer l'URL gs:// du fichier CSV\n",
    "    \n",
    "@pytest.fixture(scope=\"module\")\n",
    "def dataset_not_encoded(project_id, primary_folder):\n",
    "    return load_csv_from_bucket(project_id, primary_folder)"
   ]
  },
  {
   "cell_type": "markdown",
   "metadata": {},
   "source": [
    "Nous ré-utilisons ici les deux fixtures `project_id` et `primary_folder` déjà présentes dans les tests du pipeline `loading`. Nous utilisons la fonction `load_csv_from_bucket` pour récupérer le jeu de données de test depuis Cloud Storage afin d'utiliser une version non altérée qui serait enregistrée en local. En pratique, la fonction `load_csv_from_bucket` aura déjà été testée au préalable par `pytest`, nous pouvons donc l'utiliser ici pour charger les données.\n",
    "\n",
    "<div class=\"alert alert-block alert-warning\">\n",
    "    Il faut éviter de créer des dépendances entre les tests : c'est pour cela que l'on redéfini ici les fixtures sans les importer depuis <code>loading/conftest.py</code>.\n",
    "</div>\n",
    "\n",
    "Créons ensuite comme nous l'avions fait le fichier `test_nodes.py` dans le dossier `processing`."
   ]
  },
  {
   "cell_type": "raw",
   "metadata": {
    "format": "python"
   },
   "source": [
    "import pandas as pd\n",
    "\n",
    "from purchase_predict.pipelines.processing.nodes import encode_features\n",
    "\n",
    "def test_encode_features(dataset_not_encoded):\n",
    "    df = encode_features(dataset_not_encoded)[\"features\"]\n",
    "    print(df.head())"
   ]
  },
  {
   "cell_type": "markdown",
   "metadata": {},
   "source": [
    "La fonction `test_encode_features` va tester `encode_features` à partir de la fixture `dataset_not_encoded` que nous venons de définir dans `conftest.py`. Exécutons les tests avec Kedro."
   ]
  },
  {
   "cell_type": "raw",
   "metadata": {},
   "source": [
    "kedro test src/tests/pipelines/processing/ -s"
   ]
  },
  {
   "cell_type": "markdown",
   "metadata": {},
   "source": [
    "Avec l'argument `src/tests/pipelines/processing/`, on précise à Kedro d'exécuter les tests de manière récursive uniquement dans ce dossier.\n",
    "\n",
    "Si tout s'est bien passé, alors nos fixtures sont correctement en place et nous pouvons intégrer les **tests pré-entraînement**."
   ]
  },
  {
   "cell_type": "raw",
   "metadata": {
    "format": "python"
   },
   "source": [
    "BALANCE_THRESHOLD = 0.1\n",
    "MIN_SAMPLES = 5000\n",
    "\n",
    "def test_encode_features(dataset_not_encoded):\n",
    "    df = encode_features(dataset_not_encoded)[\"features\"]\n",
    "    # Checking column 'purchased' that all values are either 0 or 1\n",
    "    assert df['purchased'].isin([0, 1]).all()\n",
    "    # Checking that all columns are numeric\n",
    "    for col in df.columns:\n",
    "        assert pd.api.types.is_numeric_dtype(df.dtypes[col])\n",
    "    # Checking that we have enough samples\n",
    "    assert df.shape[0] > MIN_SAMPLES\n",
    "    # Checking that classes have at least BALANCE_THRESHOLD percent of data\n",
    "    assert (df['purchased'].value_counts() / df.shape[0] > BALANCE_THRESHOLD).all()\n",
    "    print(df.head())"
   ]
  },
  {
   "cell_type": "markdown",
   "metadata": {},
   "source": [
    "Les constantes `BALANCE_THRESHOLD` et `MIN_SAMPLES` vont bien sûr dépendrent du contexte. Dans certains situations, `BALANCE_THRESHOLD` devra être amené à $1\\%$ ou `MIN_SAMPLES` devra être bien plus conséquent.\n",
    "\n",
    "Écrivons maintenant les tests pour la fonction `split_dataset`. Il nous faut rajouter deux fixtures dans le fichier `conftest.py` : une pour le jeu de données encodé (après application de `encode_features`) et une pour le ratio de test."
   ]
  },
  {
   "cell_type": "raw",
   "metadata": {
    "format": "python"
   },
   "source": [
    "from purchase_predict.pipelines.processing.nodes import encode_features\n",
    "\n",
    "@pytest.fixture(scope=\"module\")\n",
    "def test_ratio():\n",
    "    return 0.3\n",
    "\n",
    "@pytest.fixture(scope=\"module\")\n",
    "def dataset_encoded(dataset_not_encoded):\n",
    "    return encode_features(dataset_not_encoded)[\"features\"]"
   ]
  },
  {
   "cell_type": "markdown",
   "metadata": {},
   "source": [
    "De la même manière, nous ajoutons le test `test_split_dataset` au fichier `test_nodes.py`."
   ]
  },
  {
   "cell_type": "raw",
   "metadata": {
    "format": "python"
   },
   "source": [
    "import numpy as np\n",
    "\n",
    "def test_split_dataset(dataset_encoded, test_ratio):\n",
    "    X_train, y_train, X_test, y_test = split_dataset(dataset_encoded, test_ratio).values()\n",
    "    # Checks both sets size\n",
    "    assert X_train.shape[0] == y_train.shape[0]\n",
    "    assert X_test.shape[0] == y_test.shape[0]\n",
    "    assert X_train.shape[0] + X_test.shape[0] == dataset_encoded.shape[0]\n",
    "    # Note that train_test_split of scikit-learn use np.ceil for test split\n",
    "    # https://github.com/scikit-learn/scikit-learn/blob/42aff4e2edd8e8887478f6ff1628f27de97be6a3/sklearn/model_selection/_split.py#L1797\n",
    "    assert np.ceil(dataset_encoded.shape[0] * test_ratio) == X_test.shape[0]"
   ]
  },
  {
   "cell_type": "markdown",
   "metadata": {},
   "source": [
    "Lançons les tests."
   ]
  },
  {
   "cell_type": "raw",
   "metadata": {
    "format": "bash"
   },
   "source": [
    "kedro test src/tests/pipelines/processing/ -s"
   ]
  },
  {
   "cell_type": "raw",
   "metadata": {},
   "source": [
    "========================= test session starts =========================\n",
    "platform linux -- Python 3.8.5, pytest-6.1.2, py-1.10.0, pluggy-0.13.1\n",
    "rootdir: /home/jovyan/purchase_predict, configfile: pyproject.toml\n",
    "plugins: mock-1.13.0, cov-2.11.0\n",
    "collected 2 items\n",
    "\n",
    "src/tests/pipelines/processing/test_nodes.py ..\n",
    "\n",
    "========================== 2 passed in 0.65s =========================="
   ]
  },
  {
   "cell_type": "markdown",
   "metadata": {},
   "source": [
    "<div class=\"alert alert-block alert-info\">\n",
    "    Les deux points après le chemin d'accès au fichier signifie que deux fonctions de tests ont été correctement exécutées. En cas d'erreur nous aurions eu un <code>E</code> à la place et en cas de <i>skipping</i>, nous aurions eu <code>S</code>.\n",
    "</div>\n",
    "\n",
    "Il ne reste plus qu'à tester le pipeline `processing` en entier, qui fait appel aux deux fonctions. À noter que dans ce cas, il n'y a pas besoin de tester le jeu de données intermédiaire car les tests unitaires sont supposés déjà valides. Pour rappel, le pipeline `processing` est constitué de deux nodes."
   ]
  },
  {
   "cell_type": "raw",
   "metadata": {
    "format": "python"
   },
   "source": [
    "def create_pipeline(**kwargs):\n",
    "    return Pipeline(\n",
    "        [\n",
    "            node(\n",
    "                encode_features,\n",
    "                \"primary\",\n",
    "                \"dataset\",\n",
    "            ),\n",
    "            node(\n",
    "                split_dataset,\n",
    "                [\"dataset\", \"params:test_ratio\"],\n",
    "                dict(\n",
    "                    X_train=\"X_train\",\n",
    "                    y_train=\"y_train\",\n",
    "                    X_test=\"X_test\",\n",
    "                    y_test=\"y_test\",\n",
    "                ),\n",
    "            ),\n",
    "        ]\n",
    "    )"
   ]
  },
  {
   "cell_type": "markdown",
   "metadata": {},
   "source": [
    "Créons un catalogue de test pour `processing` dans le fichier `conftest.py`."
   ]
  },
  {
   "cell_type": "raw",
   "metadata": {
    "format": "python"
   },
   "source": [
    "from kedro.io import DataCatalog, MemoryDataSet\n",
    "\n",
    "@pytest.fixture(scope=\"module\")\n",
    "def catalog_test(dataset_not_encoded, test_ratio):\n",
    "    catalog = DataCatalog({\n",
    "        \"primary\": MemoryDataSet(dataset_not_encoded),\n",
    "        \"params:test_ratio\": MemoryDataSet(test_ratio)\n",
    "    })\n",
    "    return catalog"
   ]
  },
  {
   "cell_type": "markdown",
   "metadata": {},
   "source": [
    "Comme pour le pipeline précédent, nous nous basons sur les fixtures `dataset_not_encoded` et `test_ratio` pour créer le catalogue de données.\n",
    "\n",
    "> ❓ Pourquoi n'avons-nous pas crée un dataset <code>dataset</code> ?\n",
    "\n",
    "Le catalogue de données de test est identique à celui utilisé hors environnement de test, à la différence que l'on spécifie nous-même les différentes entrées. Ainsi, remarquons que le premier node va produire en sortie `dataset`. En exécutant le pipeline avec le catalogue de test, `dataset` sera alors stocké dans le catalogue en tant que `MemoryDataSet` : il sera donc utilisable par le prochain node du pipeline.\n",
    "\n",
    "Le contenu de `test_pipeline.py` s'écrit directement."
   ]
  },
  {
   "cell_type": "raw",
   "metadata": {
    "format": "python"
   },
   "source": [
    "from kedro.runner import SequentialRunner\n",
    "\n",
    "from purchase_predict.pipelines.processing.pipeline import create_pipeline\n",
    "\n",
    "def test_pipeline(catalog_test):\n",
    "    runner = SequentialRunner()\n",
    "    pipeline = create_pipeline()\n",
    "    pipeline_output = runner.run(pipeline, catalog_test)\n",
    "    assert pipeline_output[\"X_train\"].shape[0] == pipeline_output[\"y_train\"].shape[0]\n",
    "    assert pipeline_output[\"X_test\"].shape[0] == pipeline_output[\"y_test\"].shape[0]"
   ]
  },
  {
   "cell_type": "markdown",
   "metadata": {},
   "source": [
    "Exécutons l'intégralité des tests."
   ]
  },
  {
   "cell_type": "raw",
   "metadata": {
    "format": "bash"
   },
   "source": [
    "kedro test"
   ]
  },
  {
   "cell_type": "raw",
   "metadata": {},
   "source": [
    "========================= test session starts =========================\n",
    "platform linux -- Python 3.8.5, pytest-6.1.2, py-1.10.0, pluggy-0.13.1\n",
    "rootdir: /home/jovyan/purchase_predict, configfile: pyproject.toml\n",
    "plugins: mock-1.13.0, cov-2.11.0\n",
    "collected 6 items\n",
    "\n",
    "src/tests/test_run.py .                               [ 16%]\n",
    "src/tests/pipelines/loading/test_nodes.py .           [ 33%]\n",
    "src/tests/pipelines/loading/test_pipeline.py .        [ 50%]\n",
    "src/tests/pipelines/processing/test_nodes.py ..       [ 83%]\n",
    "src/tests/pipelines/processing/test_pipeline.py .     [100%]\n",
    "\n",
    "========================== 6 passed in 3.34s =========================="
   ]
  },
  {
   "cell_type": "markdown",
   "metadata": {},
   "source": [
    "Et voilà ! Jusqu'ici, nos deux pipelines `loading` et `processing` sont testés. Nous avons réalisé les tests pré-entraînement. Mais qu'en est-il de ceux concernant le modèle ?"
   ]
  },
  {
   "cell_type": "markdown",
   "metadata": {
    "break": "new"
   },
   "source": [
    "## Tests post-entraînement\n",
    "\n",
    "Les **tests post-entraînement** vont être exécutés une fois le modèle calibré. Contrairement aux tests précédents, ils sont plus subtils car l'objectif est de mettre en évidence certains aspects et comportements particuliers du modèle pour vérifier qu'ils n'aboutissent pas à des erreurs ou à des incohérences qui pourraient avoir d'importantes répercussions.\n",
    "\n",
    "Pour cela, nous pouvons faire intervenir plusieurs outils.\n",
    "\n",
    "- Des exemples de données dont on connaît (en dehors de la base d'apprentissage) les réponses.\n",
    "- Les méthodes d'interprétabilité avec SHAP par exemple.\n",
    "- Des méthodes d'évaluation de propriétés, comme la régularité de la loi jointe.\n",
    "\n",
    "Commençons par récupérer le modèle de boosting que nous avions entraîné avec la base de test."
   ]
  },
  {
   "cell_type": "code",
   "execution_count": null,
   "metadata": {
    "id": "8539d7428c515feb"
   },
   "outputs": [],
   "source": [
    "import os\n",
    "import joblib\n",
    "import pandas as pd\n",
    "import shap\n",
    "\n",
    "model = joblib.load(os.path.expanduser(\"~/data/model.pkl\"))\n",
    "X_test = pd.read_csv(os.path.expanduser(\"~/data/X_test.csv\"))\n",
    "y_test = pd.read_csv(os.path.expanduser(\"~/data/y_test.csv\")).values.flatten()\n",
    "\n",
    "# On calcul ici les valeurs de Shapley\n",
    "explainer = shap.TreeExplainer(model)\n",
    "X_shap = X_test.copy()\n",
    "shap_values = explainer.shap_values(X_shap)[1]"
   ]
  },
  {
   "cell_type": "markdown",
   "metadata": {},
   "source": [
    "### Tests d'invariance\n",
    "\n",
    "Les tests d'invariance nous permettent de définir un ensemble de perturbations à appliquer sur une ou plusieurs observations pour observer à quel point cela affecte la sortie du modèle.\n",
    "\n",
    "Par exemple, supposons qu'un utilisateur, ayant visité un produit dont le prix est de 59€. Un test d'invariance consisterai à dire qu'une variation de $\\pm 1€$ ne devrait pas faire varier la probabilité d'acheter de $\\pm x\\%$. Une variation importante pourrait signifier que cette variable a beaucoup d'impact, alors qu'en réalité, il est peu probable que pour un article de 59€ une variation de 1€ fasse drastiquement augmenter ou baisser la probabilité.\n",
    "\n",
    "Sélectionnons une seule observation aléatoire `x_unit`."
   ]
  },
  {
   "cell_type": "code",
   "execution_count": null,
   "metadata": {
    "id": "9f6c405aeba855f8"
   },
   "outputs": [],
   "source": [
    "x_unit = X_test.loc[4720, :].copy()\n",
    "\n",
    "print(\"Pos : {:2.3f}%\".format(model.predict_proba([x_unit])[0, 1] * 100))"
   ]
  },
  {
   "cell_type": "markdown",
   "metadata": {},
   "source": [
    "La probabilité associée ici est d'environ 92%. Appliquons une perturbation de +1€ et -1€."
   ]
  },
  {
   "cell_type": "code",
   "execution_count": null,
   "metadata": {
    "id": "294ed468ef130a28"
   },
   "outputs": [],
   "source": [
    "x_unit = X_test.loc[4720, :].copy()\n",
    "x_unit['price'] += 1\n",
    "print(\"Pos : {:2.3f}%\".format(model.predict_proba([x_unit])[0, 1] * 100))\n",
    "\n",
    "x_unit = X_test.loc[4720, :].copy()\n",
    "x_unit['price'] -= 1\n",
    "print(\"Pos : {:2.3f}%\".format(model.predict_proba([x_unit])[0, 1] * 100))"
   ]
  },
  {
   "cell_type": "markdown",
   "metadata": {},
   "source": [
    "Sur cette observation en particulier, la différence de probabilité est de $0.165\\%$. L'impact est **très limité**, indiquant que le modèle est régulier au voisinage de ce point.\n",
    "\n",
    "Calculons maintenant cette différence (en valeur absolue) de probabilité (pour la classe positive) pour chaque observation."
   ]
  },
  {
   "cell_type": "code",
   "execution_count": null,
   "metadata": {
    "id": "41e7ade55e4c7f9c"
   },
   "outputs": [],
   "source": [
    "import numpy as np\n",
    "\n",
    "# On ne sélectionne que les articles dont le prix est > à 1€, sinon on aurait un prix ... négatif !\n",
    "X_test_price = X_test[X_test['price'] > 1]\n",
    "X_test_price_plus = X_test_price.copy()\n",
    "X_test_price_plus['price'] += 1\n",
    "X_test_price_minus = X_test_price.copy()\n",
    "X_test_price_minus['price'] -= 1\n",
    "\n",
    "y_price = pd.DataFrame()\n",
    "y_price[\"y\"] = model.predict_proba(X_test_price)[:, 1]\n",
    "y_price[\"y+\"] = model.predict_proba(X_test_price_plus)[:, 1]\n",
    "y_price[\"y-\"] = model.predict_proba(X_test_price_minus)[:, 1]\n",
    "y_price[\"abs_delta\"] = np.abs(y_price[\"y-\"] - y_price[\"y+\"])\n",
    "y_price.sort_values(\"abs_delta\", ascending=False).head(n=10)"
   ]
  },
  {
   "cell_type": "markdown",
   "metadata": {},
   "source": [
    "Nous pouvons voir que pour une dizaine d'observations au moins, cette variable de 1€ contribue à un différentiel de 20% à 30% sur la probabilité prédite (ce qui est tout de même élevé).\n",
    "\n",
    "Regardons de quelles observations il s'agit."
   ]
  },
  {
   "cell_type": "code",
   "execution_count": null,
   "metadata": {
    "id": "bec79aa916a253d9"
   },
   "outputs": [],
   "source": [
    "idxs = list(y_price.sort_values(\"abs_delta\", ascending=False).head(n=100).index)\n",
    "X_test_price.loc[idxs, :]"
   ]
  },
  {
   "cell_type": "markdown",
   "metadata": {},
   "source": [
    "Nous aurions pu penser qu'il s'agit d'articles dont le prix est faible. Et pourtant, l'ordre de grandeur est de 20 à 50€ pour la plupart des articles. Regardons les valeurs de Shapley de ces mêmes observations."
   ]
  },
  {
   "cell_type": "code",
   "execution_count": null,
   "metadata": {
    "id": "9344ff9030b03b01"
   },
   "outputs": [],
   "source": [
    "shap.summary_plot(shap_values[idxs, :], X_shap.loc[idxs, :], plot_size=0.8)"
   ]
  },
  {
   "cell_type": "markdown",
   "metadata": {},
   "source": [
    "Au global, l'impact est limité."
   ]
  },
  {
   "cell_type": "code",
   "execution_count": null,
   "metadata": {
    "id": "0ee676e98464b142"
   },
   "outputs": [],
   "source": [
    "print(\"Écart-type : {:2.2f}%\".format(y_price[\"abs_delta\"].std()))\n",
    "print(\"Proportion : {:2.2f}%\".format(\n",
    "    y_price[y_price[\"abs_delta\"] < 0.05].shape[0] / y_price.shape[0] * 100\n",
    "))"
   ]
  },
  {
   "cell_type": "markdown",
   "metadata": {},
   "source": [
    "En traçant ce delta pour chaque observation dans l'ordre décroissant, nous pouvons voir apparaître un « coude » à partir duquel ce delta stagne."
   ]
  },
  {
   "cell_type": "code",
   "execution_count": null,
   "metadata": {
    "id": "14f7f9298cb22ff0"
   },
   "outputs": [],
   "source": [
    "import matplotlib.pyplot as plt\n",
    "\n",
    "n_obs = 1000\n",
    "\n",
    "plt.figure(figsize=(16,10))\n",
    "plt.plot(\n",
    "    range(n_obs),\n",
    "    y_price.sort_values(\"abs_delta\", ascending=False).iloc[:n_obs, -1],\n",
    "    lw=2\n",
    ")"
   ]
  },
  {
   "cell_type": "markdown",
   "metadata": {},
   "source": [
    "Dans notre situation, une variation de 10% **paraît raisonnable**. Il serait donc intéressant de se concentrer sur les quelques observations qui présentent une variation de plus de 20% par rapport à la variable prix."
   ]
  },
  {
   "cell_type": "markdown",
   "metadata": {},
   "source": [
    "### Test directionnels\n",
    "\n",
    "Les tests directionnels semblent proches des tests d'invariance, à la différence près que l'ensemble des perturbations que nous allons appliquer aux observations devraient avoir un effet **connu à l'avance** sur la sortie du modèle.\n",
    "\n"
   ]
  },
  {
   "cell_type": "code",
   "execution_count": null,
   "metadata": {
    "id": "2e1588fb83856300"
   },
   "outputs": [],
   "source": [
    "x_unit = X_test.loc[375, :]\n",
    "\n",
    "model.predict_proba([x_unit])"
   ]
  },
  {
   "cell_type": "markdown",
   "metadata": {},
   "source": [
    "L'interprétation locale est d'une grande aide : pourquoi y a-t-il une forte probabilité que cet utilisateur ne finalise pas l'achat ?"
   ]
  },
  {
   "cell_type": "code",
   "execution_count": null,
   "metadata": {
    "id": "ed0612aebae64df9"
   },
   "outputs": [],
   "source": [
    "shap.force_plot(explainer.expected_value[0], shap_values[375, :], x_unit, matplotlib=True)"
   ]
  },
  {
   "cell_type": "markdown",
   "metadata": {},
   "source": [
    "C'est principalement la durée, qui n'est que de 10 secondes, qui explique pourquoi cet utilisateur ne finaliserai pas l'achat.\n",
    "\n",
    "Le but du test directionnel est de se poser la question suivante : et si la durée avait durée 60 secondes de plus, que se passerait-il ?"
   ]
  },
  {
   "cell_type": "code",
   "execution_count": null,
   "metadata": {
    "id": "824281afd306024c"
   },
   "outputs": [],
   "source": [
    "x_unit = X_test.iloc[375, :].copy()\n",
    "x_unit['duration'] += 60\n",
    "\n",
    "model.predict_proba([x_unit])"
   ]
  },
  {
   "cell_type": "markdown",
   "metadata": {},
   "source": [
    "Ici, la probabilité augmente de près de 70%, alors que la variable n'a augmenté que de 60 secondes. Ce qu'il faut regarder ici, ce sont les autres variables de l'observation."
   ]
  },
  {
   "cell_type": "code",
   "execution_count": null,
   "metadata": {
    "id": "857c3ffe96cf4a94"
   },
   "outputs": [],
   "source": [
    "X_test.iloc[375, :]"
   ]
  },
  {
   "cell_type": "markdown",
   "metadata": {},
   "source": [
    "Regardons le graphe de dépendance."
   ]
  },
  {
   "cell_type": "code",
   "execution_count": null,
   "metadata": {
    "id": "3086aee93513bb34"
   },
   "outputs": [],
   "source": [
    "shap.dependence_plot(\"duration\", shap_values, X_shap)"
   ]
  },
  {
   "cell_type": "markdown",
   "metadata": {},
   "source": [
    "Ici , l'interaction avec la variable `num_views_session` **est très forte** lorsque la durée est très basse. Autrement dit, de petites durées font fortement baisser la probabilité lorsqu'il n'y a que peu de vues dans une session.\n",
    "\n",
    "Maintenant, essayons conjointement d'augmenter la valeur de la variable `num_views_session`."
   ]
  },
  {
   "cell_type": "code",
   "execution_count": null,
   "metadata": {
    "id": "867564f6fdf45e23"
   },
   "outputs": [],
   "source": [
    "x_unit = X_test.iloc[375, :].copy()\n",
    "x_unit['duration'] += 10\n",
    "x_unit['num_views_session'] += 10\n",
    "\n",
    "model.predict_proba([x_unit])"
   ]
  },
  {
   "cell_type": "markdown",
   "metadata": {},
   "source": [
    "Dans ce contexte, la probabilité **reste très faible**. Ce test directionnel s'intéresserait donc à des observations avec de faibles durées et peu de vues.\n",
    "\n",
    "Prenons un autre exemple, cette fois-ci pour un utilisateur ayant une forte probabilité de finaliser son achat."
   ]
  },
  {
   "cell_type": "code",
   "execution_count": null,
   "metadata": {
    "id": "7696374c118761c6"
   },
   "outputs": [],
   "source": [
    "x_unit = X_test.loc[4720, :]\n",
    " \n",
    "model.predict_proba([x_unit])"
   ]
  },
  {
   "cell_type": "code",
   "execution_count": null,
   "metadata": {
    "id": "21204d7071a36687"
   },
   "outputs": [],
   "source": [
    "shap.force_plot(explainer.expected_value[0], shap_values[4720, :], x_unit, matplotlib=True)"
   ]
  },
  {
   "cell_type": "markdown",
   "metadata": {},
   "source": [
    "Retirons maintenant 60 secondes à cette observation."
   ]
  },
  {
   "cell_type": "code",
   "execution_count": null,
   "metadata": {
    "id": "e16c7c325a19610f"
   },
   "outputs": [],
   "source": [
    "x_unit = X_test.loc[4720, :].copy()\n",
    "x_unit['duration'] -= 60\n",
    "    \n",
    "model.predict_proba([x_unit])"
   ]
  },
  {
   "cell_type": "markdown",
   "metadata": {},
   "source": [
    "L'effet de la variable `duration` a beaucoup moins d'impact que pour l'observation précédente.\n",
    "\n",
    "Ce qu'il faut retenir, c'est qu'il ne suffit pas de définir un seuil limite d'écart de probabilité en appliquant une perturbation $\\varepsilon$ sans étudier au préalable l'observation qui va subir la transformation. Dans le premier exemple, la durée était très faible (seule 10 secondes), il était donc logique sur la probabilité de finaliser l'achat soit très faible. En revanche, le fait de rajouter 60 secondes pour cette session peut créer une observation que est pas ou très peu représentée dans l'échantillon : le modèle n'a rencontré que peu d'observations présentant ces caractéristiques."
   ]
  },
  {
   "cell_type": "markdown",
   "metadata": {},
   "source": [
    "### Tests unitaires du modèle\n",
    "\n",
    "Au même titre que les tests unitaires sont réalisés pour les fonctions de collecte et de transformation de données, les tests unitaires pour le modèle consistent à vérifier que ce dernier prédit la bonne réponse pour des observations qui sont supposées être parfaitement classifiées.\n",
    "\n",
    "Une méthode consiste à calculer des **prototypes** : il s'agit d'observations qui *représentent le plus* les données. En d'autres termes, il s'agit d'un concept proches des centres de clusters formés par les observations. Et un algorithme non-supervisé permettant de détecter les prototypes est le **k-médoïde**, proche des k-moyennes dans son fonctionnement mais qui calcule le <a href=\"https://en.wikipedia.org/wiki/Medoid\" target=\"_blank\">médoïde</a>, point d'un cluster dont la distance avec tous les autres points est la plus petite."
   ]
  },
  {
   "cell_type": "code",
   "execution_count": null,
   "metadata": {
    "id": "206b5b2c0f9ffd31"
   },
   "outputs": [],
   "source": [
    "!pip install scikit-learn-extra -q"
   ]
  },
  {
   "cell_type": "markdown",
   "metadata": {},
   "source": [
    "Lançons un k-médoïde sur les observations de test."
   ]
  },
  {
   "cell_type": "code",
   "execution_count": null,
   "metadata": {
    "id": "39c38396c8de591d"
   },
   "outputs": [],
   "source": [
    "from sklearn_extra.cluster import KMedoids\n",
    "\n",
    "kmed = KMedoids(n_clusters=10)\n",
    "kmed.fit(X_test)"
   ]
  },
  {
   "cell_type": "markdown",
   "metadata": {},
   "source": [
    "Récupérons les centres des clusters (les médoïdes) dans un DataFrame."
   ]
  },
  {
   "cell_type": "code",
   "execution_count": null,
   "metadata": {
    "id": "0adba32d7d7533c0"
   },
   "outputs": [],
   "source": [
    "X_prototypes = pd.DataFrame(\n",
    "    data=kmed.cluster_centers_,\n",
    "    columns=X_test.columns\n",
    ")\n",
    "X_prototypes"
   ]
  },
  {
   "cell_type": "markdown",
   "metadata": {},
   "source": [
    "Chacune de ces observations représentent la moyenne d'une sous-population de l'échantillon. Étonnamment, hormis la première observation, toutes les autres concernent des produits issus de la même catégorie.\n",
    "\n",
    "Calculons les probabilité associées."
   ]
  },
  {
   "cell_type": "code",
   "execution_count": null,
   "metadata": {
    "id": "e427d357fcdf81cd"
   },
   "outputs": [],
   "source": [
    "model.predict_proba(kmed.cluster_centers_)"
   ]
  },
  {
   "cell_type": "markdown",
   "metadata": {},
   "source": [
    "Là-aussi, à part la première observation, toutes les autres sont prédites dans la classe positive. La dernière observation est, quant-à-elle, plus difficile à quantifier du fait des deux probabilités très proches.\n",
    "\n",
    "Nous pourrions ainsi extraire plusieurs prototypes de ce DataFrame. Attention néanmoins, car ces données représentent uniquement un historique d'une journée, alors qu'en pratique, celles qui seront utilisées pour calibrer le modèle représentent un historique de 7 jours."
   ]
  },
  {
   "cell_type": "markdown",
   "metadata": {
    "id": "9f57b2dda03f3ad1"
   },
   "source": [
    "## ✔️ Conclusion\n",
    "\n",
    "Les tests de modèle sont plus difficiles à construire, mais sont indispensables pour certains secteurs d'activités où les prédictions du modèle peuvent être critiques.\n",
    "\n",
    "- Nous avons vu les test pré-entraînement pour s'assurer de la cohérence de la base d'apprentissage avant l'entraînement.\n",
    "- Nous avons détaillé plusieurs tests de modèles pour vérifier son comportement.\n",
    "\n",
    "> ➡️ Lorsque ces tests sont réalisés avec succès, il faut maintenant conserver le modèle quelque part pour y accéder ultérieurement : c'est le rôle de <b>MLflow</b>."
   ]
  }
 ],
 "metadata": {
  "celltoolbar": "Éditer les Méta-Données",
  "kernelspec": {
   "display_name": "Python 3 (ipykernel)",
   "language": "python",
   "name": "python3"
  },
  "language_info": {
   "codemirror_mode": {
    "name": "ipython",
    "version": 3
   },
   "file_extension": ".py",
   "mimetype": "text/x-python",
   "name": "python",
   "nbconvert_exporter": "python",
   "pygments_lexer": "ipython3",
   "version": "3.8.10"
  }
 },
 "nbformat": 4,
 "nbformat_minor": 4
}
