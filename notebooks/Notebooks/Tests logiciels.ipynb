{
 "cells": [
  {
   "cell_type": "markdown",
   "metadata": {
    "type": "intro"
   },
   "source": [
    "Dans l'univers du développement logiciel, les tests sont omni-présents. Ils permettent de vérifier que le logiciel ou l'application développée adopte correctement le comportement attendu, ne produit pas de bugs ou s'intègre efficacement dans un environnement existant.\n",
    "\n",
    "Mais comment transposer tous ces tests de développement logiciel au cas où l'on entraîne et fait intervenir des modèles de Machine Learning ?\n",
    "\n",
    "<blockquote><p>🙋 <b>Ce que nous allons faire</b></p>\n",
    "<ul>\n",
    "    <li>Comprendre pourquoi il est important de tester son code et son modèle</li>\n",
    "    <li>Appliquer les tests usuels de développement logiciel</li>\n",
    "</ul>\n",
    "</blockquote>\n",
    "\n",
    "<img src=\"https://media.giphy.com/media/Rd6sn03ncIklmprvy6/giphy.gif\" />"
   ]
  },
  {
   "cell_type": "markdown",
   "metadata": {},
   "source": [
    "## Tester des applications\n",
    "\n",
    "Avant de rentrer dans le détails des tests d'algorithmes de Machine Learning, décrivons tout d'abord les bonnes pratiques héritées du développement logiciel.\n",
    "\n",
    "### Tests logiciels\n",
    "\n",
    "Dans ce contexte, une suite de tests inclut habituellement trois composantes.\n",
    "\n",
    "- Les **tests unitaires**, où l'on s'assurer qu'une portion atomique du code fonctionne correctement (par exemple, une fonction). En règle générale, ce sont des tests rapides et faciles à mettre en place.\n",
    "- Les **tests de régression**, où l'on doit s'assurer que le développement d'une nouvelle fonctionnalité ne va pas faire survenir un bug déjà rencontré par le passé.\n",
    "- Les **tests d'intégration**, où on cherche à voir si la fonctionnalité développée va être correctement intégré dans l'application sans générer des erreurs dues à son interaction avec d'autres composantes. Ces erreurs sont en pratique plus difficiles à prévenir, d'où la difficulté de construire des tests d'intégration efficaces.\n",
    "\n",
    "Dans les faits, les bonnes pratiques nécessitent de suivre plusieurs conventions. En travail collaboratif, notamment avec `git`, les règles de base suivantes sont appliquées.\n",
    "\n",
    "- Ne **jamais fusionner de branches** si les tests ne sont pas valides.\n",
    "- **Toujours écrire des tests** pour de nouvelles fonctionnalités.\n",
    "- Lorsque l'on corrige un bug, **toujours écrire le test** et l'appliquer sur la correction.\n",
    "\n",
    "### Tests de modèles de Machine Learning\n",
    "\n",
    "Essayons maintenant de transposer ce que nous venons de voir pour tester les modèles de Machine Learning. Une fois un modèle de Machine Learning calibré, nousz souhaiterions obtenir un rapport d'évaluation contenant les informations suivantes.\n",
    "\n",
    "- Performances avec des métriques définies sur des sous-ensembles (`X_test` par exemple).\n",
    "- Graphes de validation : courbe PR, courbe ROC, densité des classes, courbe de calibration.\n",
    "- Audit du modèle avec des modèles d'interprétabilité (PDP, valeurs de Shapley).\n",
    "- Sous-population où le modèle génère des faux-positifs ou faux-négatifs avec un fort degré de confiance.\n",
    "\n",
    "Par ailleurs, on y retrouve également d'autres bonnes pratiques qui s'inscrivent toujours dans une logique de démarche de qualité.\n",
    "\n",
    "- **Toujours sauvegarder** les hyper-paramètres, sous-échantillons utilisés et le modèle entraîné.\n",
    "- Mettre à jour un environnement de production avec **un modèle aux meilleures performances** ou selon un seuil minimal.\n",
    "\n",
    "Face à ces besoins de tester, nous pouvons voir que calculer des performances sur un sous-échantillon ou afficher des courbes n'est pas suffisant pour s'assurer que le modèle est « valide ». Pour les systèmes de Machine Learning, nous devrions effectuer deux méthodes en parallèle.\n",
    "\n",
    "- **L'évaluation de modèle**, où l'on calcule ses performances, audite son fonctionnement et affiche des courbes.\n",
    "- Le **test de modèle** où l'on développe des tests explicites pour vérifier que le comportement du modèle est bien celui attendu."
   ]
  },
  {
   "cell_type": "markdown",
   "metadata": {
    "break": "new"
   },
   "source": [
    "## Tests unitaires\n",
    "\n",
    "Commençons par introduire les tests unitaires avec `pytest`. Il s'agit d'une librairie qui permet de **faciliter la mise en place et l'exécution** des tests de code sous Python. Bien que les tests unitaires puissent être réalisés *from scratch*, `pytest` améliore la productivité et apporte des fonctionnalités très utiles.\n",
    "\n",
    "Testons la librairie sur le premier fichier suivant. Nous avons codé la fonction `argmax` qui cherche à obtenir la position du plus grand élément d'une liste. Nous codons également la fonction `test_argmax` qui va tester unitairement la fonction `argmax` sur plusieurs exemples : cela reflète du comportement attendu de la fonction."
   ]
  },
  {
   "cell_type": "code",
   "execution_count": 5,
   "metadata": {
    "id": "0aaa75f81cffb2d6"
   },
   "outputs": [],
   "source": [
    "%%writefile /tmp/pytest_1.py\n",
    "def argmax(liste):\n",
    "    if len(liste) == 0:\n",
    "        return None\n",
    "    \n",
    "    idx_max = 0\n",
    "    value_max = liste[0]\n",
    "    for i, x in enumerate(liste):\n",
    "        if x > value_max:\n",
    "            value_max = x\n",
    "            idx_max = i\n",
    "    return idx_max\n",
    "\n",
    "def test_argmax():\n",
    "    assert argmax([5, 8, 2, 9, 6, 3]) == 3\n",
    "    assert argmax([7]) == 0\n",
    "    assert argmax([]) == None"
   ]
  },
  {
   "cell_type": "markdown",
   "metadata": {},
   "source": [
    "Exécutons le code avec `pytest` en spécifiant le chemin d'accès au fichier."
   ]
  },
  {
   "cell_type": "code",
   "execution_count": 6,
   "metadata": {
    "id": "4b314d2af0315b00"
   },
   "outputs": [],
   "source": [
    "!pytest /tmp/pytest_1.py"
   ]
  },
  {
   "cell_type": "markdown",
   "metadata": {},
   "source": [
    "En exécutant cette commande, `pytest` effectue une **découverte automatique** des tests.\n",
    "\n",
    "- Il va d'abord rechercher tous les fichiers dont le nom commence par `test*` si on lui fournit un dossier.\n",
    "- Pour chaque classe/fonction du fichier, si l'objet commence par `test*`, alors ce dernier sera instancié (dans le cas d'une fonction) et les fonctions seront exécutées (pour les deux).\n",
    "\n",
    "Cette découverte des tests permet de simplifier la mise en place des tests : plus besoin de spécifier tous les tests dans un fichier, qui lui-même effectue des importations. Nous pouvons imaginer que pour chaque *module*, il y ait un fichier `test.py` qui regroupe tous les tests unitaires liés à ce module. De manière générale, il est plus approprié de créer un fichier spécifique pour les tests unitaires plutôt que de les insérer dans le code qui fournit la logique à l'application.\n",
    "\n",
    "C'est de cette manière que `pytest` exécute naturellement la fonction `test_argmax` sans avoir eu besoin de la spécifier comme argument. Dans certains cas, nous pouvons être amené à éviter volontairement l'exécution d'une fonction. Dans ce cas, il suffit d'ajouter le décorateur `pytest.mark.skip`."
   ]
  },
  {
   "cell_type": "code",
   "execution_count": 8,
   "metadata": {
    "id": "1f2cc277d7ac47dd"
   },
   "outputs": [],
   "source": [
    "%%writefile /tmp/pytest_1.py\n",
    "import pytest\n",
    "\n",
    "def argmax(liste):\n",
    "    if len(liste) == 0:\n",
    "        return None\n",
    "    \n",
    "    idx_max = 0\n",
    "    value_max = liste[0]\n",
    "    for i, x in enumerate(liste):\n",
    "        if x > value_max:\n",
    "            value_max = x\n",
    "            idx_max = i\n",
    "    return idx_max\n",
    "\n",
    "@pytest.mark.skip\n",
    "def test_argmax():\n",
    "    assert argmax([5, 8, 2, 9, 6, 3]) == 3\n",
    "    assert argmax([7]) == 0\n",
    "    assert argmax([]) == None"
   ]
  },
  {
   "cell_type": "code",
   "execution_count": 9,
   "metadata": {
    "id": "2726a1c9c8788ae3"
   },
   "outputs": [],
   "source": [
    "!pytest /tmp/pytest_1.py"
   ]
  },
  {
   "cell_type": "markdown",
   "metadata": {},
   "source": [
    "Comme nous pouvons le voir, 100% des tests ont réussi car le seul test présent a été ignoré (*skipped*). Voyons maintenant un autre fichier Python dont le test unitaire va volontairement générer une erreur."
   ]
  },
  {
   "cell_type": "code",
   "execution_count": 10,
   "metadata": {
    "id": "b42e9e449064882c"
   },
   "outputs": [],
   "source": [
    "%%writefile /tmp/pytest_2.py\n",
    "def argmin(liste):\n",
    "    if len(liste) == 0:\n",
    "        return None\n",
    "    \n",
    "    idx_min = 0\n",
    "    value_min = liste[0]\n",
    "    for i, x in enumerate(liste):\n",
    "        if x < value_min:\n",
    "            value_min = x\n",
    "            idx_min = i + 1\n",
    "    return idx_min\n",
    "\n",
    "def test_argmin():\n",
    "    assert argmin([5, 8, 2, 9, 6, 3]) == 2\n",
    "    assert argmin([7]) == 0\n",
    "    assert argmin([]) == None"
   ]
  },
  {
   "cell_type": "code",
   "execution_count": 11,
   "metadata": {
    "id": "36774868e28d4d28"
   },
   "outputs": [],
   "source": [
    "!pytest /tmp/pytest_2.py"
   ]
  },
  {
   "cell_type": "markdown",
   "metadata": {},
   "source": [
    "D'après la sortie générée par `pytest`, les tests du fichier `/tmp/pytest_2.py` ont échoués. Si l'on regarde en détaille l'exécution de `test_argmin`, nous avons un `assert 3 == 2`, ce qui signifie que notre test unitaire a échoué. Corrigeons la fonction `argmin` et ajoutons la fonction `argmax` avec son test unitaire associé."
   ]
  },
  {
   "cell_type": "code",
   "execution_count": 12,
   "metadata": {
    "id": "1bddca2f7bb2a052"
   },
   "outputs": [],
   "source": [
    "%%writefile /tmp/pytest_2.py\n",
    "def argmin(liste):\n",
    "    if len(liste) == 0:\n",
    "        return None\n",
    "    \n",
    "    idx_min = 0\n",
    "    value_min = liste[0]\n",
    "    for i, x in enumerate(liste):\n",
    "        if x < value_min:\n",
    "            value_min = x\n",
    "            idx_min = i\n",
    "    return idx_min\n",
    "\n",
    "def argmax(liste):\n",
    "    if len(liste) == 0:\n",
    "        return None\n",
    "    \n",
    "    idx_max = 0\n",
    "    value_max = liste[0]\n",
    "    for i, x in enumerate(liste):\n",
    "        if x > value_max:\n",
    "            value_max = x\n",
    "            idx_max = i\n",
    "    return idx_max\n",
    "\n",
    "def test_argmin():\n",
    "    assert argmin([5, 8, 2, 9, 6, 3]) == 2\n",
    "    assert argmin([7]) == 0\n",
    "    assert argmin([]) == None\n",
    "    \n",
    "def test_argmax():\n",
    "    assert argmax([5, 8, 2, 9, 6, 3]) == 3\n",
    "    assert argmax([7]) == 0\n",
    "    assert argmax([]) == None"
   ]
  },
  {
   "cell_type": "code",
   "execution_count": 13,
   "metadata": {
    "id": "eb410ca9a4c94ebd"
   },
   "outputs": [],
   "source": [
    "!pytest /tmp/pytest_2.py -v"
   ]
  },
  {
   "cell_type": "markdown",
   "metadata": {},
   "source": [
    "Le paramètre `-v` permet d'afficher plus de détails concernant les tests. Puisque deux fonctions sont nommées `test*`, il y a deux tests effectués par `pytest`. Cette option permet d'obtenir un détail pour chaque test codé, simplifiant ensuite le déboggage de l'application. \n",
    "\n",
    "En pratique, les tests unitaires doivent être exécutés une fois les données envoyés vers le dépôt Git. En revanche, il est déconseillé de les exécuter lors du pre-commit, car ce dernier doit être rapide. Les tests unitaires, notamment ceux incluant des tests pour les modèles, peuvent prendre du temps ce qui n'est pas conseillé pour les pre-commits.\n",
    "\n",
    "### Les fixtures\n",
    "\n",
    "Imaginons que l'on souhaite utiliser des données/paramètres uniquement pour les tests unitaires. Si l'on regarde bien, les deux fonctions `test_argmin` et `test_argmax` utilisent les mêmes listes pour tester les deux fonctions. Nous pourrions tout à fait définir des catalogues de référence pour les tests unitaires qui seront utilisés à chaque fois. C'est à cela que servent **les fixtures**.\n",
    "\n",
    "Regardons le code suivant qui n'utilise pas de fixture. Nous allons simplement créer une liste `test_data` qui sera utilisée par les deux fonctions de test."
   ]
  },
  {
   "cell_type": "code",
   "execution_count": 14,
   "metadata": {
    "id": "911e4730a0c0c146"
   },
   "outputs": [],
   "source": [
    "%%writefile /tmp/pytest_2.py\n",
    "\n",
    "# Pas bien !\n",
    "test_data = [5, 8, 2, 9, 6, 3]\n",
    "\n",
    "def argmin(liste):\n",
    "    if len(liste) == 0:\n",
    "        return None\n",
    "    \n",
    "    idx_min = 0\n",
    "    value_min = liste[0]\n",
    "    for i, x in enumerate(liste):\n",
    "        if x < value_min:\n",
    "            value_min = x\n",
    "            idx_min = i\n",
    "    return idx_min\n",
    "\n",
    "def argmax(liste):\n",
    "    if len(liste) == 0:\n",
    "        return None\n",
    "    \n",
    "    idx_max = 0\n",
    "    value_max = liste[0]\n",
    "    for i, x in enumerate(liste):\n",
    "        if x > value_max:\n",
    "            value_max = x\n",
    "            idx_max = i\n",
    "    return idx_max\n",
    "\n",
    "def test_argmin():\n",
    "    assert argmin(test_data) == 2\n",
    "    \n",
    "def test_argmax():\n",
    "    assert argmax(test_data) == 3"
   ]
  },
  {
   "cell_type": "code",
   "execution_count": 15,
   "metadata": {
    "id": "59efd5f38522c5f1"
   },
   "outputs": [],
   "source": [
    "!pytest /tmp/pytest_2.py -v"
   ]
  },
  {
   "cell_type": "markdown",
   "metadata": {},
   "source": [
    "Bien que le test ait fonctionné, cela n'est pas une bonne pratique, car nous allons obligatoirement définir cette variable globale en mémoire à chaque exécution du code, alors qu'elle n'est utilisée que pour les tests unitaires. Dans ce cas de figure, il est préférable de créer des fixtures.\n",
    "\n",
    "Les fixtures définissent un environnement dans lequel nous allons pouvoir tester notre code. Dans beaucoup de situations, il nous faut initialiser certaines variables avant de lancer les tests unitaires. Les fixtures sous `pytest` sont des fonctions qui sont utilisés comme **paramètres** des fonctions de tests unitaires.\n",
    "\n",
    "Regardons le code suivant."
   ]
  },
  {
   "cell_type": "code",
   "execution_count": 17,
   "metadata": {
    "id": "5b2b0ed56e8ebca4"
   },
   "outputs": [],
   "source": [
    "%%writefile /tmp/pytest_2.py\n",
    "import pytest\n",
    "\n",
    "@pytest.fixture\n",
    "def test_data():\n",
    "    return [5, 8, 2, 9, 6, 3]\n",
    "\n",
    "def argmin(liste):\n",
    "    if len(liste) == 0:\n",
    "        return None\n",
    "    \n",
    "    idx_min = 0\n",
    "    value_min = liste[0]\n",
    "    for i, x in enumerate(liste):\n",
    "        if x < value_min:\n",
    "            value_min = x\n",
    "            idx_min = i\n",
    "    return idx_min\n",
    "\n",
    "def argmax(liste):\n",
    "    if len(liste) == 0:\n",
    "        return None\n",
    "    \n",
    "    idx_max = 0\n",
    "    value_max = liste[0]\n",
    "    for i, x in enumerate(liste):\n",
    "        if x > value_max:\n",
    "            value_max = x\n",
    "            idx_max = i\n",
    "    return idx_max\n",
    "\n",
    "def test_argmin(test_data):\n",
    "    assert argmin(test_data) == 2\n",
    "    \n",
    "def test_argmax(test_data):\n",
    "    assert argmax(test_data) == 3 "
   ]
  },
  {
   "cell_type": "markdown",
   "metadata": {},
   "source": [
    "Tout d'abord, nous définissons la fonction `test_data` comme fixture à l'aide du décorateur de fonctions `@pytest.fixture`. Cette fonction va renvoyer une liste qui correspond à la liste de référence pour tester les deux fonctions. Ensuite, dans les fonctions de tests unitaires, nous allons récupérer comme paramètre cette même fonction `test_data`. Mais attention : lorsque l'on exécutera `pytest`, ce dernier va automatiquement remplacer le paramètre `test_data` (qui est supposé être une fonction car fixture) par le résultat de cette fonction.\n",
    "\n",
    "<img src=\"https://blent-learning-user-ressources.s3.eu-west-3.amazonaws.com/training/ml_engineer_facebook/img/tests4.png\" />\n",
    "\n",
    "Ainsi, à chaque exécution de `pytest`, ce sera en réalité `test_data()` qui sera passé comme paramètre pour les fonctions `test_argmin` et `test_argmax` (et non la fonction `test_data` elle-même). Cette méthode permet d'instancier plus efficacement les initialisations pour les tests, sans compromettre le reste du code qui lui n'aura pas besoin des tests dans un environnement de production.\n",
    "\n",
    "Exécutons maintenant `pytest`."
   ]
  },
  {
   "cell_type": "code",
   "execution_count": 18,
   "metadata": {
    "id": "47a6cd6781b5300d"
   },
   "outputs": [],
   "source": [
    "!pytest /tmp/pytest_2.py -v"
   ]
  },
  {
   "cell_type": "markdown",
   "metadata": {},
   "source": [
    "Tout a correctement fonctionné. L'intérêt de ce système est de pouvoir ensuite centraliser l'initialisation des variables et des données pour les tests, évitant ainsi les duplicata de codes que l'on connaît déjà bien hors des tests.\n",
    "\n",
    "Maintenant que nous avons vu les points essentiels de `pytest`, nous pouvons dorénavant intégrer les tests unitaires dans notre projet Kedro. Et un avantage non négligeable est que Kedro supporte nativement `pytest` pour les tests unitaires : il dispose même de la commande `kedro test`. 🙂"
   ]
  },
  {
   "cell_type": "markdown",
   "metadata": {
    "break": "new"
   },
   "source": [
    "## Intégration des tests unitaires dans Kedro\n",
    "\n",
    "Intégrons les tests unitaires et du modèle dans notre projet Kedro. En regardant la structure du projet, nous pouvons observer le dossier `src/tests` qui contient le fichier `test_run.py`."
   ]
  },
  {
   "cell_type": "raw",
   "metadata": {
    "format": "plaintext"
   },
   "source": [
    "This module contains an example test.\n",
    "\n",
    "Tests should be placed in ``src/tests``, in modules that mirror your\n",
    "project's structure, and in files named test_*.py. They are simply functions\n",
    "named ``test_*`` which test a unit of logic.\n",
    "\n",
    "To run the tests, run ``kedro test`` from the project root directory."
   ]
  },
  {
   "cell_type": "markdown",
   "metadata": {},
   "source": [
    "Pour exécuter proprement les tests avec Kedro, il faut que la structure des fichiers des tests soit identique à celle utilisée dans `src/purchase_predict`. Nous devons donc créer deux dossiers `loading`, `training` et `processing` dans `src/tests/pipelines` pour répliquer l'architecture à l'identique.\n",
    "\n",
    "Commençons par le dossier `loading` qui charge les fichiers CSV depuis Cloud Storage. Au préalable, nous allons installer les dépendances de Kedro pour effectuer les tests unitaires (qui contient `pytest` notamment)."
   ]
  },
  {
   "cell_type": "raw",
   "metadata": {
    "format": "bash"
   },
   "source": [
    "pip install src/requirements.txt"
   ]
  },
  {
   "cell_type": "markdown",
   "metadata": {},
   "source": [
    "### Tests sur les nodes\n",
    "\n",
    "Avant de développer nos tests unitaires, créons sur le bucket Cloud Storage des **données de tests**. Dans le dossier `primary/` du bucket, nous allons créer un dossier `data-test.csv/`.\n",
    "\n",
    "<img src=\"https://blent-learning-user-ressources.s3.eu-west-3.amazonaws.com/training/ml_engineer_facebook/img/tests1.png\" />\n",
    "\n",
    "Ensuite, pour alimenter ce dossier, nous allons copier deux fichiers CSV déjà présents dans `data.csv/` vers `data-test.csv/`.\n",
    "\n",
    "<img src=\"https://blent-learning-user-ressources.s3.eu-west-3.amazonaws.com/training/ml_engineer_facebook/img/tests2.png\" />\n",
    "\n",
    "Habituellement, avec Kedro, nous pouvons effectuer deux séries de tests.\n",
    "\n",
    "- Les tests sur les nodes et les fonctions qu'utilisent les nodes. Par exemple, pour l'entraînement, le fichier `nodes.py` contient des fonctions qui ne sont pas directement utilisés par les nodes mais qui sont appelés par les fonctions des nodes.\n",
    "- Les tests sur les pipelines, permettant de les tester en fonction de plusieurs formats d'entrée ou sous forme d'exécution partielles.\n",
    "\n",
    "Créons tout d'abord le fichier `test_nodes.py`. Dans le pipeline `loading`, seule la fonction `load_csv_from_bucket` est présente : nous allons uniquement tester cette dernière."
   ]
  },
  {
   "cell_type": "raw",
   "metadata": {
    "format": "python"
   },
   "source": [
    "import pandas as pd\n",
    "\n",
    "from purchase_predict.pipelines.loading.nodes import load_csv_from_bucket\n",
    "\n",
    "def test_load_csv_from_bucket(project_id, primary_folder):\n",
    "    df = load_csv_from_bucket(project_id, primary_folder)\n",
    "    print(df.head())"
   ]
  },
  {
   "cell_type": "markdown",
   "metadata": {},
   "source": [
    "Nous définissons la fonction `test_load_csv_from_bucket` avec les mêmes paramètres que la fonction `load_csv_from_bucket`.\n",
    "\n",
    "> ❓ Mais nous n'avons pas défini les fixtures ici ?\n",
    "\n",
    "En effet, il faudrait que les paramètres `project_id` et `primary_folder` soient des fixtures avec des fonctions de même nom. Or, ici, nous n'en avons pas créée. Il y a une raison à cela : plus tard, nous allons également créer un fichier de test pour le pipeline. Pour éviter des redondances de définitions de fixtures, nous allons définir les fixtures dans un fichier spécifique, qui derrière sera automatiquement exécuté par `pytest`.\n",
    "\n",
    "D'après <a href=\"https://docs.pytest.org/en/stable/fixture.html#conftest-py-sharing-fixture-functions\" target=\"_blank\">la documentation</a> de `pytest` sur les fixtures, nous pouvons les centraliser dans un fichier nommé `conftest.py` qui sera automatiquement exécuté avant les tests unitaires. Nous en créons un dans le dossier `loading`."
   ]
  },
  {
   "cell_type": "raw",
   "metadata": {
    "format": "python"
   },
   "source": [
    "import pytest\n",
    "\n",
    "@pytest.fixture(scope=\"module\")\n",
    "def project_id():\n",
    "    return \"<PROJECT_GCP>\"\n",
    "\n",
    "@pytest.fixture(scope=\"module\")\n",
    "def primary_folder():\n",
    "    return \"<NOM_DU_BUCKET>/primary/data-test.csv\""
   ]
  },
  {
   "cell_type": "markdown",
   "metadata": {},
   "source": [
    "L'argument `scope=\"module\"` permet de spécifier que les fixtures seront accessibles à l'intérieur de `purchase_predict`. Il ne reste plus qu'à lancer les test avec Kedro."
   ]
  },
  {
   "cell_type": "raw",
   "metadata": {
    "format": "bash"
   },
   "source": [
    "kedro test"
   ]
  },
  {
   "cell_type": "raw",
   "metadata": {
    "format": "console"
   },
   "source": [
    "========================= test session starts =========================\n",
    "platform linux -- Python 3.8.5, pytest-6.1.2, py-1.10.0, pluggy-0.13.1\n",
    "rootdir: /home/jovyan/purchase_predict, configfile: pyproject.toml\n",
    "plugins: mock-1.13.0, cov-2.11.0\n",
    "collected 2 items                                                                                                 \n",
    "\n",
    "src/tests/test_run.py .                        [ 50%]\n",
    "src/tests/pipelines/loading/test_nodes.py .    [100%]\n",
    "\n",
    "========================== 2 passed in 1.94s =========================="
   ]
  },
  {
   "cell_type": "markdown",
   "metadata": {},
   "source": [
    "Au tout début, `pytest` exécute le test sur `test_run.py`, qui montre un exemple de test unitaire avec Kedro. Ensuite, il exécute le seul autre fichier de test présent `test_nodes.py`. Puisqu'il n'y a aucun problème, cela signifie que le code n'a pas généré d'erreurs et que, en théorie, nous avons correctement réussi à implémenter la fonction de test avec Kedro. C'est alors que nous pouvons rajouter des tests et des conditions dans la fonction."
   ]
  },
  {
   "cell_type": "raw",
   "metadata": {
    "format": "python"
   },
   "source": [
    "def test_load_csv_from_bucket(project_id, primary_folder):\n",
    "    df = load_csv_from_bucket(project_id, primary_folder)\n",
    "    assert type(df) == pd.DataFrame\n",
    "    assert df.shape[1] == 16\n",
    "    assert \"purchased\" in df"
   ]
  },
  {
   "cell_type": "markdown",
   "metadata": {},
   "source": [
    "### Tests sur les pipelines\n",
    "\n",
    "En plus de tests unitaires sur les nodes, il est également possible d'effectuer des tests unitaires sur les pipelines. Cela permet, par exemple, de s'assurer du bon déroulement du pipeline en fonction de plusieurs situations (données incomplètes ou manquantes, mauvaise configuration de paramètres). En respectant le même principe que pour les nodes, nous allons créer le fichier `test_pipeline.py`."
   ]
  },
  {
   "cell_type": "raw",
   "metadata": {
    "format": "python"
   },
   "source": [
    "from kedro.runner import SequentialRunner\n",
    "\n",
    "from purchase_predict.pipelines.loading.pipeline import create_pipeline\n",
    "\n",
    "def test_pipeline(catalog_test):\n",
    "    runner = SequentialRunner()\n",
    "    pipeline = create_pipeline()\n",
    "    pipeline_output = runner.run(pipeline, catalog_test)"
   ]
  },
  {
   "cell_type": "markdown",
   "metadata": {},
   "source": [
    "Nous récupérons la fonction `create_pipeline` permettant de créer le pipeline que nous souhaitons tester. Dans le test unitaire, nous instancions un `SequentialRunner`, qui exécutera le pipeline de manière séquentielle. Ensuite, nous créons une instance du pipeline et enfin nous exécuter ce dernier. Remarquons la variable `catalog_test` : il s'agit d'un catalogue de données spécifiquement crée pour le test. Plutôt que d'utiliser celui par défaut dans le fichier `catalog.yml`, nous allons pouvoir spécifier des données propres aux tests qui ne va pas perturber le catalogue déjà présent.\n",
    "\n",
    "Le catalogue de données représente lui aussi une fixture que nous rajoutons dans `conftest.py`."
   ]
  },
  {
   "cell_type": "raw",
   "metadata": {
    "format": "python"
   },
   "source": [
    "import pytest\n",
    "\n",
    "from kedro.io import DataCatalog, MemoryDataSet\n",
    "\n",
    "@pytest.fixture(scope=\"module\")\n",
    "def project_id():\n",
    "    return \"<PROJECT_GCP>\"\n",
    "\n",
    "@pytest.fixture(scope=\"module\")\n",
    "def primary_folder():\n",
    "    return \"<NOM_DU_BUCKET>/primary/data-test.csv\"\n",
    "\n",
    "@pytest.fixture(scope=\"module\")\n",
    "def catalog_test(project_id, primary_folder):\n",
    "    catalog = DataCatalog({\n",
    "        \"params:gcp_project_id\": MemoryDataSet(project_id),\n",
    "        \"params:gcs_primary_folder\": MemoryDataSet(primary_folder)\n",
    "    })\n",
    "    return catalog"
   ]
  },
  {
   "cell_type": "markdown",
   "metadata": {},
   "source": [
    "Cette fonction retourne un `DataCatalog` qui sera envoyé en entrée au pipeline.\n",
    "\n",
    "<div class=\"alert alert-block alert-warning\">\n",
    "    Il faut respecter les noms des variables spécifiés dans le pipeline. \n",
    "</div>\n",
    "\n",
    "Pour rappel, le pipeline `loading` était défini de la manière suivante."
   ]
  },
  {
   "cell_type": "raw",
   "metadata": {
    "format": "python"
   },
   "source": [
    "def create_pipeline(**kwargs):\n",
    "    return Pipeline(\n",
    "        [\n",
    "            node(\n",
    "                load_csv_from_bucket,\n",
    "                [\"params:gcp_project_id\", \"params:gcs_primary_folder\"],\n",
    "                \"primary\",\n",
    "            )\n",
    "        ]\n",
    "    )"
   ]
  },
  {
   "cell_type": "markdown",
   "metadata": {},
   "source": [
    "Là-aussi, `pytest` remplacera `catalog_test` par la fixture associée et permettra d'initialiser correctement l'environnement de test."
   ]
  },
  {
   "cell_type": "raw",
   "metadata": {
    "format": "bash"
   },
   "source": [
    "kedro test"
   ]
  },
  {
   "cell_type": "raw",
   "metadata": {
    "format": "console"
   },
   "source": [
    "========================= test session starts =========================\n",
    "platform linux -- Python 3.8.5, pytest-6.1.2, py-1.10.0, pluggy-0.13.1\n",
    "rootdir: /home/jovyan/purchase_predict, configfile: pyproject.toml\n",
    "plugins: mock-1.13.0, cov-2.11.0\n",
    "collected 2 items                                                                                                 \n",
    "\n",
    "src/tests/test_run.py .                          [ 33%]\n",
    "src/tests/pipelines/loading/test_nodes.py .      [ 66%]\n",
    "src/tests/pipelines/loading/test_pipeline.py .   [100%]\n",
    "\n",
    "========================== 3 passed in 2.17s =========================="
   ]
  },
  {
   "cell_type": "markdown",
   "metadata": {},
   "source": [
    "Le pipeline a été exécuté sans problème. Nous pouvons là-aussi rédiger des tests pour le pipeline, qui en soit seront quasi-identiques à ceux du node car ce pipeline ne contient qu'un seul node et ce dernier n'appelle pas d'autres fonctions."
   ]
  },
  {
   "cell_type": "raw",
   "metadata": {
    "format": "python"
   },
   "source": [
    "def test_pipeline(catalog_test):\n",
    "    runner = SequentialRunner()\n",
    "    pipeline = create_pipeline()\n",
    "    pipeline_output = runner.run(pipeline, catalog_test)\n",
    "    df = pipeline_output[\"primary\"]\n",
    "    assert type(df) == pd.DataFrame\n",
    "    assert df.shape[1] == 16\n",
    "    assert \"purchased\" in df"
   ]
  },
  {
   "cell_type": "markdown",
   "metadata": {
    "type": "ending"
   },
   "source": [
    "## ✔️ Conclusion\n",
    "\n",
    "Peut-être il s'agit de ton premier test unitaire avec Python : dans tous les cas, tu sais maintenant en écrire, et c'est une très bonne pratique !\n",
    "\n",
    "- Nous avons vu pourquoi les tests logiciels étaient indispensables.\n",
    "- Nous avons rédigé plusieurs tests unitaires pour le pipeline de collecte des données.\n",
    "\n",
    "> ➡️ Il nous reste maintenant à définir et rédiger les <b>tests sur le modèle de Machine Learning</b>."
   ]
  }
 ],
 "metadata": {
  "celltoolbar": "Éditer les Méta-Données",
  "kernelspec": {
   "display_name": "Python 3",
   "language": "python",
   "name": "python3"
  },
  "language_info": {
   "codemirror_mode": {
    "name": "ipython",
    "version": 3
   },
   "file_extension": ".py",
   "mimetype": "text/x-python",
   "name": "python",
   "nbconvert_exporter": "python",
   "pygments_lexer": "ipython3",
   "version": "3.8.0"
  }
 },
 "nbformat": 4,
 "nbformat_minor": 4
}
