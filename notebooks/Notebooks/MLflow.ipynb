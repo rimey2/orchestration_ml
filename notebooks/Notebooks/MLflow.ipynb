{
 "cells": [
  {
   "cell_type": "markdown",
   "metadata": {
    "type": "intro"
   },
   "source": [
    "**MLflow** est une plateforme open source qui permet de gérer le cycle de vie des modèles de Machine Learning. En particulier, grâce à MLflow, les modèles qui ont été entraînés à une date spécifique ainsi que les hyper-paramètres associés pourront être stockés, monitorés et ré-utilisés de manière efficace.\n",
    "\n",
    "<img src=\"https://dv495y1g0kef5.cloudfront.net/training/data_engineer_uber/img/mlflow.png\" width=\"300\" />\n",
    "\n",
    "<blockquote><p>🙋 <b>Ce que nous allons faire</b></p>\n",
    "<ul>\n",
    "    <li>Découvrir les concepts importants de MLflow</li>\n",
    "    <li>Tracker et monitorer des modèles en local</li>\n",
    "    <li>Installer MLflow sur un serveur et envoyer les modèles sur le serveur</li>\n",
    "</ul>\n",
    "</blockquote>"
   ]
  },
  {
   "cell_type": "markdown",
   "metadata": {},
   "source": [
    "## Concepts de MLflow\n",
    "\n",
    "Rappelons-nous du workflow en Machine Learning : la première étape de collecte des données et suivie d'une étape de transformation des données, puis de la modélisation pour maximiser une métrique de performance qui jugera de la qualité de l'algorithme employé. Être productif avec du Machine Learning n'est pas de tout repos pour les raisons suivantes.\n",
    "\n",
    "- **Il est difficile de garder un trace des précédentes expériences**. Une chose à laquelle beaucoup de Data Scientists font face, c'est de faire une série d'expériences en modifiant algorithmes et paramètres, mais qui peut s'avérer contre-productif si l'on ne dispose pas de l'historique des modèles et de leurs performances. Bien que Kedro puisse tendre vers cette pratique, il ne permet pas de le faire entièrement à lui tout seul.\n",
    "- **Il est difficile de reproduire le code**. Dans les projets Data Science, une multitude de fonctions permettent d'arriver à un résultat bien précis : le changement de quelques lignes de code peut grandement affecter le modèle et ses performances.\n",
    "- **Il n'y a aucun standard sur le packaging et le déploiement de modèles**. Chaque équipe possède son approche pour déployer les modèles, et ce sont souvent les grandes équipes avec de l'expérience qui peuvent se le permettre.\n",
    "- **Il n'y a aucun point central pour gérer les modèles**. En pratique, la solution naïve consiste à sauvegarder les paramètres dans des fichiers sur le même serveur hébergeant l'algorithme, en stockage local avec Kedro.\n",
    "\n",
    "MLflow cherche à améliorer la productivité en offrant la possibilité de ré-entraîner, ré-utiliser et déployer des modèles en agissant sur un point central (plateforme MLflow) où tout l'historique du modèle sera conservé.\n",
    "\n",
    "Tout d'abord, MLflow est *language-agnostic*, c'est-à-dire que les modèles peuvent être codés en Python, R, Java ou encore C++ et envoyés sur MLflow. Ensuite, il n'y a aucun pré-requis concernant la librairie de Machine Learning : que vous soyez adeptes de `scikit-learn` ou de `tensorflow`, tout sera compatible.\n",
    "\n",
    "Quatre composants résident sous MLflow.\n",
    "\n",
    "- **MLflow Tracking** est l'API et l'interface utilisateur pour logger les hyper-paramètres, le versioning de code et les *artifacts* (paramètres du modèle, fichier de poids, ...).\n",
    "- **MLflow Projects** est un format standard pour package un code source et le ré-utiliser dans plusieurs projets.\n",
    "- **MLflow Models** est un format de packaging pour les modèles de Machine Learning.\n",
    "- **MLflow Registry** est le registre de modèle (comme un git de modèles) qui permet de s'assurer que les modèles respectent certaines contraintes.\n",
    "\n",
    "Hormis le composant *Projects*, qui est remplacé par l'utilisation de Kedro, nous utiliserons tous les composants de MLflow pour gérer efficacement le cycle de vie des modèles.\n",
    "\n",
    "Pour installer MLflow en local, il suffit juste d'exécuter `pip install mlflow` dans le terminal (déjà installé dans l'environnement Blent)."
   ]
  },
  {
   "cell_type": "code",
   "execution_count": null,
   "metadata": {
    "id": "fc3a1f4589b82456"
   },
   "outputs": [],
   "source": [
    "import os\n",
    "import numpy as np\n",
    "import pandas as pd\n",
    "import matplotlib.pyplot as plt\n",
    "import matplotlib.ticker as mtick\n",
    "import seaborn as sns\n",
    "\n",
    "import mlflow\n",
    "import mlflow.sklearn # Wrapper pour scikit-learn\n",
    "\n",
    "from lightgbm.sklearn import LGBMClassifier\n",
    "from sklearn.metrics import f1_score, PrecisionRecallDisplay, precision_recall_curve, plot_precision_recall_curve\n",
    "\n",
    "X_train = pd.read_csv(os.path.expanduser(\"~/data/X_train.csv\"))\n",
    "X_test = pd.read_csv(os.path.expanduser(\"~/data/X_test.csv\"))\n",
    "y_train = pd.read_csv(os.path.expanduser(\"~/data/y_train.csv\")).values.flatten()\n",
    "y_test = pd.read_csv(os.path.expanduser(\"~/data/y_test.csv\")).values.flatten()"
   ]
  },
  {
   "cell_type": "code",
   "execution_count": null,
   "metadata": {
    "id": "3aab245b0cd2f94b"
   },
   "outputs": [],
   "source": [
    "# Hyper-paramètres des modèles\n",
    "hyp_params = {\n",
    "    \"num_leaves\": 60,\n",
    "    \"min_child_samples\": 10,\n",
    "    \"max_depth\": 12,\n",
    "    \"n_estimators\": 100,\n",
    "    \"learning_rate\": 0.1\n",
    "}"
   ]
  },
  {
   "cell_type": "markdown",
   "metadata": {},
   "source": [
    "Nous allons ensuite lancer un *experiment* sous MLflow. Pour cela, créons une nouvelle expérience que l'on nommera `purchase_predict`."
   ]
  },
  {
   "cell_type": "code",
   "execution_count": null,
   "metadata": {
    "id": "784caa07be54e053"
   },
   "outputs": [],
   "source": [
    "# Identification de l'interface MLflow\n",
    "mlflow.set_tracking_uri(\"file://\" + os.path.expanduser('~/mlruns'))\n",
    "\n",
    "mlflow.set_experiment(\"purchase_predict\")\n",
    "\n",
    "with mlflow.start_run() as run:\n",
    "    model = LGBMClassifier(**hyp_params, objective=\"binary\", verbose=-1)\n",
    "    model.fit(X_train, y_train)\n",
    "\n",
    "    # On calcule le score du modèle sur le test\n",
    "    score = f1_score(y_test, model.predict(X_test))\n",
    "    \n",
    "    mlflow.log_params(hyp_params)\n",
    "    mlflow.log_metric(\"f1\", score)\n",
    "    \n",
    "    print(mlflow.get_artifact_uri())\n",
    "    mlflow.sklearn.log_model(model, \"model\")"
   ]
  },
  {
   "cell_type": "markdown",
   "metadata": {},
   "source": [
    "En exécutant ce code, nous avons déclencé un **run** avec `mlflow.start_run()`. L'intérêt d'utiliser `with` est qu'en sortant de l'indentation, le run MLflow sera automatiquement terminé. Nous allons envoyer plusieurs informations vers MLflow.\n",
    "\n",
    "- Les hyper-paramètres du modèle avec `log_params`.\n",
    "- La ou les métriques obtenues sur un échantillon avec `log_metric`.\n",
    "- Le modèle au format de `scikit-learn` avec `log_model`.\n",
    "\n",
    "En <a href=\"https://jupyterhub-multiplex.blent.ai/user-redirect/MLflow/\" target=\"_blank\">visualisant l'interface web MLflow</a>, nous voyons le modèle apparaître avec les informations associées.\n",
    "\n",
    "<img src=\"https://blent-learning-user-ressources.s3.eu-west-3.amazonaws.com/training/ml_engineer_facebook/img/mlflow1.png\" />\n",
    "\n",
    "En cliquant sur la date d'exécution, nous avons accès à plus de détails ainsi qu'aux fichiers stockés (ici le modèle), que l'on appelle des **artifacts**.\n",
    "\n",
    "<img src=\"https://blent-learning-user-ressources.s3.eu-west-3.amazonaws.com/training/ml_engineer_facebook/img/mlflow2.png\" />\n",
    "\n",
    "À noter qu'il est également possible de récupérer l'historique des modèles entraînés."
   ]
  },
  {
   "cell_type": "code",
   "execution_count": null,
   "metadata": {
    "id": "85a323fe1352ddcb"
   },
   "outputs": [],
   "source": [
    "from mlflow.tracking import MlflowClient\n",
    "\n",
    "client = MlflowClient(\n",
    "    tracking_uri=\"file://\" + os.path.expanduser('~/mlruns')\n",
    ")\n",
    "\n",
    "client.get_metric_history(run.info.run_id, key='f1')"
   ]
  },
  {
   "cell_type": "markdown",
   "metadata": {},
   "source": [
    "Pour utiliser efficacement MLflow, il faut architecturer le code source afin qu'il soit ré-utilisable et facilement manipulable par les Data Scientists."
   ]
  },
  {
   "cell_type": "code",
   "execution_count": null,
   "metadata": {
    "id": "5a2f89560c034769"
   },
   "outputs": [],
   "source": [
    "def save_pr_curve(X, y, model):\n",
    "    plt.figure(figsize=(16,11))\n",
    "    prec, recall, _ = precision_recall_curve(y, model.predict_proba(X)[:,1], pos_label=1)\n",
    "    pr_display = PrecisionRecallDisplay(precision=prec, recall=recall).plot(ax=plt.gca())\n",
    "    plt.title(\"PR Curve\", fontsize=16)\n",
    "    plt.gca().xaxis.set_major_formatter(mtick.PercentFormatter(1, 0))\n",
    "    plt.gca().yaxis.set_major_formatter(mtick.PercentFormatter(1, 0))\n",
    "    plt.savefig(os.path.expanduser(\"~/data/pr_curve.png\"))\n",
    "    plt.close()\n",
    "\n",
    "def train_model(params):\n",
    "    \n",
    "    with mlflow.start_run() as run:\n",
    "        model = LGBMClassifier(**params, objective=\"binary\", verbose=-1)\n",
    "        model.fit(X_train, y_train)\n",
    "\n",
    "        score = f1_score(y_test, model.predict(X_test))\n",
    "        save_pr_curve(X_test, y_test, model)\n",
    "\n",
    "        mlflow.log_params(hyp_params)\n",
    "        mlflow.log_metric(\"f1\", score)\n",
    "        mlflow.log_artifact(os.path.expanduser(\"~/data/pr_curve.png\"), artifact_path=\"plots\")\n",
    "        mlflow.sklearn.log_model(model, \"model\")"
   ]
  },
  {
   "cell_type": "markdown",
   "metadata": {},
   "source": [
    "À chaque appel de la fonction `train_model`, une instance du modèle est entraînée sur la base d'entraînement avec des hyper-paramètres spécifiques. La fonction `save_pr_curve` développée permet d'enregistrer le graphique de la courbe PR dans un fichier. Cela permet notamment d'envoyer les graphiques à MLflow sous forme d'artifacts.\n",
    "\n",
    "Chaque appel de la fonction `train_model` va donc entraîner un modèle LightGBM, en calculer des métriques, des graphiques et envoyer le résultats sous forme de run sur MLflow."
   ]
  },
  {
   "cell_type": "code",
   "execution_count": null,
   "metadata": {
    "id": "a1feb58acdece926"
   },
   "outputs": [],
   "source": [
    "train_model({**hyp_params, **{'n_estimators': 200, 'learning_rate': 0.05}})\n",
    "train_model({**hyp_params, **{'n_estimators': 500, 'learning_rate': 0.025}})\n",
    "train_model({**hyp_params, **{'n_estimators': 1000, 'learning_rate': 0.01}})"
   ]
  },
  {
   "cell_type": "markdown",
   "metadata": {},
   "source": [
    "Après exécution, les trois runs sont bien présents.\n",
    "\n",
    "<img src=\"https://blent-learning-user-ressources.s3.eu-west-3.amazonaws.com/training/ml_engineer_facebook/img/mlflow3.png\" />\n",
    "\n",
    "Là-aussi, en explorant un run en particulier, nous pouvons voir apparaître le graphique dans l'explorateur de fichiers.\n",
    "\n",
    "<img src=\"https://blent-learning-user-ressources.s3.eu-west-3.amazonaws.com/training/ml_engineer_facebook/img/mlflow4.png\" />"
   ]
  },
  {
   "cell_type": "markdown",
   "metadata": {
    "break": "new"
   },
   "source": [
    "## Installation sur un serveur\n",
    "\n",
    "Pour être pleinement exploité, MLflow **doit être installé sur un serveur** : en plus de pouvoir collaborer à plusieurs, cela permettra de l'intégrer dans un écosystème avec un système de stockage de fichiers et de processus automatisés.\n",
    "\n",
    "Lançons une VM avec Debian 10 avec une instance de type `g1-small`."
   ]
  },
  {
   "cell_type": "raw",
   "metadata": {
    "format": "bash"
   },
   "source": [
    "sudo apt update && sudo apt install python3-pip -y\n",
    "sudo pip3 install mlflow google-cloud-storage"
   ]
  },
  {
   "cell_type": "markdown",
   "metadata": {},
   "source": [
    "Par défaut, les artifacts sont stockés dans le système local où est exécuté le code Python : MLflow ne peut donc pas recevoir et afficher ces artifacts. Il est donc nécessaire de configurer un bucket dans lequel MLflow pourra stocker et retrouver les artifacts que l'on enverra.\n",
    "\n",
    "Par défaut, MLflow étant installé sur une VM dans notre projet Google Cloud, les autorisations sont déjà présentes sur la machine, permettant à MLflow de lire des fichiers depuis le bucket. En revanche, il est nécessaire de définir les autorisations pour les applications qui vont envoyer ou récupérer des modèles vers MLflow. Pour des raisons de sécurité, nous allons ajouter un compte de service qui aura un rôle de lecture et écriture sur ce bucket uniquement.\n",
    "\n",
    "Rajoutons un compte de service qui aura les deux rôles suivants : **Créateur des objets de l'espace de stockage** et **Lecteur des objets de l'espace de stockage**. Pour terminer, nous allons créer une clé et conserver en lieu sûr le fichier JSON.\n",
    "\n",
    "<img src=\"https://blent-learning-user-ressources.s3.eu-west-3.amazonaws.com/training/ml_engineer_facebook/img/mlflow5.png\" />\n",
    "\n",
    "Pour s'assurer de la bonne exécution de MLflow, il est préférable de créer un `systemd` plutôt que de lancer MLflow en arrière plan depuis le terminal."
   ]
  },
  {
   "cell_type": "raw",
   "metadata": {
    "format": "bash"
   },
   "source": [
    "sudo nano /etc/systemd/system/mlflow.service"
   ]
  },
  {
   "cell_type": "markdown",
   "metadata": {},
   "source": [
    "<div class=\"alert alert-block alert-warning\">\n",
    "    Il faut penser à modifier le nom du bucket <code>gs://blent-formation-ml-engineer-data/mlflow</code>.\n",
    "</div> "
   ]
  },
  {
   "cell_type": "raw",
   "metadata": {
    "format": "systemd"
   },
   "source": [
    "[Unit]\n",
    "Description=MLflow\n",
    "After=network.target \n",
    "\n",
    "[Service]\n",
    "Restart=on-failure\n",
    "RestartSec=30\n",
    "ExecStart=mlflow server --default-artifact-root gs://blent-formation-ml-engineer-data/mlflow --backend-store-uri sqlite:///mlflow.db --host 0.0.0.0 --port 80\n",
    "\n",
    "[Install]\n",
    "WantedBy=multi-user.target"
   ]
  },
  {
   "cell_type": "markdown",
   "metadata": {},
   "source": [
    "La dernière étape consiste à activer le service et à l'exécuter. Avec `daemon-reload`, nous activons le service MLflow."
   ]
  },
  {
   "cell_type": "raw",
   "metadata": {
    "format": "bash"
   },
   "source": [
    "sudo systemctl daemon-reload"
   ]
  },
  {
   "cell_type": "markdown",
   "metadata": {},
   "source": [
    "Toujours dans la gestion des services Cloud, il faut appréhender le cas d'un redémarrage de la VM et relancer automatiquement le service MLflow au démarrage."
   ]
  },
  {
   "cell_type": "raw",
   "metadata": {
    "format": "bash"
   },
   "source": [
    "sudo systemctl enable mlflow"
   ]
  },
  {
   "cell_type": "markdown",
   "metadata": {},
   "source": [
    "Puis on lance le service."
   ]
  },
  {
   "cell_type": "raw",
   "metadata": {
    "format": "bash"
   },
   "source": [
    "sudo systemctl start mlflow"
   ]
  },
  {
   "cell_type": "markdown",
   "metadata": {},
   "source": [
    "Maintenant, en visitant la page web à l'adresse IP externe de la VM, l'interface MLflow apparaît.\n",
    "\n",
    "Rajoutons la clé JSON que nous avons téléchargé."
   ]
  },
  {
   "cell_type": "code",
   "execution_count": null,
   "metadata": {
    "id": "ee0f6d2b16489e9f"
   },
   "outputs": [],
   "source": [
    "%%writefile ~/data/mlflow-key.json\n",
    "# TODO : Coller ici le contenu de la clé JSON"
   ]
  },
  {
   "cell_type": "markdown",
   "metadata": {},
   "source": [
    "Pour spécifier vers quel serveur nous allons envoyer les artifacts et le modèle, il faut spécifier le nom de domaine ou l'adresse IP avec `set_tracking_uri`."
   ]
  },
  {
   "cell_type": "code",
   "execution_count": null,
   "metadata": {
    "id": "0b9905a124a5b28c"
   },
   "outputs": [],
   "source": [
    "import os\n",
    "from google.cloud import storage\n",
    "\n",
    "# Authentification à Google Cloud avec la clé correspondant au compte de service MLflow\n",
    "os.environ['GOOGLE_APPLICATION_CREDENTIALS'] = os.path.expanduser(\"~/data/mlflow-key.json\")\n",
    "\n",
    "# Nouvel URI de l'interface MLflow\n",
    "mlflow.set_tracking_uri(\"http://34.107.0.37\")\n",
    "client = storage.Client()"
   ]
  },
  {
   "cell_type": "markdown",
   "metadata": {},
   "source": [
    "Créons une nouvelle expérience sur le serveur MLflow et exécutons un *run*."
   ]
  },
  {
   "cell_type": "code",
   "execution_count": null,
   "metadata": {
    "id": "d33b4c9ec39f2899"
   },
   "outputs": [],
   "source": [
    "mlflow.set_experiment(\"purchase_predict\")\n",
    "\n",
    "def train_model(params):\n",
    "    \n",
    "    with mlflow.start_run() as run:\n",
    "        model = LGBMClassifier(**params, objective=\"binary\", verbose=-1)\n",
    "        model.fit(X_train, y_train)\n",
    "\n",
    "        score = f1_score(y_test, model.predict(X_test))\n",
    "        save_pr_curve(X_test, y_test, model)\n",
    "\n",
    "        mlflow.log_params(hyp_params)\n",
    "        mlflow.log_metric(\"f1\", score)\n",
    "        mlflow.log_artifact(os.path.expanduser(\"~/data/pr_curve.png\"), artifact_path=\"plots\")\n",
    "        mlflow.sklearn.log_model(model, \"model\")"
   ]
  },
  {
   "cell_type": "markdown",
   "metadata": {},
   "source": [
    "Dorénavant, toutes les exécutions seront envoyés sur le serveur contenant MLflow et les artifacts stockés dans le bucket associé."
   ]
  },
  {
   "cell_type": "code",
   "execution_count": null,
   "metadata": {
    "id": "c48122a1d10114dd"
   },
   "outputs": [],
   "source": [
    "train_model({**hyp_params, **{'n_estimators': 200, 'learning_rate': 0.05}})"
   ]
  },
  {
   "cell_type": "markdown",
   "metadata": {},
   "source": [
    "Et voilà ! L'interface MLflow devrait à présent afficher le modèle stocké sur Google Storage."
   ]
  },
  {
   "cell_type": "markdown",
   "metadata": {
    "type": "ending"
   },
   "source": [
    "## ✔️ Conclusion\n",
    "\n",
    "Nous pouvons désormais tracker les modèles de Machine Learning avec MLflow.\n",
    "\n",
    "- Nous avons utilisé MLflow en local pour tracker les modèles.\n",
    "- Nous avons installé MLflow sur un serveur en stockant les artifacts sur un Cloud Storage.\n",
    "\n",
    "> ➡️ Maintenant que nous avons notre modèle de Machine Learning et un versioning de modèle, nous pouvons mettre en place une API pour exposer le modèle."
   ]
  }
 ],
 "metadata": {
  "celltoolbar": "Éditer les Méta-Données",
  "kernelspec": {
   "display_name": "Python 3 (ipykernel)",
   "language": "python",
   "name": "python3"
  },
  "language_info": {
   "codemirror_mode": {
    "name": "ipython",
    "version": 3
   },
   "file_extension": ".py",
   "mimetype": "text/x-python",
   "name": "python",
   "nbconvert_exporter": "python",
   "pygments_lexer": "ipython3",
   "version": "3.8.10"
  }
 },
 "nbformat": 4,
 "nbformat_minor": 4
}
