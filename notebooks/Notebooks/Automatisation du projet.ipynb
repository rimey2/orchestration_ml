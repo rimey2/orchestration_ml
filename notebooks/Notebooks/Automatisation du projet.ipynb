{
 "cells": [
  {
   "cell_type": "markdown",
   "metadata": {
    "id": "f72a0740203eb530"
   },
   "source": [
    "Comme nous avons pu le voir, Apache Airflow est un outil très puissant pour automatiser des workflows. Il permet aussi bien d'automatiser des pipelines ETL que des séquences d'entrainement de modèles. De plus, son intégration avec différentes applications et services (donc ceux de Google Cloud) le rendent très opérationnel.\n",
    "\n",
    "<blockquote><p>🙋 <b>Ce que nous allons faire</b></p>\n",
    "<ul>\n",
    "    <li>Utiliser les opérateurs Google Cloud présents sur Apache Airflow</li>\n",
    "    <li>Déclencher le pipeline ML sur Airflow dans les deux environnements</li>\n",
    "</ul>\n",
    "</blockquote>\n",
    "\n",
    "<img src=\"https://media.giphy.com/media/7zYmz8wSLMIV7qpgSU/giphy.gif\" />"
   ]
  },
  {
   "cell_type": "markdown",
   "metadata": {},
   "source": [
    "## La dérive de modèle\n",
    "\n",
    "Airflow va être très utile pour contrer un phénomène très présent dans les environnements de production : la **dérive de modèle** (ou *model drift*). Il y a en réalité deux types de dérives qui peuvent survenir.\n",
    "\n",
    "- La **dérive conceptuelle** : dans ce cas de figure, les propriétés statistiques de la variables réponse évoluent. C'est le cas par exemple où l'on considère que la variable réponse n'a plus la même signification au cours du temps. Un exemple classique est la notion de spam sur les réseaux sociaux : au tout début, les spams considérés étaient uniquement les messages comportant des caractères aléatoires. En avançant dans le temps, les spams ont englobés de plus en plus de cas, et plus seulement des messages aléatoires. Puisqu'il y a une **redéfinition de la variable réponse**, le modèle est, en soit, toujours cohérent dans ses prédictions, mais dans notre fait, ses prédictions n'ont plus la même valeur par rapport au problème posé.\n",
    "- La **dérive des données** : à l'inverse, c'est lorsque les propriétés statistiques de l'estimateur/modèle évoluent. Automatiquement, le modèle n'est donc plus en phase avec le phénomène sous-jacent. Cela est d'autant plus fort qu'il y a une composante temporelle. Prenons par exemple un modèle qui cherche à prédire la durée de trajet dans une ville à forte densité (Paris, Lyon, etc). Au moins d'août, il y a par exemple beaucoup moins de circulation qu'en février. Un modèle, qui se serait entraîné sur quelques mois d'historique, ne fournirait pas des prédictions satisfaisantes en plein été. Cela est du au fait que la durée d'un trajet dépend de la circulation, qui elle-même dépend (en partie) du moment de l'année. Il serait donc indispensable de mettre à jour le modèle avec des données « plus fraîches ».\n",
    "\n",
    "La méthode la plus efficace pour corriger ces deux dérives est d'entraîner le modèle régulièrement avec des données récentes.\n",
    "\n",
    "> ❓ Est-ce que cela veut dire que l'on oublie les données plus ancienne ?\n",
    "\n",
    "Pas forcément. Pour notre exemple de prédiction de comportement utilisateur, on souhaite bien évidemment avoir l'information des comportements récents, car cela reflète le plus fidèlement possible les utilisateurs. Des comportements d'il y a deux mois ou depuis Noël ne sont pas forcément pertinent à l'heure actuelle.\n",
    "\n",
    "Dans d'autres situations, néanmoins, il est toujours utile de garder une *mémoire* des données plus anciennes. On retrouve alors des situations où l'on pondérise les données en fonction de leur ancienneté, de sorte à conserver des données anciennes sans pour autant leur donner la même importance que les données plus récentes.\n",
    "\n",
    "Maintenant que nous avons la solution, une question fatidique se pose.\n",
    "\n",
    "> ❓ À quelle fréquence doit-on rafraîchir le modèle ?\n",
    "\n",
    "Et forcément, il n'y a pas de réponse toute faite. 😅\n",
    "En principe, c'est bien entendu le domaine d'application et le cas d'usage qui va définir cette fréquence de rafraîchissement. Dans notre exemple de ECommerce, on souhaite avoir un comportement utilisateur assez récent, sans pour autant prendre trop ancien : si l'on considérait un rafraîchissement tous les deux mois, les événements particuliers comme Noël seront absorbés par tous les autres événements. En ne prenant que quelques jours (2 ou 3), on ne prends plus en compte le cycle hebdomaire semaine/week-end, qui peut potentiellement influencer le comportement des utilisateurs.\n",
    "\n",
    "Le plus adapté serait donc de considérer une fréquence de rafraîchissement de 1 à 2 semaines."
   ]
  },
  {
   "cell_type": "markdown",
   "metadata": {},
   "source": [
    "## Automatisation sur Airflow\n",
    "\n",
    "Rappelons-nous de l'automatisation déjà mise en place dans notre infrastructure. D'une part, le pipeline de pré-production, exécuté à chaque mise à jour d'un code sur un des dépôts (du modèle ou de l'API). Le pipeline de pré-production est la succession du pipeline CI/CD construit pour entraîner le modèle et l'envoyer vers MLflow, avec le pipeline qui va automatiquement déployer une image Docker de l'API sur Cloud Run.\n",
    "\n",
    "<img src=\"https://blent-learning-user-ressources.s3.eu-west-3.amazonaws.com/training/ml_engineer_facebook/img/pipeline_preprod.png\" />\n",
    "\n",
    "De manière quasi-symmétrique, nous avons également le pipeline de production\n",
    "\n",
    "<img src=\"https://blent-learning-user-ressources.s3.eu-west-3.amazonaws.com/training/ml_engineer_facebook/img/pipeline_prod1.png\" />\n",
    "\n",
    "Les petites différences résident dans les branches considérées (`staging` ou `master`) des projets Git, ainsi que sur la plateforme cible qui est Cloud Run dans l'environnement de pré-production et Kubernetes dans l'environnement de production.\n",
    "\n",
    "Le principal avantage de nos deux pipelines, c'est que mis à part les déclenchements qui sont manuels lors d'un push sur Git, toutes les autres étapes sont réalisés automatiquement. En d'autres termes, il n'y a **pas besoin de ré-écrire toutes les étapes** : il nous suffirait de déclencher automatiquement le build sur Cloud Build pour que les pipelines soient ensuite exécuté en intégralité de manière automatisée.\n",
    "\n",
    "Et c'est justement notre intérêt ici : à l'aide d'Airflow, nous allons simplement déclencher le build qui va construire le modèle (`purchase-predict`). Avec les pipelines CI/CD que nous avons déjà configuré, le modèle sera ensuite envoyé sur Airflow puis l'API, à son tour, sera conteneurisée pour être ensuite déployée vers la plateforme cible associée. Nous avons donc uniquement besoin de déclencher un build via Airflow pour lancer toute la séquence de manière automatisée.\n",
    "\n",
    "> ❓ Mais les données, elles, ne changent pas ?\n",
    "\n",
    "Et oui ! Rappelons-nous que les données les plus à jour sont stockées sur une table BigQuery !\n",
    "\n",
    "<img src=\"https://blent-learning-user-ressources.s3.eu-west-3.amazonaws.com/training/ml_engineer_facebook/img/bigquery_10.jpg\" />\n",
    "\n",
    "La seule hypothèse que nous avons ici est que les données arrivent *en continu* sur cette table par d'autres applications. Sauf que cette table ne contient pas les données « prêtes à l'emploi ». Si l'on se rappelle bien, nous avions réalisé un script Spark qui allait justement faire tout le travail de transformation de données pour ensuite créer les fichiers CSV dans le bucket.\n",
    "\n",
    "<img src=\"https://blent-learning-user-ressources.s3.eu-west-3.amazonaws.com/training/ml_engineer_facebook/img/dataproc_spark2.png\" />\n",
    "\n",
    "Ces fichiers CSV qui sont ensuite lus par Kedro dans le pipeline `loading` sur le projet `purchase-predict`, et la suite que nous connaissons très bien. 😉\n",
    "\n",
    "Il nous faut donc, avant de déclencher le build, exécuter la tâche Spark qui va récupérer les données depuis la table BigQuery avec une intervalle de dates spécifié pour ensuite transformer les données et exporter le tout sur un bucket. Ainsi, Airflow devra au préalable exécuter la tâche PySpark dans un cluster Dataproc avant de déclencher le build, que nous pouvons résumer dans le schéma suivant.\n",
    "\n",
    "<img src=\"https://blent-learning-user-ressources.s3.eu-west-3.amazonaws.com/training/ml_engineer_facebook/img/airflow_pipelines1.png\" />"
   ]
  },
  {
   "cell_type": "markdown",
   "metadata": {},
   "source": [
    "## Construction du DAG\n",
    "\n",
    "Pour l'instant, intéressons-nous uniquement au DAG qui va déclencher le pipeline ML dans l'environnement de pré-production. Nous pouvons décomposer notre DAG de manière successive.\n",
    "\n",
    "- Création d'un cluster Dataproc.\n",
    "- Une fois le cluster crée, on envoie la tâche PySpark avec les arguments de temporalité.\n",
    "- On détruit le cluster, et en parallèle, on exécute le build.\n",
    "\n",
    "Comme mentionné plus haut, Airflow dispose <a href=\"https://airflow.apache.org/docs/apache-airflow-providers-google/stable/operators/cloud/dataproc.html\" target=\"_blank\">d'opérateurs Dataproc</a> pour créer, supprimer des clusters Dataproc ou encore envoyer des tâches. Pour cela, nous devons installer les dépendances supplémentaires Google Cloud sous Airflow."
   ]
  },
  {
   "cell_type": "raw",
   "metadata": {
    "format": "bash"
   },
   "source": [
    "pip install apache-airflow-providers-google==5.0.0"
   ]
  },
  {
   "cell_type": "markdown",
   "metadata": {},
   "source": [
    "<div class=\"alert alert-block alert-info\">\n",
    "    La référence de tous les opérateurs et hooks est <a href=\"https://airflow.apache.org/docs/apache-airflow-providers/operators-and-hooks-ref/index.html\" target=\"_blank\">disponible ici</a>.\n",
    "</div>\n",
    "\n",
    "Commençons par construire un premier DAG `pipeline_ml_staging` avec seulement deux tâches : une pour créer un cluster Dataproc, et une autre pour le supprimer."
   ]
  },
  {
   "cell_type": "raw",
   "metadata": {
    "format": "python"
   },
   "source": [
    "import os\n",
    "\n",
    "from airflow import DAG\n",
    "from airflow.models import Variable\n",
    "from airflow.utils.dates import days_ago\n",
    "from datetime import timedelta\n",
    "from google.protobuf.duration_pb2 import Duration\n",
    "\n",
    "from airflow.utils import trigger_rule\n",
    "from airflow.providers.google.cloud.operators.dataproc import (\n",
    "    DataprocCreateClusterOperator,\n",
    "    DataprocDeleteClusterOperator\n",
    ")\n",
    "\n",
    "DAG_NAME = os.path.basename(__file__).replace(\".py\", \"\")\n",
    "BUCKET = \"blent-formation-ml-engineer-data\"\n",
    "CLUSTER_NAME_TEMPLATE = \"purchase-predict-cluster-staging-\"\n",
    "CLUSTER_CONFIG = {\n",
    "    \"software_config\": {\n",
    "        \"image_version\": \"2.0-debian10\"\n",
    "    },\n",
    "    \"master_config\": {\n",
    "        \"num_instances\": 1,\n",
    "        \"machine_type_uri\": \"n1-standard-4\",\n",
    "        \"disk_config\": {\"boot_disk_type\": \"pd-standard\", \"boot_disk_size_gb\": 1024},\n",
    "    },\n",
    "    \"worker_config\": {\n",
    "        \"num_instances\": 2,\n",
    "        \"machine_type_uri\": \"n1-standard-4\",\n",
    "        \"disk_config\": {\"boot_disk_type\": \"pd-standard\", \"boot_disk_size_gb\": 1024},\n",
    "    },\n",
    "    \"lifecycle_config\": {\n",
    "        \"idle_delete_ttl\": Duration(seconds=3600)\n",
    "    }\n",
    "}\n",
    "\n",
    "default_args = {\n",
    "    'owner': 'blent',\n",
    "    'start_date': days_ago(2),\n",
    "    'retries': 0,\n",
    "    'retry_delay': timedelta(minutes=10),\n",
    "    'project_id': Variable.get(\"PROJECT_ID\"),\n",
    "    'region': \"us-central1\"\n",
    "}"
   ]
  },
  {
   "cell_type": "markdown",
   "metadata": {},
   "source": [
    "Dans un premier temps, nous importons le module `dataproc_operator`, installé via `pip`, qui va nous permettre d'interagir avec le service Dataproc de Google Cloud.\n",
    "\n",
    "Nous définissons ensuite plusieurs variables.\n",
    "\n",
    "- `BUCKET`, qui est le nom du bucket où sont stockés les données, les fichiers de configuration, etc.\n",
    "- `CLUSTER_NAME_TEMPLATE`, qui est le modèle de nom qui sera attribué au cluster Dataproc que nous allons créer.\n",
    "- `CLUSTER_CONFIG` qui va contenir les informations du cluster qui sera crée.\n",
    "\n",
    "Notons dans le dictionnaire `default_args`, la présence des champs `project_id` et `region`. Ici, nous spécifions au DAG entier le nom du projet Google Cloud, qui sera ensuite hérité pour chaque tâche : nous n'aurons donc pas besoin de re-spécifier le nom du projet à chaque instanciation de tâche. Cette variable doit être présente en tant que variable sur Airflow.\n",
    "\n",
    "<img src=\"https://blent-learning-user-ressources.s3.eu-west-3.amazonaws.com/training/ml_engineer_facebook/img/airflow_pipelines2.png\" />\n",
    "\n",
    "Nous pouvons ensuite spécifier la clé de la variable ainsi que sa valeur.\n",
    "\n",
    "<img src=\"https://blent-learning-user-ressources.s3.eu-west-3.amazonaws.com/training/ml_engineer_facebook/img/airflow_pipelines3.png\" />\n",
    "\n",
    "Elle sera ensuite automatiquement ajoutée.\n",
    "\n",
    "<img src=\"https://blent-learning-user-ressources.s3.eu-west-3.amazonaws.com/training/ml_engineer_facebook/img/airflow_pipelines4.png\" />\n",
    "\n",
    "<div class=\"alert alert-block alert-info\">\n",
    "    Les variables seront <b>automatiquement cryptées</b> sur Airflow si elles contiennent le mot KEY ou SECRET.\n",
    "</div>\n",
    "\n",
    "Continuons ensuite la construction du DAG."
   ]
  },
  {
   "cell_type": "raw",
   "metadata": {
    "format": "python"
   },
   "source": [
    "with DAG(DAG_NAME, default_args=default_args, schedule_interval=\"0 5 * * 1\") as dag:\n",
    "\n",
    "    task_create_dataproc = DataprocCreateClusterOperator(\n",
    "        task_id='create_dataproc',\n",
    "        cluster_name=CLUSTER_NAME_TEMPLATE + \"{{ ds_nodash }}\",\n",
    "        region=\"us-central1\",  # Cela coûte moins cher en US central ;)\n",
    "        cluster_config=CLUSTER_CONFIG\n",
    "    )\n",
    "\n",
    "    task_delete_dataproc = DataprocDeleteClusterOperator(\n",
    "        task_id='delete_dataproc',\n",
    "        cluster_name=CLUSTER_NAME_TEMPLATE + \"{{ ds_nodash }}\",\n",
    "        trigger_rule=trigger_rule.TriggerRule.ALL_DONE,  # En cas d'erreur, on souhaite quand même supprimer le cluster\n",
    "    )\n",
    "\n",
    "    task_create_dataproc.set_downstream(task_delete_dataproc)"
   ]
  },
  {
   "cell_type": "markdown",
   "metadata": {},
   "source": [
    "La première tâche `task_create_dataproc` va démarrer un cluster Dataproc. Nous ré-utilisons le modèle de nom auquel nous collons la date d'exécution du DAG au format `YYYYMMDD` grâce à la macro `{{ ds_nodash }}`. Ensuite nous précision la version de l'image Dataproc (Spark 3.2), et nous choisissons ensuite 2 machines avec `worker_config` (depuis `CLUSTER_CONFIG`) de type `n1-standard-4` (pareil pour la machine qui gère le cluster `master_config`). Pour les versions gratuites de GCP, on sélectionnera plutôt `n1-standard-1` ou `n1-standard-2` pour éviter de dépasser les quotas imposés.\n",
    "\n",
    "Tout comme nous l'avions fait sur l'interface, le paramètre `idle_delete_ttl` fixé à 3600 indique que le cluster sera automatiquement détruit au bout de 1 heure (3600 secondes) si aucune tâche n'est en cours d'exécution.\n",
    "\n",
    "La seconde tâche `task_delete_dataproc` va simplement supprimer le cluster créer précédemment. Attention toutefois, nous spécifions la règle de déclenchement `all_done`, qui signifie que même si des tâches parentes n'ont pas pu être effectués, on supprimera quand même le cluster Dataproc pour éviter de consommer des crédits.\n",
    "\n",
    "Il ne reste plus qu'à tester nos tâches ... mais nous avons oublié l'authentification ! Heureusement, Airflow a pensé à tout et dispose de **connexions**.\n",
    "\n",
    "Les connexions (visibles dans la barre de navigation `Admin -> Connections`) permet d'établir des connexions sécurisés de manière globale sans à chaque fois re-définir dans le code les méthodes d'authentification. Cela permet donc de faciliter la maintenance.\n",
    "\n",
    "Éditons la connexion nommée `google_cloud_default` dans la liste des connexions.\n",
    "\n",
    "<div class=\"alert alert-block alert-warning\">\n",
    "    Pour que le type de connexion Google Cloud apparaisse, il faut redémarrer le <code>webserver</code> et le <code>scheduler</code>.\n",
    "</div>\n",
    "\n",
    "Pour cela, nous allons créer un nouveau <a href=\"https://console.cloud.google.com/iam-admin/serviceaccounts\" target=\"_blank\">compte de service</a> spécifique à Airflow avec les autorisations suivantes.\n",
    "\n",
    "- Administrateur Dataproc\n",
    "- Utilisateur du compte de service\n",
    "- Lecteur des objets de l'espace de stockage\n",
    "- Lecteur de dépôt source\n",
    "- Compte de service Cloud Build\n",
    "\n",
    "Ce dernier rôle nous sera utile pour exécuter Cloud Build à partir d'un fichier YAML présent sur le bucket. Créons une nouvelle clé JSON et insérons là dans Airflow (`Keyfile JSON`).\n",
    "\n",
    "<img src=\"https://blent-learning-user-ressources.s3.eu-west-3.amazonaws.com/training/ml_engineer_facebook/img/airflow_pipelines5.png\" />\n",
    "\n",
    "Maintenant que tout est configuré, nous devrions voir notre DAG apparaître avec les deux tâches.\n",
    "\n",
    "<img src=\"https://blent-learning-user-ressources.s3.eu-west-3.amazonaws.com/training/ml_engineer_facebook/img/airflow_pipelines6.png\" />\n",
    "\n",
    "Ouvrons dans un nouvel onglet <a href=\"https://console.cloud.google.com/dataproc/clusters\" target=\"_blank\">l'interface Dataproc</a> et essayons de tester notre première tâche."
   ]
  },
  {
   "cell_type": "raw",
   "metadata": {
    "format": "bash"
   },
   "source": [
    "airflow tasks test pipeline_ml_staging create_dataproc 2021-01-01"
   ]
  },
  {
   "cell_type": "markdown",
   "metadata": {},
   "source": [
    "Si tout est correctement configuré, nous pouvons voir le cluster apparaître dans la région `us-central1`.\n",
    "\n",
    "<img src=\"https://blent-learning-user-ressources.s3.eu-west-3.amazonaws.com/training/ml_engineer_facebook/img/airflow_pipelines7.png\" />\n",
    "\n",
    "Testons maintenant la tâche suivante pour supprimer le cluster."
   ]
  },
  {
   "cell_type": "raw",
   "metadata": {
    "format": "bash"
   },
   "source": [
    "airflow tasks test pipeline_ml_staging delete_dataproc 2021-01-01"
   ]
  },
  {
   "cell_type": "markdown",
   "metadata": {},
   "source": [
    "Essayons maintenant de glisser au milieu la tâche PySpark qui va transformer le jeu de données."
   ]
  },
  {
   "cell_type": "raw",
   "metadata": {
    "format": "python"
   },
   "source": [
    "from airflow.providers.google.cloud.operators.dataproc import (\n",
    "    DataprocCreateClusterOperator,\n",
    "    DataprocSubmitPySparkJobOperator,\n",
    "    DataprocDeleteClusterOperator\n",
    ")\n",
    "\n",
    "# ...\n",
    "\n",
    "with DAG(DAG_NAME, default_args=default_args, schedule_interval=\"0 5 * * 1\") as dag:\n",
    "\n",
    "    # ...\n",
    "\n",
    "    task_job = DataprocSubmitPySparkJobOperator(\n",
    "        task_id=\"submit_job\",\n",
    "        job_name=\"query_user_events\",\n",
    "        cluster_name=CLUSTER_NAME_TEMPLATE + \"{{ ds_nodash }}\",\n",
    "        main=\"gs://{}/scripts/create_events_data_file.py\".format(BUCKET),\n",
    "        dataproc_jars=[\"gs://spark-lib/bigquery/spark-bigquery-latest_2.12.jar\"],\n",
    "        arguments=[\"{{ ds }}\", \"{{ next_ds }}\"]\n",
    "    )\n",
    "    \n",
    "    # ...\n",
    "    \n",
    "    task_create_dataproc.set_downstream(task_job)\n",
    "    task_job.set_downstream(task_delete_dataproc)"
   ]
  },
  {
   "cell_type": "markdown",
   "metadata": {},
   "source": [
    "L'opérateur `DataprocSubmitPySparkJobOperator` va nous permettre d'envoyer une tâche PySpark au cluster spécifié en y indiquant des paramètres additionnels. En l'occurrence ici, nous ajoutons le JAR BigQuery car nous avons besoin de récupérer les trajets présents sur BigQuery.\n",
    "\n",
    "Le paramètre `argments` nous permet d'indiquer la fenêtre temporelle sur laquelle nous allons récolter les données. Notons qu'ici nous choisissons l'intervalle de planification du DAG (qui correspond ici à une semaine).\n",
    "\n",
    "N'oublions pas qu'Airflow exécute **toujours un DAG à la fin de sa période d'exécution !** Ainsi, le DAG correspond au lundi 04 janvier 2021 à 5h (valeur de `ds`) sera en réalité exécuté le lundi 11 janvier 2021 à 5h. C'est pour cela que nous choisissons `next_ds` pour récolter les observations du 04/01 au 11/01, sinon nous aurions un décalage d'une semaine dans le passé.\n",
    "\n",
    "Testons alons avec un backfill."
   ]
  },
  {
   "cell_type": "raw",
   "metadata": {
    "format": "bash"
   },
   "source": [
    "airflow dags backfill pipeline_ml_staging -s 2019-11-06 -e 2019-11-13"
   ]
  },
  {
   "cell_type": "markdown",
   "metadata": {},
   "source": [
    "Avec ce backfill, ce sera l'exécution du lundi 11/11/2019 qui sera déclenchée. Une fois le cluster en cours d'exécution, nous pouvons voir la tâche PySpark envoyé par Airflow.\n",
    "\n",
    "<img src=\"https://blent-learning-user-ressources.s3.eu-west-3.amazonaws.com/training/ml_engineer_facebook/img/airflow_pipelines8.png\" />\n",
    "\n",
    "Cette tâche peut être plus longue en terme d'exécution puisque nous avons plus de données à cette période par rapport à début octobre 2019. Si les temps de calcul sont trop longs, pour tester, nous pouvons réduire la taille de la fenêtre.\n",
    "\n",
    "Une fois la tâche terminé, nous devrions voir nos données toutes fraîches dans <a href=\"https://console.cloud.google.com/storage/browser\" target=\"_blank\">notre bucket</a>.\n",
    "\n",
    "<img src=\"https://blent-learning-user-ressources.s3.eu-west-3.amazonaws.com/training/ml_engineer_facebook/img/airflow_pipelines9.png\" />\n",
    "\n",
    "Dans le même temps, le cluster Dataproc est supprimé par la dernière tâche Airflow.\n",
    "\n",
    "Il ne reste plus qu'à exécuter notre build via Cloud Build, et Kedro ira directement chercher ces fichiers CSV. Tout comme nous avions exécuté le build du `purchase-predict-api` à partir du `cloudbuild.yaml` du projet `purchase-predict`, nous allons faire la même chose ici avec l'opérateur `CloudBuildCreateBuildOperator`.\n",
    "\n",
    "Commençons par importer cet opérateur."
   ]
  },
  {
   "cell_type": "raw",
   "metadata": {
    "format": "python"
   },
   "source": [
    "import secrets\n",
    "\n",
    "from airflow.providers.google.cloud.operators.cloud_build import (\n",
    "    CloudBuildCreateBuildOperator\n",
    ")\n",
    "\n",
    "CLOUD_BUILD_STEP_ARGS = \"\"\"\n",
    "gcloud source repos clone purchase_predict /tmp/purchase_predict --project=$PROJECT_ID\n",
    "git --git-dir=/tmp/purchase_predict/.git --work-tree=/tmp/purchase_predict checkout staging\n",
    "tar -C /tmp/purchase_predict -zcf /tmp/purchase_predict.tar.gz .\n",
    "gcloud builds submit \\\n",
    "--config /tmp/purchase_predict/cloudbuild.yaml /tmp/purchase_predict.tar.gz \\\n",
    "--substitutions SHORT_SHA=$SHORT_SHA,_MLFLOW_SERVER=$_MLFLOW_SERVER,BRANCH_NAME=staging\n",
    "\"\"\""
   ]
  },
  {
   "cell_type": "markdown",
   "metadata": {},
   "source": [
    "La variable `CLOUD_BUILD_STEP_ARGS` contient les arguments de la commande `bash` de l'étape qui va exécuter un autre build depuis le dépôt `purchase-predict`. Notons ici que contrairement à l'API, nous ne fournissons pas le dossier dans `gcloud builds submit` mais le contenu du dossier compressé, car par défaut `gcloud builds submit` ne garde pas les sous-dossiers vides dont `conf/local` dans Kedro, alors que ce dernier en a besoin.\n",
    "\n",
    "Esuite, nous devons notamment y substituer des variables, dont le `SHORT_SHA` (qui sera généré manuellement lors de l'appel de la tâche Airflow), l'adresse du serveur MLflow avec `_MLFLOW_SERVER` et enfin le nom de la branche Git (ici `staging`).\n",
    "\n",
    "Rajoutons la tâche dans le DAG et connectons-la avec les autres."
   ]
  },
  {
   "cell_type": "raw",
   "metadata": {
    "format": "python"
   },
   "source": [
    "with DAG(DAG_NAME, default_args=default_args, schedule_interval=\"0 5 * * 1\") as dag:\n",
    "\n",
    "    # ...\n",
    "\n",
    "    task_trigger_build = CloudBuildCreateBuildOperator(\n",
    "        task_id=\"trigger_ml_build\",\n",
    "        body={\n",
    "            \"steps\": [\n",
    "                {\n",
    "                    \"name\": \"gcr.io/google.com/cloudsdktool/cloud-sdk\",\n",
    "                    \"entrypoint\": \"bash\",\n",
    "                    \"args\": [\"-c\", CLOUD_BUILD_STEP_ARGS]\n",
    "                }\n",
    "            ],\n",
    "            \"timeout\": \"1800s\",\n",
    "            \"substitutions\": {\"_MLFLOW_SERVER\": Variable.get(\"MLFLOW_SERVER\"), \"SHORT_SHA\": str(secrets.token_hex(4))[:7]}\n",
    "        }\n",
    "    )\n",
    "\n",
    "    # ...\n",
    "\n",
    "    task_create_dataproc.set_downstream(task_job)\n",
    "    # Il est conseillé de mettre task_delete_dataproc avant task_trigger_build car cela supprimera le cluster avant s'il n'y a pas de parallélisme\n",
    "    task_job.set_downstream([task_delete_dataproc, task_trigger_build])"
   ]
  },
  {
   "cell_type": "markdown",
   "metadata": {},
   "source": [
    "À l'instar du fichier `cloudbuild.yaml`, dans le paramètre `body` de la tâche, nous définissons les étapes du build. Ici, même principe, il n'y a qu'une seule étape qui va elle-même déclencher le build de `purchase-predict`.\n",
    "\n",
    "<img src=\"https://blent-learning-user-ressources.s3.eu-west-3.amazonaws.com/training/ml_engineer_facebook/img/airflow_pipelines10.png\" />\n",
    "\n",
    "Avant d'exécuter un backfill, rajoutons la variable `MLFLOW_SERVER` sur Airflow. Par ailleurs, il faut penser à nettoyer les tâches du DAG avant de faire le backfill, qui est considéré comme succès, pour retester l'intégralité du DAG."
   ]
  },
  {
   "cell_type": "raw",
   "metadata": {
    "format": "bash"
   },
   "source": [
    "airflow tasks clear pipeline_ml_staging -s 2019-11-06 -e 2019-11-13\n",
    "airflow dags backfill pipeline_ml_staging -s 2019-11-06 -e 2019-11-13"
   ]
  },
  {
   "cell_type": "markdown",
   "metadata": {},
   "source": [
    "<div class=\"alert alert-block alert-info\">\n",
    "    En comptabilisant le calcul Spark et tous les builds, cela peut prendre une trentaine de minutes. Pour ne pas être bloqué par la limite de temps pour <code>purchase-predict</code>, on peut augmenter le <code>timeout</code> ou changer le type de machine pour ne obtenir une plus puissante.\n",
    "</div>\n",
    "\n",
    "Et après toute cette attente, nous allons finalement pouvoir profiter de la dernière version mise à jour sur Cloud Run (car nous sommes dans l'environnement de pré-production).\n",
    "\n",
    "<img src=\"https://blent-learning-user-ressources.s3.eu-west-3.amazonaws.com/training/ml_engineer_facebook/img/airflow_pipelines11.png\" />\n",
    "\n",
    "Magique, non ? 😲\n",
    "\n",
    "Il ne reste plus qu'à faire le même DAG mais pour l'environnement de production, qui bien entendu ne devrait pas poser de difficulté car le déploiement sur Kubernetes est géré par Cloud Build.\n",
    "\n",
    "En résumé, le fichier `pipeline_ml_production.py` est très proche de ce que nous venons de faire."
   ]
  },
  {
   "cell_type": "raw",
   "metadata": {
    "download_as": "pipeline_ml_production.py",
    "format": "python"
   },
   "source": [
    "import os\n",
    "import secrets\n",
    "\n",
    "from airflow import DAG\n",
    "from airflow.models import Variable\n",
    "from airflow.utils.dates import days_ago\n",
    "from datetime import timedelta\n",
    "from google.protobuf.duration_pb2 import Duration\n",
    "\n",
    "from airflow.utils import trigger_rule\n",
    "from airflow.providers.google.cloud.operators.dataproc import (\n",
    "    DataprocCreateClusterOperator,\n",
    "    DataprocSubmitPySparkJobOperator,\n",
    "    DataprocDeleteClusterOperator\n",
    ")\n",
    "from airflow.providers.google.cloud.operators.cloud_build import (\n",
    "    CloudBuildCreateBuildOperator\n",
    ")\n",
    "\n",
    "DAG_NAME = os.path.basename(__file__).replace(\".py\", \"\")\n",
    "BUCKET = \"blent-formation-ml-engineer-data\"\n",
    "CLUSTER_NAME_TEMPLATE = \"purchase-predict-cluster-production-\"\n",
    "CLUSTER_CONFIG = {\n",
    "    \"software_config\": {\n",
    "        \"image_version\": \"2.0-debian10\"\n",
    "    },\n",
    "    \"master_config\": {\n",
    "        \"num_instances\": 1,\n",
    "        \"machine_type_uri\": \"n1-standard-4\",\n",
    "        \"disk_config\": {\"boot_disk_type\": \"pd-standard\", \"boot_disk_size_gb\": 1024},\n",
    "    },\n",
    "    \"worker_config\": {\n",
    "        \"num_instances\": 2,\n",
    "        \"machine_type_uri\": \"n1-standard-4\",\n",
    "        \"disk_config\": {\"boot_disk_type\": \"pd-standard\", \"boot_disk_size_gb\": 1024},\n",
    "    },\n",
    "    \"lifecycle_config\": {\n",
    "        \"idle_delete_ttl\": Duration(seconds=3600)\n",
    "    }\n",
    "}\n",
    "\n",
    "CLOUD_BUILD_STEP_ARGS = \"\"\"\n",
    "gcloud source repos clone purchase_predict /tmp/purchase_predict --project=$PROJECT_ID\n",
    "git --git-dir=/tmp/purchase_predict/.git --work-tree=/tmp/purchase_predict checkout master\n",
    "tar -C /tmp/purchase_predict -zcf /tmp/purchase_predict.tar.gz .\n",
    "gcloud builds submit \\\n",
    "--config /tmp/purchase_predict/cloudbuild.yaml /tmp/purchase_predict.tar.gz \\\n",
    "--substitutions SHORT_SHA=$SHORT_SHA,_MLFLOW_SERVER=$_MLFLOW_SERVER,BRANCH_NAME=master\n",
    "\"\"\"\n",
    "\n",
    "default_args = {\n",
    "    'owner': 'blent',\n",
    "    'start_date': days_ago(2),\n",
    "    'retries': 0,\n",
    "    'retry_delay': timedelta(minutes=10),\n",
    "    'project_id': Variable.get(\"PROJECT_ID\"),\n",
    "    'region': \"us-central1\"\n",
    "}\n",
    "\n",
    "with DAG(DAG_NAME, default_args=default_args, schedule_interval=\"0 5 * * 1\") as dag:\n",
    "\n",
    "    task_create_dataproc = DataprocCreateClusterOperator(\n",
    "        task_id='create_dataproc',\n",
    "        cluster_name=CLUSTER_NAME_TEMPLATE + \"{{ ds_nodash }}\",\n",
    "        region=\"us-central1\",  # Cela coûte moins cher en US central ;)\n",
    "        cluster_config=CLUSTER_CONFIG\n",
    "    )\n",
    "\n",
    "    task_job = DataprocSubmitPySparkJobOperator(\n",
    "        task_id=\"submit_job\",\n",
    "        job_name=\"query_user_events\",\n",
    "        cluster_name=CLUSTER_NAME_TEMPLATE + \"{{ ds_nodash }}\",\n",
    "        main=\"gs://{}/scripts/create_events_data_file.py\".format(BUCKET),\n",
    "        dataproc_jars=[\"gs://spark-lib/bigquery/spark-bigquery-latest_2.12.jar\"],\n",
    "        arguments=[\"{{ ds }}\", \"{{ next_ds }}\"]\n",
    "    )\n",
    "\n",
    "    task_trigger_build = CloudBuildCreateBuildOperator(\n",
    "        task_id=\"trigger_ml_build\",\n",
    "        body={\n",
    "            \"steps\": [\n",
    "                {\n",
    "                    \"name\": \"gcr.io/google.com/cloudsdktool/cloud-sdk\",\n",
    "                    \"entrypoint\": \"bash\",\n",
    "                    \"args\": [\"-c\", CLOUD_BUILD_STEP_ARGS]\n",
    "                }\n",
    "            ],\n",
    "            \"timeout\": \"1800s\",\n",
    "            \"substitutions\": {\"_MLFLOW_SERVER\": Variable.get(\"MLFLOW_SERVER\"), \"SHORT_SHA\": str(secrets.token_hex(4))[:7]}\n",
    "        }\n",
    "    )\n",
    "\n",
    "    task_delete_dataproc = DataprocDeleteClusterOperator(\n",
    "        task_id='delete_dataproc',\n",
    "        cluster_name=CLUSTER_NAME_TEMPLATE + \"{{ ds_nodash }}\",\n",
    "        trigger_rule=trigger_rule.TriggerRule.ALL_DONE,  # En cas d'erreur, on souhaite quand même supprimer le cluster\n",
    "    )\n",
    "\n",
    "    task_create_dataproc.set_downstream(task_job)\n",
    "    # Il est conseillé de mettre task_delete_dataproc avant task_trigger_build car cela supprimera le cluster avant s'il n'y a pas de parallélisme\n",
    "    task_job.set_downstream([task_delete_dataproc, task_trigger_build])"
   ]
  },
  {
   "cell_type": "markdown",
   "metadata": {},
   "source": [
    "> ❓ Est-ce que l'on ne pourrait pas optimiser les deux DAGs ?\n",
    "\n",
    "Bien sûr ! Si l'on regarde en détails, on réalise ici deux fois le même calcul Spark. Nous pourrions par exemple fusionner sur un seul DAG, ou encore avoir un DAG qui fait le traitement Spark, puis ensuite déclencher les deux autres DAGs par la suite.\n",
    "\n",
    "Ici nous avons fait le choix de la flexibilité si, par exemple, on ne souhaiterai pas lancer les deux calculs en même temps.\n",
    "\n",
    "<div class=\"alert alert-block alert-warning\">\n",
    "    Dans le cadre de la formation, il faut faire attention à vérifier que le cluster est bien supprimé à la fin. En effet, n'oublions pas qu'<i>in fine</i>, ce sont des ressources qui nécessitent des crédits.\n",
    "</div>\n",
    "\n",
    "Pour terminer, on peut ensuite envoyer ce DAG dans Airflow sur le serveur (en pensant à installer les dépendances supplémentaires que nous avons fait au tout début)."
   ]
  },
  {
   "cell_type": "markdown",
   "metadata": {},
   "source": [
    "## ✔️ Conclusion\n",
    "\n",
    "Et voilà ! Cela représente l'aboutissement de l'approche MLOps ! Tu peux être très fier(e) de toi pour tout ce chemin parcouru ! 🥳\n",
    "\n",
    "- Nous avons pu créer et supprimer des clusters Dataproc depuis Airflow.\n",
    "- Nous avons ensuite intégré le déclenchement Cloud Build directement dans le DAG Airflow.\n",
    "\n",
    "> ➡️ Il y aurait encore tant de choses à voir... mais pour terminer, il est important de voir quelques bonnes pratiques, notamment au niveau de la **sécurité** ou encore du **monitoring** !"
   ]
  }
 ],
 "metadata": {
  "celltoolbar": "Éditer les Méta-Données",
  "kernelspec": {
   "display_name": "Python 3 (ipykernel)",
   "language": "python",
   "name": "python3"
  },
  "language_info": {
   "codemirror_mode": {
    "name": "ipython",
    "version": 3
   },
   "file_extension": ".py",
   "mimetype": "text/x-python",
   "name": "python",
   "nbconvert_exporter": "python",
   "pygments_lexer": "ipython3",
   "version": "3.8.10"
  }
 },
 "nbformat": 4,
 "nbformat_minor": 4
}
