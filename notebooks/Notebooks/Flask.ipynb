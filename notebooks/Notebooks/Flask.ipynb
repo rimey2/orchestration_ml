{
 "cells": [
  {
   "cell_type": "markdown",
   "metadata": {
    "type": "intro"
   },
   "source": [
    "Flask est un **micro-framework open source de développement Web** qui permet de créer des API REST en Python. Micro ne signifie pas qu'il s'agit d'un framework léger, mais Flask se concentre sur la seule tâche de développement web : toutes les couches supplémentaires sont ensuite gérés par les développeurs.\n",
    "\n",
    "<img src=\"https://dv495y1g0kef5.cloudfront.net/training/data_engineer_uber/img/flask.png\" />\n",
    "\n",
    "<blockquote><p>🙋 <b>Ce que nous allons faire</b></p>\n",
    "<ul>\n",
    "    <li>Construire l'API de panier utilisateur avec Flask</li>\n",
    "    <li>Exécuter l'API en local et interagir avec</li>\n",
    "</ul>\n",
    "</blockquote>\n",
    "\n",
    "<img src=\"https://media.giphy.com/media/3og0IAQG2BtR13joe4/giphy.gif\" />"
   ]
  },
  {
   "cell_type": "code",
   "execution_count": null,
   "metadata": {
    "id": "7052b0e54484deea"
   },
   "outputs": [],
   "source": [
    "import os\n",
    "import signal\n",
    "import subprocess\n",
    "import time\n",
    "\n",
    "server = None\n",
    "\n",
    "def stop_server():\n",
    "    if server:\n",
    "        os.killpg(server.pid, signal.SIGTERM)\n",
    "        server.terminate()\n",
    "\n",
    "def start_server():\n",
    "    # Petite astuce pour exécuter le serveur sans quitter le notebook\n",
    "    stop_server()\n",
    "    time.sleep(1.5)\n",
    "    print(\"Serveur prêt\")\n",
    "    return subprocess.Popen(\"FLASK_APP=/tmp/server.py flask run\", shell=True, preexec_fn=os.setsid)"
   ]
  },
  {
   "cell_type": "markdown",
   "metadata": {},
   "source": [
    "## Un premier exemple\n",
    "\n",
    "Une des principales forces de Flask est la possibilité de créer une API en seulement quelques lignes. Examinons le code suivant :"
   ]
  },
  {
   "cell_type": "code",
   "execution_count": null,
   "metadata": {
    "id": "700bc5b971956477"
   },
   "outputs": [],
   "source": [
    "%%writefile /tmp/server.py\n",
    "from flask import Flask\n",
    "\n",
    "app = Flask(__name__)\n",
    "\n",
    "@app.route('/')\n",
    "def hello_world():\n",
    "    return \"Coucou !\""
   ]
  },
  {
   "cell_type": "markdown",
   "metadata": {},
   "source": [
    "La ligne `app = Flask(__name__)` permet d'instancier une nouvelle application Flask, qui fait référence ici à notre API. Ainsi, les routes seront définies à partir de la variable `app`.\n",
    "\n",
    "Ensuite, nous définissons la fonction `hello_world` qui retourne simplement la chaîne de caractère `Coucou !`. En ajoutant le décorateur `@app.route('/')` à cette fonction, cela permet de spécifier à l'application Flask que cette fonction sera exécutée sur la route `/`, et la valeur retournée par cette fonction sera par la suite renvoyée au client qui aura envoyé la requête.\n",
    "\n",
    "Démarrons le serveur."
   ]
  },
  {
   "cell_type": "code",
   "execution_count": null,
   "metadata": {
    "id": "95e774dc58ca051b"
   },
   "outputs": [],
   "source": [
    "server = start_server()"
   ]
  },
  {
   "cell_type": "markdown",
   "metadata": {},
   "source": [
    "Par défaut, Flask écoute sur l'adresse `localhost` et sur le port $5000$. Ainsi, une requête GET sur l'adresse `127.0.0.1:5000` devrait retourner un code 200 avec le message `Coucou !`."
   ]
  },
  {
   "cell_type": "code",
   "execution_count": null,
   "metadata": {
    "id": "3eca3a79ae371ce9"
   },
   "outputs": [],
   "source": [
    "!pip install requests -q\n",
    "import requests\n",
    "\n",
    "requests.get(\"http://127.0.0.1:5000\").content"
   ]
  },
  {
   "cell_type": "markdown",
   "metadata": {},
   "source": [
    "Flask détecte que nous effectuons une requête sur la route `/`, exécute donc la fonction `hello_world` et retourne le résultat de la fonction au client. Créons une nouvelle route `/cart` qui va pour l'instant renvoyer `Panier vide`."
   ]
  },
  {
   "cell_type": "code",
   "execution_count": null,
   "metadata": {
    "id": "0882bd82dd147dae"
   },
   "outputs": [],
   "source": [
    "%%writefile /tmp/server.py\n",
    "from flask import Flask\n",
    "\n",
    "app = Flask(__name__)\n",
    "\n",
    "@app.route('/')\n",
    "def hello_world():\n",
    "    return \"Coucou !\"\n",
    "\n",
    "@app.route('/cart')\n",
    "def cart():\n",
    "    return \"Panier vide !\""
   ]
  },
  {
   "cell_type": "code",
   "execution_count": null,
   "metadata": {
    "id": "ed3bf389fa56da8f"
   },
   "outputs": [],
   "source": [
    "server = start_server()"
   ]
  },
  {
   "cell_type": "markdown",
   "metadata": {},
   "source": [
    "Ici, nous définissons une nouvelle route `/cart`, qui retourne également une chaîne de caractère par défaut."
   ]
  },
  {
   "cell_type": "code",
   "execution_count": null,
   "metadata": {
    "id": "08d978ff50931151"
   },
   "outputs": [],
   "source": [
    "requests.get(\"http://127.0.0.1:5000/cart\").content"
   ]
  },
  {
   "cell_type": "markdown",
   "metadata": {},
   "source": [
    "## Création d'un panier virtuel\n",
    "\n",
    "Exploitons pleinement le potentiel des API REST. Nous allons à présent appliquer l'exemple que nous avons déroulé sur les API, à savoir la gestion d'un panier d'achat permettant de lister, ajouter, modifier ou supprimer des produits.\n",
    "\n",
    "Pour recevoir ou envoyer des données dans une API REST, le format privilégié est le JSON, puisque ce format non structurée n'impose pas de schéma particulier et permet à chaque requête de retourner des données qui lui sont propres. Flask dispose d'un module `jsonify` qui permet d'encoder une liste ou un dictionnaire directement au format JSON."
   ]
  },
  {
   "cell_type": "code",
   "execution_count": null,
   "metadata": {
    "id": "bf488e4a8e7b68c9"
   },
   "outputs": [],
   "source": [
    "%%writefile /tmp/server.py\n",
    "from flask import Flask, request, jsonify\n",
    "\n",
    "app = Flask(__name__)\n",
    "\n",
    "cart = []\n",
    "\n",
    "@app.route('/')\n",
    "def hello_world():\n",
    "    return \"Coucou !\"\n",
    "\n",
    "@app.route('/cart', methods=['GET'])\n",
    "def list_cart():\n",
    "    return jsonify(cart), 200\n",
    "\n",
    "@app.route('/cart', methods=['POST'])\n",
    "def add_to_cart():\n",
    "    try:\n",
    "        body = request.get_json()\n",
    "        # On s'assure que les champs 'id' et 'quantity' sont bien présents dans le corps de la requête\n",
    "        if 'id' not in body.keys() or 'quantity' not in body.keys():\n",
    "            return jsonify({'error': \"Missing fields.\"}), 400\n",
    "        # Si le produit existe déjà : rajouter la nouvelle quantité à la précédente\n",
    "        for i, item in enumerate(cart):\n",
    "            if item['id'] == body['id']:\n",
    "                cart[i]['quantity'] += int(body['quantity'])\n",
    "                return jsonify({}), 200\n",
    "            \n",
    "        # Si l'on atteint cette partie, alors le produit n'existait pas déjà\n",
    "        cart.append(body)\n",
    "        return jsonify({}), 200      \n",
    "    except Exception as e:\n",
    "        return jsonify({'error': str(e)}), 500"
   ]
  },
  {
   "cell_type": "markdown",
   "metadata": {},
   "source": [
    "Détaillons les fonctions `list_cart` et `add_to_cart`. Ces deux fonctions sont liées à la même route `/cart`, la principale différence réside dans le verbe HTTP : la fonction `list_cart` sera exécutée dans le cas d'une méthode GET, alors que la fonction `add_to_cart` sera exécutée dans le cas d'une méthode POST. Cela permet donc d'avoir une seule route mais qui concentre plusieurs fonctionnalités que l'on peut choisir par le verbe d'action.\n",
    "\n",
    "La variable `cart` est une liste qui contiendra les produits, où chaque produit est représenté par un **dictionnaire** qui contient deux champs : un champ `id` qui est un identifiant unique du produit dans la base de données, et un champ `quantity` qui précise la quantité associée à ce produit.\n",
    "\n",
    "Si un utilisateur souhaite ajouter un produit à son panier, il devra exécuter une méthode POST sur la route `/cart` en fournissant également un corps du message qui est le suivant :"
   ]
  },
  {
   "cell_type": "raw",
   "metadata": {},
   "source": [
    "{\n",
    "    'id': \"je8zng\",\n",
    "    'quantity': 1\n",
    "}"
   ]
  },
  {
   "cell_type": "markdown",
   "metadata": {},
   "source": [
    "Dès cette étape, il y a plusieurs actions à entreprendre.\n",
    "\n",
    "- Tout d'abord, il faut s'assurer que les champs nécessaires sont bien présents dans le corps du message, à savoir les champs `id` et `quantity`. Il n'est pas possible d'ajouter un produit si l'on ne connait pas son identifiant ou la quantité associée.\n",
    "- Ensuite, il faut étudier si le produit n'existe pas déjà dans le panier. Si c'est le cas, il faudra rajouter à la quantité existante celle qui est proposée dans le corps de la requête.\n",
    "- Enfin, si le produit n'existe pas déjà dans le panier, il suffit d'ajouter le corps de la requête dans le panier.\n",
    "\n",
    "La fonction `check_fields` permet de s'assurer que tous les paramètres requis sont bien présents."
   ]
  },
  {
   "cell_type": "code",
   "execution_count": null,
   "metadata": {
    "id": "ffbd447d781086d8"
   },
   "outputs": [],
   "source": [
    "def check_fields(body, fields):\n",
    "    # On récupère les champs requis au format 'ensemble'\n",
    "    required_parameters_set = set(fields)\n",
    "    # On récupère les champs du corps de la requête au format 'ensemble'\n",
    "    fields_set = set(body.keys())\n",
    "    # Si l'ensemble des champs requis n'est pas inclut dans l'ensemble des champs du corps de la requête\n",
    "    # Alors s'il manque des paramètres et la valeur False sera renvoyée\n",
    "    return required_parameters_set <= fields_set\n",
    "\n",
    "print(check_fields({}, {'id', 'quantity'}))  # Pas bon\n",
    "print(check_fields({'id': 0}, {'id', 'quantity'}))  # Pas bon\n",
    "print(check_fields({'id': 0, 'quantity': 0}, {'id', 'quantity'}))  # OK\n",
    "print(check_fields({'id': 0, 'quantity': 0, 'description': \"\"}, {'id', 'quantity'}))  # OK"
   ]
  },
  {
   "cell_type": "code",
   "execution_count": null,
   "metadata": {
    "id": "c89303b5a585905b"
   },
   "outputs": [],
   "source": [
    "%%writefile /tmp/server.py\n",
    "from flask import Flask, request, jsonify\n",
    "\n",
    "app = Flask(__name__)\n",
    "\n",
    "cart = []\n",
    "\n",
    "def check_fields(body, fields):\n",
    "    # On récupère les champs requis au format 'ensemble'\n",
    "    required_parameters_set = set(fields)\n",
    "    # On récupère les champs du corps de la requête au format 'ensemble'\n",
    "    fields_set = set(body.keys())\n",
    "    # Si l'ensemble des champs requis n'est pas inclut dans l'ensemble des champs du corps de la requête\n",
    "    # Alors s'il manque des paramètres et la valeur False sera renvoyée\n",
    "    return required_parameters_set <= fields_set\n",
    "\n",
    "@app.route('/')\n",
    "def hello_world():\n",
    "    return \"Coucou !\"\n",
    "\n",
    "@app.route('/cart', methods=['GET'])\n",
    "def list_cart():\n",
    "    return jsonify(cart), 200\n",
    "\n",
    "@app.route('/cart', methods=['POST'])\n",
    "def add_to_cart():\n",
    "    try:\n",
    "        body = request.get_json()\n",
    "        if not check_fields(body, {'id', 'quantity'}):\n",
    "            # S'il manque un paramètre on retourne une erreur 400\n",
    "            return jsonify({'error': \"Missing fields.\"}), 400\n",
    "        \n",
    "        # On vérifie si le produit n'existe pas déjà\n",
    "        for i, item in enumerate(cart):\n",
    "            if item['id'] == body['id']:\n",
    "                # On a retrouvé ce produit dans le panier, on ajoute à la quantité existante\n",
    "                cart[i]['quantity'] += int(body['quantity'])\n",
    "                # On retourne un code 200 pour signaler que tout s'est bien passé\n",
    "                return jsonify({}), 200\n",
    "            \n",
    "         # Si l'on atteint cette partie, alors le produit n'existait pas déjà\n",
    "        cart.append(body)\n",
    "        return jsonify({}), 200\n",
    "    except Exception as e:\n",
    "        return jsonify({'error': str(e)}), 500"
   ]
  },
  {
   "cell_type": "code",
   "execution_count": null,
   "metadata": {
    "id": "01b107d5dba26c48"
   },
   "outputs": [],
   "source": [
    "server = start_server()"
   ]
  },
  {
   "cell_type": "markdown",
   "metadata": {},
   "source": [
    "Testons une requête en omettant un champ requis."
   ]
  },
  {
   "cell_type": "code",
   "execution_count": null,
   "metadata": {
    "id": "ff8a478d05a06057"
   },
   "outputs": [],
   "source": [
    "req = requests.post(\"http://127.0.0.1:5000/cart\", json={\n",
    "    'id': \"je8zng\"\n",
    "})\n",
    "print(req.status_code, req.json())"
   ]
  },
  {
   "cell_type": "markdown",
   "metadata": {},
   "source": [
    "Nous avons bien une erreur 400 puisque un ou plusieurs champs requis sont manquants."
   ]
  },
  {
   "cell_type": "code",
   "execution_count": null,
   "metadata": {
    "id": "202fb8802a55c9e4"
   },
   "outputs": [],
   "source": [
    "req = requests.post(\"http://127.0.0.1:5000/cart\", json={\n",
    "    'id': \"je8zng\",\n",
    "    'quantity': 1\n",
    "})\n",
    "print(req.status_code, req.json())"
   ]
  },
  {
   "cell_type": "markdown",
   "metadata": {},
   "source": [
    "Tout s'est bien passé, donc en listant les produits du panier, celui que l'on vient d'ajouter est présent."
   ]
  },
  {
   "cell_type": "code",
   "execution_count": null,
   "metadata": {
    "id": "2382bcddbb694e92"
   },
   "outputs": [],
   "source": [
    "requests.get(\"http://127.0.0.1:5000/cart\").json()"
   ]
  },
  {
   "cell_type": "markdown",
   "metadata": {},
   "source": [
    "Si, à présent, nous rajoutons un même produit, le comportement de l'API que nous avons mis en place devrait rajouter la quantité au produit déjà présent dans le panier."
   ]
  },
  {
   "cell_type": "code",
   "execution_count": null,
   "metadata": {
    "id": "40ab1b720bb2eafa"
   },
   "outputs": [],
   "source": [
    "req = requests.post(\"http://127.0.0.1:5000/cart\", json={\n",
    "    'id': \"je8zng\",\n",
    "    'quantity': 2\n",
    "})\n",
    "print(req.status_code, req.json())"
   ]
  },
  {
   "cell_type": "markdown",
   "metadata": {},
   "source": [
    "Le produit d'identifiant `je8zng` devrait donc apparaître avec une quantité de 3."
   ]
  },
  {
   "cell_type": "code",
   "execution_count": null,
   "metadata": {
    "id": "9b4f6b61746cff68"
   },
   "outputs": [],
   "source": [
    "requests.get(\"http://127.0.0.1:5000/cart\").json()"
   ]
  },
  {
   "cell_type": "markdown",
   "metadata": {},
   "source": [
    "### Méthode PATCH\n",
    "\n",
    "Intégrons dorénavant la possibilité de mettre à jour la quantité pour un produit. Pour cela, l'architecture REST préconise d'utiliser le verbe PATCH pour mettre à jour une ressource. La fonction `edit_cart` déclenchera les instructions pour modifier les quantités d'un produit."
   ]
  },
  {
   "cell_type": "code",
   "execution_count": null,
   "metadata": {
    "id": "362e8d0f62c2950d"
   },
   "outputs": [],
   "source": [
    "%%writefile /tmp/server.py\n",
    "from flask import Flask, request, jsonify\n",
    "\n",
    "app = Flask(__name__)\n",
    "\n",
    "cart = [{\n",
    "    'id': \"je8zng\",\n",
    "    'quantity': 3\n",
    "}]\n",
    "\n",
    "def check_fields(body, fields):\n",
    "    # On récupère les champs requis au format 'ensemble'\n",
    "    required_parameters_set = set(fields)\n",
    "    # On récupère les champs du corps de la requête au format 'ensemble'\n",
    "    fields_set = set(body.keys())\n",
    "    # Si l'ensemble des champs requis n'est pas inclut dans l'ensemble des champs du corps de la requête\n",
    "    # Alors s'il manque des paramètres et la valeur False sera renvoyée\n",
    "    return required_parameters_set <= fields_set\n",
    "\n",
    "@app.route('/')\n",
    "def hello_world():\n",
    "    return \"Coucou !\"\n",
    "\n",
    "@app.route('/cart', methods=['GET'])\n",
    "def list_cart():\n",
    "    return jsonify(cart), 200\n",
    "\n",
    "@app.route('/cart', methods=['POST'])\n",
    "def add_to_cart():\n",
    "    try:\n",
    "        body = request.get_json()\n",
    "        if not check_fields(body, {'id', 'quantity'}):\n",
    "            # S'il manque un paramètre on retourne une erreur 400\n",
    "            return jsonify({'error': \"Missing fields.\"}), 400\n",
    "        \n",
    "        # On vérifie si le produit n'existe pas déjà\n",
    "        for i, item in enumerate(cart):\n",
    "            if item['id'] == body.get('id', \"\"):\n",
    "                # On a retrouvé ce produit dans le panier, on ajoute à la quantité existante\n",
    "                cart[i]['quantity'] += int(body.get('quantity', 0))\n",
    "                # On retourne un code 200 pour signaler que tout s'est bien passé\n",
    "                return jsonify({}), 200\n",
    "            \n",
    "         # Si l'on atteint cette partie, alors le produit n'existait pas déjà\n",
    "        cart.append(body)\n",
    "        return jsonify({}), 200\n",
    "    except Exception as e:\n",
    "        return jsonify({'error': str(e)}), 500\n",
    "\n",
    "@app.route('/cart', methods=['PATCH'])\n",
    "def edit_cart():\n",
    "    try:\n",
    "        body = request.get_json()\n",
    "        if not check_fields(body, {'id', 'quantity'}):\n",
    "            # S'il manque un paramètre on retourne une erreur 400\n",
    "            return jsonify({'error': \"Missing fields.\"}), 400\n",
    "\n",
    "        for i, item in enumerate(cart):\n",
    "            if item['id'] == body['id']:\n",
    "                # On met à jour la quantité\n",
    "                cart[i]['quantity'] = int(body['quantity'])\n",
    "                return jsonify({}), 200\n",
    "        \n",
    "        # Si l'on atteint cette partie, alors le produit n'existait pas : on ne peut pas mettre à jour !\n",
    "        return jsonify({'error': \"Product not found.\"}), 404\n",
    "    except Exception as e:\n",
    "        return jsonify({'error': str(e)}), 500"
   ]
  },
  {
   "cell_type": "code",
   "execution_count": null,
   "metadata": {
    "id": "4b5b11bbd4f3abdf"
   },
   "outputs": [],
   "source": [
    "server = start_server()"
   ]
  },
  {
   "cell_type": "code",
   "execution_count": null,
   "metadata": {
    "id": "b3c1f4781f78f5a4"
   },
   "outputs": [],
   "source": [
    "req = requests.patch(\"http://127.0.0.1:5000/cart\", json={\n",
    "    'id': \"aaaaa\",\n",
    "    'quantity': 10\n",
    "})\n",
    "print(req.status_code, req.json())"
   ]
  },
  {
   "cell_type": "code",
   "execution_count": null,
   "metadata": {
    "id": "867cd126e7ae515c"
   },
   "outputs": [],
   "source": [
    "req = requests.patch(\"http://127.0.0.1:5000/cart\", json={\n",
    "    'id': \"je8zng\",\n",
    "    'quantity': 10\n",
    "})\n",
    "print(req.status_code, req.json())"
   ]
  },
  {
   "cell_type": "code",
   "execution_count": null,
   "metadata": {
    "id": "d9cccf7f485455dd"
   },
   "outputs": [],
   "source": [
    "requests.get(\"http://127.0.0.1:5000/cart\").json()"
   ]
  },
  {
   "cell_type": "markdown",
   "metadata": {},
   "source": [
    "### Méthode DELETE\n",
    "\n",
    "La dernière fonctionnalité est la suppression d'un produit dans le panier : il n'y a donc plus besoin que le champ `quantity` soit présent."
   ]
  },
  {
   "cell_type": "code",
   "execution_count": null,
   "metadata": {
    "id": "2d78b8bcdf99ba42"
   },
   "outputs": [],
   "source": [
    "%%writefile /tmp/server.py\n",
    "from flask import Flask, request, jsonify\n",
    "\n",
    "app = Flask(__name__)\n",
    "\n",
    "cart = [{\n",
    "    'id': \"je8zng\",\n",
    "    'quantity': 3\n",
    "}]\n",
    "\n",
    "def check_fields(body, fields):\n",
    "    # On récupère les champs requis au format 'ensemble'\n",
    "    required_parameters_set = set(fields)\n",
    "    # On récupère les champs du corps de la requête au format 'ensemble'\n",
    "    fields_set = set(body.keys())\n",
    "    # Si l'ensemble des champs requis n'est pas inclut dans l'ensemble des champs du corps de la requête\n",
    "    # Alors s'il manque des paramètres et la valeur False sera renvoyée\n",
    "    return required_parameters_set <= fields_set\n",
    "\n",
    "@app.route('/')\n",
    "def hello_world():\n",
    "    return \"Coucou !\"\n",
    "\n",
    "@app.route('/cart', methods=['GET'])\n",
    "def list_cart():\n",
    "    return jsonify(cart), 200\n",
    "\n",
    "@app.route('/cart', methods=['POST'])\n",
    "def add_to_cart():\n",
    "    try:\n",
    "        body = request.get_json()\n",
    "        if not check_fields(body, {'id', 'quantity'}):\n",
    "            # S'il manque un paramètre on retourne une erreur 400\n",
    "            return jsonify({'error': \"Missing fields.\"}), 400\n",
    "        \n",
    "        # On vérifie si le produit n'existe pas déjà\n",
    "        for i, item in enumerate(cart):\n",
    "            if item['id'] == body.get('id', \"\"):\n",
    "                # On a retrouvé ce produit dans le panier, on ajoute à la quantité existante\n",
    "                cart[i]['quantity'] += int(body.get('quantity', 0))\n",
    "                # On retourne un code 200 pour signaler que tout s'est bien passé\n",
    "                return jsonify({}), 200\n",
    "            \n",
    "         # Si l'on atteint cette partie, alors le produit n'existait pas déjà\n",
    "        cart.append(body)\n",
    "        return jsonify({}), 200\n",
    "    except Exception as e:\n",
    "        return jsonify({'error': str(e)}), 500\n",
    "\n",
    "@app.route('/cart', methods=['PATCH'])\n",
    "def edit_cart():\n",
    "    try:\n",
    "        body = request.get_json()\n",
    "        if not check_fields(body, {'id', 'quantity'}):\n",
    "            # S'il manque un paramètre on retourne une erreur 400\n",
    "            return jsonify({'error': \"Missing fields.\"}), 400\n",
    "\n",
    "        for i, item in enumerate(cart):\n",
    "            if item['id'] == body.get('id', \"\"):\n",
    "                # On met à jour la quantité\n",
    "                cart[i]['quantity'] = int(body.get('quantity', 0))\n",
    "                return jsonify({}), 200\n",
    "        \n",
    "        # Si l'on atteint cette partie, alors le produit n'existait pas : on ne peut pas mettre à jour !\n",
    "        return jsonify({'error': \"Product not found.\"}), 404\n",
    "    except Exception as e:\n",
    "        return jsonify({'error': str(e)}), 500\n",
    "\n",
    "@app.route('/cart', methods=['DELETE'])\n",
    "def remove_from_cart():\n",
    "    try:\n",
    "        body = request.get_json()\n",
    "        if not check_fields(body, {'id'}):\n",
    "            # S'il manque un paramètre on retourne une erreur 400\n",
    "            return jsonify({'error': \"Missing fields.\"}), 400\n",
    "        \n",
    "        for i, item in enumerate(cart):\n",
    "            if item['id'] == body['id']:\n",
    "                # On supprime le produit du panier\n",
    "                del cart[i]\n",
    "                return jsonify({}), 200\n",
    "            \n",
    "        # Si l'on atteint cette partie, alors le produit n'existait pas : on ne peut pas supprimer !\n",
    "        return jsonify({'error': \"Product not found.\"}), 404\n",
    "    except Exception as e:\n",
    "        return jsonify({'error': str(e)}), 500"
   ]
  },
  {
   "cell_type": "code",
   "execution_count": null,
   "metadata": {
    "id": "5328e4751dcb7a7a"
   },
   "outputs": [],
   "source": [
    "server = start_server()"
   ]
  },
  {
   "cell_type": "code",
   "execution_count": null,
   "metadata": {
    "id": "3098c43153a6fc1e"
   },
   "outputs": [],
   "source": [
    "req = requests.delete(\"http://127.0.0.1:5000/cart\", json={\n",
    "    'id': \"je8zng\"\n",
    "})\n",
    "print(req.status_code, req.json())"
   ]
  },
  {
   "cell_type": "code",
   "execution_count": null,
   "metadata": {
    "id": "989f4c9720a51172"
   },
   "outputs": [],
   "source": [
    "requests.get(\"http://127.0.0.1:5000/cart\").json()"
   ]
  },
  {
   "cell_type": "markdown",
   "metadata": {},
   "source": [
    "Une fois l'expérimentation terminée, nous pouvons stopper le serveur."
   ]
  },
  {
   "cell_type": "code",
   "execution_count": null,
   "metadata": {
    "id": "4adbde6ba2e72bad"
   },
   "outputs": [],
   "source": [
    "stop_server()"
   ]
  },
  {
   "cell_type": "markdown",
   "metadata": {
    "type": "ending"
   },
   "source": [
    "## ✔️ Conclusion\n",
    "\n",
    "L'intégration de l'architecture REST se fait sans difficultés avec Flask.\n",
    "\n",
    "- Nous avons vu qu'il est très facile de construire une API REST.\n",
    "- Nous avons pu interagir avec l'API et y ajouter des fonctionnalités.\n",
    "\n",
    "> ➡️ La dernière étape consiste à intégrer le modèle de Machine Learning dans l'API pour pouvoir calculer des prédictions depuis un serveur distant."
   ]
  }
 ],
 "metadata": {
  "celltoolbar": "Éditer les Méta-Données",
  "kernelspec": {
   "display_name": "Python 3",
   "language": "python",
   "name": "python3"
  },
  "language_info": {
   "codemirror_mode": {
    "name": "ipython",
    "version": 3
   },
   "file_extension": ".py",
   "mimetype": "text/x-python",
   "name": "python",
   "nbconvert_exporter": "python",
   "pygments_lexer": "ipython3",
   "version": "3.8.0"
  }
 },
 "nbformat": 4,
 "nbformat_minor": 4
}
