{
 "cells": [
  {
   "cell_type": "markdown",
   "metadata": {
    "type": "intro"
   },
   "source": [
    "S'il y a bien quelque chose que l'on répète souvent lorsqu'il s'agit du développement de code source, c'est de **coder proprement**. Oui mais, comment faire ? Comment décide-t-on de la « propreté d'un code » ? Existe-il des conventions, des normes et si oui, qu'elles sont-elles ?\n",
    "\n",
    "Autant de question que nous allons aborder deux concepts de programmation, pas si récents mais toujours aussi important de nos jours : le **linting** et le **refactoring** !\n",
    "\n",
    "<blockquote><p>🙋 <b>Ce que nous allons faire</b></p>\n",
    "<ul>\n",
    "    <li>Découvrir la norme PEP 8 du langage Python</li>\n",
    "    <li>Effectuer une analyse statique de code avec <code>flake8</code></li>\n",
    "    <li>Utiliser un formateur de code avec <code>black</code></li>\n",
    "</ul>\n",
    "</blockquote>\n",
    "\n",
    "<img src=\"https://media.giphy.com/media/h1zJMhT5XOT927e0aw/giphy.gif\" />"
   ]
  },
  {
   "cell_type": "markdown",
   "metadata": {},
   "source": [
    "## La norme PEP 8\n",
    "\n",
    "Si tu as déjà recherché de l'aide sur Google par rapport à un problème Python, peut être que l'expression *PEP 8* ne t'es pas étrangère. Et pour cause : il s'agit de la norme Python qui spécifie quelles sont les bonnes pratiques en terme de style de code.\n",
    "\n",
    "> ❓ Pourquoi 8 ? Et d'ailleurs, ça veut dire quoi PEP ?\n",
    "\n",
    "Revenons à l'origine du langage Python : il a été initialement construit par une personne, Guido van Rossum, en 1991. Bien évidemment, au fur et à mesure que le langage gagne en popularité, de plus en plus de développeurs expérimentés viennent prêter main forte à Guido pour améliorer le langage Python et y ajouter de nouvelles fonctionnalités.\n",
    "\n",
    "Mais voilà, comment s'organiser correctement lorsque des dizaines, centaines voir milliers de personnes travaillent ensemble ? Dans la plupart du temps, le plus simple est le **commentaire** : un utilisateur souhaite qu'une nouvelle fonctionnalité soit présente, il va donc proposer une amélioration, la justifier et la détailler. Habituellement, on appelle cela des **RFC** (*Requests for comments*), et ces demandes sont centralisées dans des documents de spécifications techniques.\n",
    "\n",
    "**PEP** (pour *Python Enhancement Proposals*), c'est justement les propositions d'améliorations pour le langage Python. Et <a href=\"https://www.python.org/dev/peps/pep-0008/\" target=\"_blank\">PEP 8</a>, c'est donc la huitième proposition d'amélioration (ordre chronologique) qui fut émise en juillet 2001. Et PEP 8, dont le nom est **Style Guide for Python Code**, fournit un véritable guide sur diverses bonnes pratiques.\n",
    "\n",
    "- Structurer efficacement son code (espaces, retours à la ligne, taille maximum de ligne).\n",
    "- Adopter les conventions de nommage des variables.\n",
    "- Commenter correctement son code.\n",
    "- Utiliser la Docstring pour créer une documentation (extension via <a href=\"https://www.python.org/dev/peps/pep-0257/\" target=\"_blank\">PEP 257</a>).\n",
    "\n",
    "Suivre la PEP 8, c'est **suivre les recommandations officielles** pour écrire du code qui respecte un format adopté par le plus grand nombre.\n",
    "\n",
    "<div class=\"alert alert-block alert-info\">\n",
    "    Cette norme n'est pas rigide dans le sens où certains projets peuvent s'affranchir de certaines contraintes (comme la taille maximale d'une ligne, fixée à 79 par défaut pour PEP 8).\n",
    "</div>\n",
    "\n",
    "Prenons comme exemple les premières spécifications dans <a href=\"https://www.python.org/dev/peps/pep-0008/#indentation\" target=\"_blank\">Code Lay-out</a> pour l'indentation.\n",
    "\n",
    "<img src=\"https://blent-learning-user-ressources.s3.eu-west-3.amazonaws.com/training/ml_engineer_facebook/img/pep8_1.jpg\" />\n",
    "\n",
    "Cette première règle statue que les arguments d'une fonction, lorsqu'il y a un saut de ligne, doivent être alignés sur la même colonne que celui du premier argument."
   ]
  },
  {
   "cell_type": "code",
   "execution_count": null,
   "metadata": {
    "id": "dd4aa8f55b1d946e"
   },
   "outputs": [],
   "source": [
    "def fonction(a, b, c, d):\n",
    "    return a * b * c * d"
   ]
  },
  {
   "cell_type": "markdown",
   "metadata": {},
   "source": [
    "Supposons que je saute une ligne entre l'argument `b` et l'argument `c` pour appeler cette fonction."
   ]
  },
  {
   "cell_type": "code",
   "execution_count": null,
   "metadata": {
    "id": "6aeb87fee2cd97fb"
   },
   "outputs": [],
   "source": [
    "# Pas bien car les arguments ne sont pas alignés en colonne\n",
    "resultat = fonction(1, 2,\n",
    "                   3, 4)\n",
    "# Bien\n",
    "resultat = fonction(1, 2,\n",
    "                    3, 4)"
   ]
  },
  {
   "cell_type": "markdown",
   "metadata": {},
   "source": [
    "Dans la première écriture, le troisième argument $3$ n'est pas aligné avec le premier argument $1$ alors qu'il y a eu un saut de ligne : elle ne respecte donc pas PEP 8. La deuxième écriture, en revanche, respecte correctement PEP 8 puisque les deux arguments sont alignés à la bonne colonne.\n",
    "\n",
    "Autre exemple, si cette fois-ci nous effectuons un retour à la ligne **en première indentation**."
   ]
  },
  {
   "cell_type": "code",
   "execution_count": null,
   "metadata": {
    "id": "36ee60437f665a02"
   },
   "outputs": [],
   "source": [
    "# Pas bien car les arguments le premier argument n'est pas aligné en colonne du saut de ligne\n",
    "resultat = fonction(1, 2,\n",
    "    3, 4)\n",
    "\n",
    "# Bien\n",
    "resultat = fonction(\n",
    "    1, 2,\n",
    "    3, 4)"
   ]
  },
  {
   "cell_type": "markdown",
   "metadata": {},
   "source": [
    "Ici, même constat, les arguments ne sont pas alignés. Si l'on souhaite donc ramener à une indentation supplémentaire (qui était de base à 0 car la variable `resultat` est à la toute première colonne), il faut donc privilégier la deuxième écriture.\n",
    "\n",
    "Par ailleurs, PEP 8 est strict concernant l'indentation : **utiliser 4 espaces par niveau d'identation**. Même s'il est possible d'utiliser les deux, les espaces constituent la méthode d'indentation préférée.\n",
    "\n",
    "<div class=\"alert alert-block alert-warning\">\n",
    "    Attention à ne pas mélanger le caractère de tabulation et les 4 espaces dans un seul et même fichier, car le programme ne pourra pas être exécuté.\n",
    "</div>\n",
    "\n",
    "Autre exemple de recommandations : **les espaces dans les expressions**. Pour PEP 8, les règles suivantes doivent être respectées.\n",
    "\n",
    "- Toujours un espace après et jamais avant une virgule pour séparer les arguments ou les clés des valeurs.\n",
    "- Jamais d'espace entre les crochets d'une liste ou d'un dictionnaire.\n",
    "- Toujours un espace avant et après les conditions binaires (opérations mathématiques, conditions).\n",
    "- Jamais d'espace avant ou après les parenthèses.\n",
    "\n",
    "Il ne s'agit que de quelques exemples, que l'on retrouve en-dessous."
   ]
  },
  {
   "cell_type": "code",
   "execution_count": null,
   "metadata": {
    "id": "2e5b5dd1b682f18d"
   },
   "outputs": [],
   "source": [
    "l = range(10)\n",
    "\n",
    "# Pas bien\n",
    "var1,var2 = l[1 ],{ 'var' : 4 }\n",
    "\n",
    "# Bien\n",
    "var1, var2 = l[1], {'var': 4}"
   ]
  },
  {
   "cell_type": "markdown",
   "metadata": {},
   "source": [
    "> ❓ Il faut donc toujours relire son code ?\n",
    "\n",
    "En théorie, oui. Mais il y a deux points qui vont nous aider.\n",
    "\n",
    "- En tant qu'humain, nous avons une capacité de mimétisme très développée. À force de regarder des codes propres sur Internet et de pratique soi-même, on finit par adopter automatiquement les bonnes pratiques.\n",
    "- Et comme l'erreur est humaine, on s'allie également d'outils qui vont vérifier si notre code est propre.\n",
    "\n",
    "Et cet outil qui va nous aider, c'est le **linting**."
   ]
  },
  {
   "cell_type": "markdown",
   "metadata": {
    "break": "new"
   },
   "source": [
    "## Linting avec `flake8`\n",
    "\n",
    "Le concept de linting est dérivé un logiciel UNIX qui s'appelle **lint**. Cette commande est utilisée pour le langage C afin d'en faire une **analyse statique**. L'objectif de l'analyse statique, c'est d'obtenir des informations sur le comportement des programmes sans les exécuter. En particulier, cela permet de détecter les erreurs de syntaxe et de style (que l'on retrouve sous plusieurs langages).\n",
    "\n",
    "Sous Python, il existe notamment deux *linter* : `pylint` et `flake8`. Ces linters vont se baser notamment sur PEP 8 (mais pas que) pour détecter les erreurs dans le code. À noter qu'il est aussi possible de définir ses propres spécifications sur des syntaxes ou styles de code à éviter.\n",
    "\n",
    "Créons le fichier `/tmp/flake8_1.py` avec le code suivant."
   ]
  },
  {
   "cell_type": "code",
   "execution_count": null,
   "metadata": {
    "id": "8c40c9ccc3f8e3fb"
   },
   "outputs": [],
   "source": [
    "%%writefile /tmp/flake8_1.py\n",
    "l= range(10 )\n",
    "var1,var2 = l[1 ],{ 'var' : 4 }"
   ]
  },
  {
   "cell_type": "markdown",
   "metadata": {},
   "source": [
    "Combien y a-t-il d'erreurs PEP 8 dans ces deux lignes ? Voyons ce que `flake8` en dit."
   ]
  },
  {
   "cell_type": "code",
   "execution_count": null,
   "metadata": {
    "id": "5d7e7ce31b2bee6d"
   },
   "outputs": [],
   "source": [
    "!flake8 /tmp/flake8_1.py"
   ]
  },
  {
   "cell_type": "markdown",
   "metadata": {},
   "source": [
    "Il y a beaucoup d'erreurs ! Les erreurs `E2XX` sont liées à des espaces, car elles sont majoritairement présentes dans ces deux lignes. L'erreur `E741`, stipule que nommer une variable `l` n'est pas assez explicite (car avec une seule lettre, difficile de savoir à long-terme de quoi il s'agit).\n",
    "\n",
    "Corrigeons toutes ces erreurs."
   ]
  },
  {
   "cell_type": "code",
   "execution_count": null,
   "metadata": {
    "id": "6b5d21fae4ece400"
   },
   "outputs": [],
   "source": [
    "%%writefile /tmp/flake8_1.py\n",
    "liste = range(10)\n",
    "var1, var2 = l[1], {'var': 4}"
   ]
  },
  {
   "cell_type": "markdown",
   "metadata": {},
   "source": [
    "Exécutons à nouveau `flake8`."
   ]
  },
  {
   "cell_type": "code",
   "execution_count": null,
   "metadata": {
    "id": "406bc774b4dda6c6"
   },
   "outputs": [],
   "source": [
    "!flake8 /tmp/flake8_1.py"
   ]
  },
  {
   "cell_type": "markdown",
   "metadata": {},
   "source": [
    "Un nouveau type d'erreur apparaît : `F821`. F signifie Fatal, indiquant que cette erreur empêcherait même l'exécution du programme ! Et pour cause, puisque l'on n'a renommé `l` en `liste`, la variable `l` n'existe pas. Pourtant, on y accède à la deuxième ligne."
   ]
  },
  {
   "cell_type": "code",
   "execution_count": null,
   "metadata": {
    "id": "705081d82d805c2e"
   },
   "outputs": [],
   "source": [
    "%%writefile /tmp/flake8_1.py\n",
    "liste = range(10)\n",
    "var1, var2 = liste[1], {'var': 4}"
   ]
  },
  {
   "cell_type": "code",
   "execution_count": null,
   "metadata": {
    "id": "a627b12e62ce14eb"
   },
   "outputs": [],
   "source": [
    "!flake8 /tmp/flake8_1.py"
   ]
  },
  {
   "cell_type": "markdown",
   "metadata": {},
   "source": [
    "Nous avons maintenant plus aucune erreur. Regardons un autre exemple."
   ]
  },
  {
   "cell_type": "code",
   "execution_count": null,
   "metadata": {
    "id": "9c6148b85c57fd9f"
   },
   "outputs": [],
   "source": [
    "%%writefile /tmp/flake8_2.py\n",
    "import os, sys\n",
    "\n",
    "filename = open(os.path.join(\"/home\", \"/fichier.txt\"))"
   ]
  },
  {
   "cell_type": "code",
   "execution_count": null,
   "metadata": {
    "id": "abb8864971c40299"
   },
   "outputs": [],
   "source": [
    "!flake8 /tmp/flake8_2.py"
   ]
  },
  {
   "cell_type": "markdown",
   "metadata": {},
   "source": [
    "Ici, il y a deux problèmes. Le module `sys` est importé alors qu'il n'est pas utilisé à un seul moment. Ensuite, nous avons effectué plusieurs importations de modules différents sur la même ligne, ce qui n'est pas autorisé par PEP 8."
   ]
  },
  {
   "cell_type": "code",
   "execution_count": null,
   "metadata": {
    "id": "ef1feb009ebd44b8"
   },
   "outputs": [],
   "source": [
    "%%writefile /tmp/flake8_2.py\n",
    "import os\n",
    "import sys\n",
    "\n",
    "filename = open(os.path.join(\"/home\", \"/fichier.txt\"))\n",
    "sys.exit()"
   ]
  },
  {
   "cell_type": "code",
   "execution_count": null,
   "metadata": {
    "id": "6d0beee61e4f53be"
   },
   "outputs": [],
   "source": [
    "!flake8 /tmp/flake8_2.py"
   ]
  },
  {
   "cell_type": "markdown",
   "metadata": {},
   "source": [
    "Là-aussi, les erreurs ont été corrigées.\n",
    "\n",
    "Dans certains cas, il est aussi possible d'exclurer certaines erreurs ou avertissements en invoquant le paramètre `--ignore`. Par exemple, si nous supposons que des importations sur la même ligne sont autorisées, nous pouvons exclurer l'erreur associée, à savoir `E401`."
   ]
  },
  {
   "cell_type": "code",
   "execution_count": null,
   "metadata": {
    "id": "7e6dae1191659c24"
   },
   "outputs": [],
   "source": [
    "%%writefile /tmp/flake8_2.py\n",
    "import os, sys\n",
    "\n",
    "filename = open(os.path.join(\"/home\", \"/fichier.txt\"))"
   ]
  },
  {
   "cell_type": "code",
   "execution_count": null,
   "metadata": {
    "id": "c53cc118be5fd8a8"
   },
   "outputs": [],
   "source": [
    "!flake8 --ignore E401 /tmp/flake8_2.py"
   ]
  },
  {
   "cell_type": "markdown",
   "metadata": {},
   "source": [
    "Ainsi, la présence ou non de cette erreur ne viendra plus perturber l'analyse statique effectuée par `flake8`. La liste détaillée des codes d'erreurs et d'avertissements <a href=\"https://pycodestyle.pycqa.org/en/latest/intro.html#error-codes\" target=\"_blank\">est accessible ici</a>."
   ]
  },
  {
   "cell_type": "markdown",
   "metadata": {
    "break": "new"
   },
   "source": [
    "## Refactoring avec `black`\n",
    "\n",
    "Le **refactoring** (que l'on nomme en français réusinage de code mais avouons que cela est moins classe) consiste à modifier le code source sans ajouter de nouvelles fonctionnalités ni corriger des bugs. Concrètement, dans le cadre de Python, le refactoring va corriger les erreurs PEP 8 qui peuvent être corrigées sans altérer le fonctionnement du code.\n",
    "\n",
    "Par exemple, placer les bons niveaux d'indentation, ajouter ou supprimer des espaces ou encore respecter une taille maximale de caractères par ligne sont des opérations qui peuvent être effectués par du refactoring **de manière automatisée**. En revanche, d'autres comme le nommage des variables ou les importations de librairies nécessitent l'attention du développeur, puisque automatiser ces modifications pourraient, au contraire, générer des erreurs.\n",
    "\n",
    "Sous Python, l'utilitaire `black` permet de refactorer automatiquement un code Python. Par défaut, lorsque c'est possible, `black` va reformater le code d'un fichier Python selon PEP 8, sauf s'il détecte une erreur fatale qu'il ne pourra corriger (dans ce cas, nous serons avertis de l'erreur).\n",
    "\n",
    "Reprenons le code précédent."
   ]
  },
  {
   "cell_type": "code",
   "execution_count": null,
   "metadata": {
    "id": "d65077452fe8402b"
   },
   "outputs": [],
   "source": [
    "%%writefile /tmp/black_1.py\n",
    "l= range(10 )\n",
    "var1,var2 = liste[1 ],{ 'var' : 4 }"
   ]
  },
  {
   "cell_type": "markdown",
   "metadata": {},
   "source": [
    "Pour exécuter `black`, il suffit de renseigner le chemin d'accès au fichier dont on souhaite refactorer le contenu."
   ]
  },
  {
   "cell_type": "code",
   "execution_count": null,
   "metadata": {
    "id": "b8638152ba455640"
   },
   "outputs": [],
   "source": [
    "!black /tmp/black_1.py\n",
    "print(open(\"/tmp/black_1.py\", \"r\").read())"
   ]
  },
  {
   "cell_type": "markdown",
   "metadata": {},
   "source": [
    "D'après ce que nous voyons, le refactoring a fonctionné.\n",
    "\n",
    "> ❓ Pourquoi <code>black</code> n'a pas détecté que la variable <code>liste</code> n'est pas définie ?\n",
    "\n",
    "Tout simplement parce que `black` fait du **refactoring de code** : il ne va pas toucher ou s'intéresser aux noms des variables, aux importations, etc. Ce qui l'intéresse, ce sont les indentations, les espaces ou, de manière générale, l'agencement des caractères.\n",
    "\n",
    "En revanche, d'autres recommandations PEP 8, comme le nommage des variables, ne sera pas modifié par `black`. C'est donc tout l'intérêt ici d'utiliser `black` pour reformater le code, puis ensuite utiliser `flake8` pour vérifier que le code reformaté respecte bien PEP 8.\n",
    "\n",
    "Un autre exemple ici, que nous avions utilisé lors de l'optimisation bayésienne pour LightGBM."
   ]
  },
  {
   "cell_type": "code",
   "execution_count": null,
   "metadata": {
    "id": "7e80254f278f9890"
   },
   "outputs": [],
   "source": [
    "%%writefile /tmp/black_2.py\n",
    "from lightgbm.sklearn import LGBMClassifier\n",
    "from hyperopt import hp, tpe, fmin\n",
    "MODEL_SPECS = {\n",
    "    \"name\": \"LightGBM\",\n",
    "    \"class\": LGBMClassifier,\n",
    "    \"max_evals\": 20,\n",
    "    \"params\": {\n",
    "        \"learning_rate\": hp.uniform(\"learning_rate\", 0.001, 1),\n",
    "        \"num_iterations\": hp.quniform(\"num_iterations\", 100, 1000, 20),\n",
    "        \"max_depth\": hp.quniform(\"max_depth\", 4, 12, 6),\n",
    "        \"num_leaves\": hp.quniform(\"num_leaves\", 8, 128, 10),\n",
    "        \"colsample_bytree\": hp.uniform(\"colsample_bytree\", 0.3, 1),\n",
    "        \"subsample\": hp.uniform(\"subsample\", 0.5, 1),\n",
    "        \"min_child_samples\": hp.quniform(\"min_child_samples\", 1, 20, 10),\n",
    "        \"reg_alpha\": hp.choice(\"reg_alpha\", [0, 1e-1, 1, 2, 5, 10]),\n",
    "        \"reg_lambda\": hp.choice(\"reg_lambda\", [0, 1e-1, 1, 2, 5, 10]),\n",
    "    },\n",
    "    \"override_schemas\": {\n",
    "        \"num_leaves\": int, \"min_child_samples\": int, \"max_depth\": int, \"num_iterations\": int\n",
    "    }\n",
    "}"
   ]
  },
  {
   "cell_type": "code",
   "execution_count": null,
   "metadata": {
    "id": "8f901a127b7175e7"
   },
   "outputs": [],
   "source": [
    "!black /tmp/black_2.py\n",
    "print(open(\"/tmp/black_2.py\", \"r\").read())"
   ]
  },
  {
   "cell_type": "markdown",
   "metadata": {},
   "source": [
    "Ici, `black` a rajouté une ligne entre les importations de librairies et la variable `MODEL_SPECS`. De plus, un retour chariot a été appliqué à chaque clé/valeur du champ `override_schemas`, car la ligne des clés/valeurs dépassait les $79$ caractères.\n",
    "\n",
    "Avec l'argument `-l`, nous avons la possibilité d'ignorer la limitation des $79$ caractères par ligne pour augmenter à une plus grande taille."
   ]
  },
  {
   "cell_type": "code",
   "execution_count": null,
   "metadata": {
    "id": "2930536a0abf0840"
   },
   "outputs": [],
   "source": [
    "%%writefile /tmp/black_2.py\n",
    "from lightgbm.sklearn import LGBMClassifier\n",
    "from hyperopt import hp, tpe, fmin\n",
    "MODEL_SPECS = {\n",
    "    \"name\": \"LightGBM\",\n",
    "    \"class\": LGBMClassifier,\n",
    "    \"max_evals\": 20,\n",
    "    \"params\": {\n",
    "        \"learning_rate\": hp.uniform(\"learning_rate\", 0.001, 1),\n",
    "        \"num_iterations\": hp.quniform(\"num_iterations\", 100, 1000, 20),\n",
    "        \"max_depth\": hp.quniform(\"max_depth\", 4, 12, 6),\n",
    "        \"num_leaves\": hp.quniform(\"num_leaves\", 8, 128, 10),\n",
    "        \"colsample_bytree\": hp.uniform(\"colsample_bytree\", 0.3, 1),\n",
    "        \"subsample\": hp.uniform(\"subsample\", 0.5, 1),\n",
    "        \"min_child_samples\": hp.quniform(\"min_child_samples\", 1, 20, 10),\n",
    "        \"reg_alpha\": hp.choice(\"reg_alpha\", [0, 1e-1, 1, 2, 5, 10]),\n",
    "        \"reg_lambda\": hp.choice(\"reg_lambda\", [0, 1e-1, 1, 2, 5, 10]),\n",
    "    },\n",
    "    \"override_schemas\": {\n",
    "        \"num_leaves\": int, \"min_child_samples\": int, \"max_depth\": int, \"num_iterations\": int\n",
    "    }\n",
    "}"
   ]
  },
  {
   "cell_type": "code",
   "execution_count": null,
   "metadata": {
    "id": "83718ca725921899"
   },
   "outputs": [],
   "source": [
    "# On augmente la taille des lignes à 120\n",
    "!black -l 120 /tmp/black_2.py\n",
    "print(open(\"/tmp/black_2.py\", \"r\").read())"
   ]
  },
  {
   "cell_type": "markdown",
   "metadata": {},
   "source": [
    "En pratique, les projets s'autorisent à outre-passer la limite des $79$ caractères par ligne (`E502`) et ignorent cette erreur."
   ]
  },
  {
   "cell_type": "markdown",
   "metadata": {
    "type": "ending"
   },
   "source": [
    "## ✔️ Conclusion\n",
    "\n",
    "Maintenant, plus aucune raison de ne pas coder proprement !\n",
    "\n",
    "- Nous avons vu la norme PEP 8 et pourquoi il est important de la respecter.\n",
    "- Nous avons vu comment vérifier si un code Python vérifiait les recommandations PEP 8 avec `flake8`.\n",
    "- Nous sommes capable de refactoriser automatiquement un code avec `black`.\n",
    "\n",
    "> ➡️ La prochaine étape, c'est de <b>tester son code et son modèle</b> pour s'assurer que tout fonctionne, aussi bien le code source que le modèle."
   ]
  }
 ],
 "metadata": {
  "celltoolbar": "Éditer les Méta-Données",
  "kernelspec": {
   "display_name": "Python 3",
   "language": "python",
   "name": "python3"
  },
  "language_info": {
   "codemirror_mode": {
    "name": "ipython",
    "version": 3
   },
   "file_extension": ".py",
   "mimetype": "text/x-python",
   "name": "python",
   "nbconvert_exporter": "python",
   "pygments_lexer": "ipython3",
   "version": "3.8.0"
  }
 },
 "nbformat": 4,
 "nbformat_minor": 4
}
